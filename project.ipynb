{
 "cells": [
  {
   "cell_type": "markdown",
   "metadata": {},
   "source": [
    "# 지하철 데이터 분석\n",
    "* 기후동행카드 도입이 대중교통 이용의 증가로 이어졌는가?\n",
    "* 가장 붐비는 시간대\n",
    "\n",
    "# 기타 데이터\n",
    "* \n",
    "* "
   ]
  }
 ],
 "metadata": {
  "language_info": {
   "name": "python"
  }
 },
 "nbformat": 4,
 "nbformat_minor": 2
}
