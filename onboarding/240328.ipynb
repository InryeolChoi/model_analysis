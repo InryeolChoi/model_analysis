{
 "cells": [
  {
   "cell_type": "markdown",
   "metadata": {},
   "source": [
    "# numpy\n",
    "* 파이썬으로 과학 연산을 쉽고 빠르게 할 수 있게 만든 패키지\n",
    "* 0321 + 0328"
   ]
  },
  {
   "cell_type": "markdown",
   "metadata": {},
   "source": [
    "## 1차원 데이터"
   ]
  },
  {
   "cell_type": "code",
   "execution_count": 1,
   "metadata": {},
   "outputs": [],
   "source": [
    "import numpy as np"
   ]
  },
  {
   "cell_type": "code",
   "execution_count": null,
   "metadata": {},
   "outputs": [],
   "source": [
    "list1 = [i for i in range(1, 11)]\n",
    "arr1 = np.array(list1)\n",
    "print(arr1)\n",
    "print(type(arr1))"
   ]
  },
  {
   "cell_type": "code",
   "execution_count": 10,
   "metadata": {},
   "outputs": [
    {
     "data": {
      "text/plain": [
       "dtype('int64')"
      ]
     },
     "execution_count": 10,
     "metadata": {},
     "output_type": "execute_result"
    }
   ],
   "source": [
    "list2 = [0, 1, 2, 5, 3, 4, 5, 6, 7, 8]\n",
    "arr2 = np.array(list2)\n",
    "arr2.dtype"
   ]
  },
  {
   "cell_type": "code",
   "execution_count": null,
   "metadata": {},
   "outputs": [],
   "source": [
    "arr3 = np.arange(0, 9, 1)\n",
    "print(arr3)"
   ]
  },
  {
   "cell_type": "code",
   "execution_count": 14,
   "metadata": {},
   "outputs": [],
   "source": [
    "import random\n",
    "list = [random.randint(1, 100) for _ in range(10)]"
   ]
  },
  {
   "cell_type": "markdown",
   "metadata": {},
   "source": [
    "## 2차원 데이터"
   ]
  },
  {
   "cell_type": "code",
   "execution_count": 12,
   "metadata": {},
   "outputs": [
    {
     "name": "stdout",
     "output_type": "stream",
     "text": [
      "[[1 2 3]\n",
      " [4 5 6]\n",
      " [7 8 9]]\n",
      "[[0 1 2]\n",
      " [3 4 5]\n",
      " [6 7 8]]\n"
     ]
    }
   ],
   "source": [
    "list2 = [[1,2,3], [4,5,6], [7,8,9]]\n",
    "print(np.array(list2).reshape(3, 3))\n",
    "print(np.arange(9).reshape(3, 3))"
   ]
  },
  {
   "cell_type": "code",
   "execution_count": 25,
   "metadata": {},
   "outputs": [
    {
     "name": "stdout",
     "output_type": "stream",
     "text": [
      "int64\n",
      "[51. 20. 26. 36. 46. 37. 30. 14. 78. 91.]\n",
      "float64\n"
     ]
    }
   ],
   "source": [
    "str_a1 = np.array([random.randint(1, 100) for _ in range(10)])\n",
    "print(str_a1.dtype)\n",
    "str_a2 = str_a1.astype(float)\n",
    "print(str_a2)\n",
    "print(str_a2.dtype)"
   ]
  },
  {
   "cell_type": "code",
   "execution_count": 28,
   "metadata": {},
   "outputs": [
    {
     "name": "stdout",
     "output_type": "stream",
     "text": [
      "[0 1 2 5 3 4 5 6 7 8]\n",
      "[200 201 202 205 203 204 205 206 207 208]\n"
     ]
    }
   ],
   "source": [
    "print(arr2)\n",
    "print(arr2 + 200)"
   ]
  },
  {
   "cell_type": "code",
   "execution_count": 33,
   "metadata": {},
   "outputs": [
    {
     "data": {
      "text/plain": [
       "array([1, 2, 3])"
      ]
     },
     "execution_count": 33,
     "metadata": {},
     "output_type": "execute_result"
    }
   ],
   "source": [
    "choi1 = np.array([1.1, 2.1, 3.1])\n",
    "print(choi1.dtype)\n",
    "choi1.astype(int)"
   ]
  },
  {
   "cell_type": "code",
   "execution_count": 36,
   "metadata": {},
   "outputs": [
    {
     "name": "stdout",
     "output_type": "stream",
     "text": [
      "int64\n",
      "[1.1 2.1 3.1]\n"
     ]
    }
   ],
   "source": [
    "choi1 = np.array([1, 2, 3])\n",
    "print(choi1.dtype)\n",
    "choi2 = choi1.astype(float)\n",
    "choi2 = choi2 + 0.1\n",
    "print(choi2)"
   ]
  },
  {
   "cell_type": "markdown",
   "metadata": {},
   "source": [
    "## 행렬/벡터 함수"
   ]
  },
  {
   "cell_type": "code",
   "execution_count": 54,
   "metadata": {},
   "outputs": [
    {
     "name": "stdout",
     "output_type": "stream",
     "text": [
      "[  1.   10.9  20.8  30.7  40.6  50.5  60.4  70.3  80.2  90.1 100. ]\n",
      "[1. 1. 1. 1. 1.]\n",
      "[0. 0. 0.]\n",
      "[0.         0.16534698 0.33069396 0.49604095 0.66138793 0.82673491\n",
      " 0.99208189 1.15742887 1.32277585 1.48812284 1.65346982 1.8188168\n",
      " 1.98416378 2.14951076 2.31485774 2.48020473 2.64555171 2.81089869\n",
      " 2.97624567 3.14159265]\n"
     ]
    }
   ],
   "source": [
    "print(np.linspace(1, 100, 11)) # 등간격 배열 생성\n",
    "print(np.ones(5)) # 1벡터 생성\n",
    "print(np.zeros(3)) # 영벡터 생성\n",
    "\n",
    "print(np.linspace(0, np.pi, 20))"
   ]
  },
  {
   "cell_type": "code",
   "execution_count": 60,
   "metadata": {},
   "outputs": [
    {
     "name": "stdout",
     "output_type": "stream",
     "text": [
      "(array([], dtype=int64),)\n"
     ]
    }
   ],
   "source": [
    "1 in np.arange(3)\n",
    "arr1 = np.array([random.randint(1, 100) for _ in range(10)])\n",
    "print(np.where(arr1 == 1))"
   ]
  },
  {
   "cell_type": "code",
   "execution_count": 63,
   "metadata": {},
   "outputs": [
    {
     "name": "stdout",
     "output_type": "stream",
     "text": [
      "False\n",
      "False\n"
     ]
    }
   ],
   "source": [
    "print(1 in arr1)\n",
    "print(9 in arr1)"
   ]
  },
  {
   "cell_type": "code",
   "execution_count": 75,
   "metadata": {},
   "outputs": [
    {
     "name": "stdout",
     "output_type": "stream",
     "text": [
      "[[10  0  0  0  0]\n",
      " [ 0 11  0  0  0]\n",
      " [ 0  0 12  0  0]\n",
      " [ 0  0  0 13  0]\n",
      " [ 0  0  0  0 14]]\n",
      "[[1. 0. 0. 0. 0.]\n",
      " [0. 1. 0. 0. 0.]\n",
      " [0. 0. 1. 0. 0.]\n",
      " [0. 0. 0. 1. 0.]\n",
      " [0. 0. 0. 0. 1.]]\n",
      "[[1 4]\n",
      " [2 5]\n",
      " [3 6]]\n"
     ]
    }
   ],
   "source": [
    "print(np.diag([10, 11, 12, 13, 14]))\n",
    "print(np.eye(5))\n",
    "\n",
    "mat = np.array([[1, 2, 3],[4, 5, 6]])\n",
    "print(np.transpose(mat))"
   ]
  },
  {
   "cell_type": "markdown",
   "metadata": {},
   "source": [
    "## 연산용 함수"
   ]
  },
  {
   "cell_type": "code",
   "execution_count": 76,
   "metadata": {},
   "outputs": [
    {
     "name": "stdout",
     "output_type": "stream",
     "text": [
      "[10, 2.0, 1.4142135623730951, 2.0, 0, 4, array([ 0,  1,  3,  6, 10]), array([0, 0, 0, 0, 0])]\n"
     ]
    }
   ],
   "source": [
    "arr4 = np.arange(5)\n",
    "info = [arr4.sum(), arr4.mean(), arr4.std(), arr4.var(),\n",
    "        arr4.min(), arr4.max(), arr4.cumsum(), arr4.cumprod()]\n",
    "print(info)"
   ]
  },
  {
   "cell_type": "code",
   "execution_count": 85,
   "metadata": {},
   "outputs": [
    {
     "name": "stdout",
     "output_type": "stream",
     "text": [
      "[[ 6 19]\n",
      " [15 15]]\n",
      "[[14 16]\n",
      " [15  9]]\n",
      "[[369 267]\n",
      " [435 375]]\n"
     ]
    },
    {
     "data": {
      "text/plain": [
       "array([[369, 435],\n",
       "       [267, 375]])"
      ]
     },
     "execution_count": 85,
     "metadata": {},
     "output_type": "execute_result"
    }
   ],
   "source": [
    "A = np.array([random.randint(1, 20) for _ in range(4)]).reshape(2, 2)\n",
    "B = np.array([random.randint(1, 20) for _ in range(4)]).reshape(2, 2)\n",
    "print(A)\n",
    "print(B)\n",
    "\n",
    "# 행렬곱\n",
    "print(A.dot(B))\n",
    "\n",
    "# 역행렬\n",
    "np.linalg.inv(A)\n",
    "\n",
    "# 행렬식\n",
    "np.linalg.det(B)\n",
    "\n",
    "# 전치\n",
    "np.transpose(A.dot(B))"
   ]
  },
  {
   "cell_type": "markdown",
   "metadata": {},
   "source": [
    "## 배열 : 인덱싱/슬라이싱"
   ]
  },
  {
   "cell_type": "code",
   "execution_count": 126,
   "metadata": {},
   "outputs": [
    {
     "name": "stdout",
     "output_type": "stream",
     "text": [
      "[[10 20 30]\n",
      " [40 50 60]\n",
      " [70 80 90]]\n",
      "30\n",
      "[[10 20 10]\n",
      " [40 50 60]\n",
      " [70 80 90]]\n",
      "[[70 80 90]]\n"
     ]
    }
   ],
   "source": [
    "a2 = np.array([i for i in range(10, 100, 10)]).reshape(3,3)\n",
    "print(a2)\n",
    "print(a2[0,2])\n",
    "if a2[0,2] > 0:\n",
    "    a2[0,2] = 10\n",
    "print(a2)\n",
    "print(a2[2:])"
   ]
  },
  {
   "cell_type": "code",
   "execution_count": 127,
   "metadata": {},
   "outputs": [
    {
     "name": "stdout",
     "output_type": "stream",
     "text": [
      "[[ 1  2  3  4  5]\n",
      " [ 6  7  8  9 10]]\n",
      "[[ 1.  2.  3.  4.  5.]\n",
      " [ 6.  7.  8.  9. 10.]]\n",
      "<class 'numpy.ndarray'>\n",
      "[1. 2. 3. 4. 5.]\n",
      "[1. 6.]\n",
      "15.0\n",
      "[[ 1  2  3]\n",
      " [ 4  5  6]\n",
      " [ 7  8 94]]\n"
     ]
    }
   ],
   "source": [
    "print(np.array([i for i in range(1, 11)]).reshape(2, 5))\n",
    "arr3 = np.linspace(1, 10, 10).reshape(2, 5)\n",
    "print(arr3)\n",
    "print(type(arr3))\n",
    "print(arr3[0, :])\n",
    "print(arr3[:, 0])\n",
    "print(arr3[0].sum())"
   ]
  },
  {
   "cell_type": "code",
   "execution_count": 135,
   "metadata": {},
   "outputs": [
    {
     "data": {
      "text/plain": [
       "array([3, 6, 3])"
      ]
     },
     "execution_count": 135,
     "metadata": {},
     "output_type": "execute_result"
    }
   ],
   "source": [
    "arr5 = np.array([i for i in range(1, 10)]).reshape(3, 3)\n",
    "arr5[2,:] = [1, 2, 3]\n",
    "# arr5[,2] -> 이렇게는 못 쓴다.\n",
    "arr5[:,2]"
   ]
  },
  {
   "cell_type": "code",
   "execution_count": 143,
   "metadata": {},
   "outputs": [
    {
     "name": "stdout",
     "output_type": "stream",
     "text": [
      "[102 135 168]\n",
      "[ 36 135 234]\n"
     ]
    }
   ],
   "source": [
    "arr6 = np.array([i for i in range(1, 100, 11)]).reshape(3, 3)\n",
    "print(arr6.sum(axis=0))\n",
    "print(arr6.sum(axis=1))"
   ]
  }
 ],
 "metadata": {
  "kernelspec": {
   "display_name": "Python 3",
   "language": "python",
   "name": "python3"
  },
  "language_info": {
   "codemirror_mode": {
    "name": "ipython",
    "version": 3
   },
   "file_extension": ".py",
   "mimetype": "text/x-python",
   "name": "python",
   "nbconvert_exporter": "python",
   "pygments_lexer": "ipython3",
   "version": "3.10.13"
  }
 },
 "nbformat": 4,
 "nbformat_minor": 2
}
