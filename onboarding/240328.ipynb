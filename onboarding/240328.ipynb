{
 "cells": [
  {
   "cell_type": "markdown",
   "metadata": {},
   "source": [
    "# 온보딩 (4) : numpy\n",
    "* 파이썬으로 과학 연산을 쉽고 빠르게 할 수 있게 만든 패키지\n",
    "* 0321 + 0328"
   ]
  },
  {
   "cell_type": "markdown",
   "metadata": {},
   "source": [
    "## 1차원 데이터"
   ]
  },
  {
   "cell_type": "code",
   "execution_count": 7,
   "metadata": {},
   "outputs": [],
   "source": [
    "import numpy as np"
   ]
  },
  {
   "cell_type": "code",
   "execution_count": 8,
   "metadata": {},
   "outputs": [
    {
     "name": "stdout",
     "output_type": "stream",
     "text": [
      "[ 1  2  3  4  5  6  7  8  9 10]\n",
      "<class 'numpy.ndarray'>\n"
     ]
    }
   ],
   "source": [
    "list1 = [i for i in range(1, 11)]\n",
    "arr1 = np.array(list1)\n",
    "print(arr1)\n",
    "print(type(arr1))"
   ]
  },
  {
   "cell_type": "code",
   "execution_count": 9,
   "metadata": {},
   "outputs": [
    {
     "data": {
      "text/plain": [
       "dtype('int64')"
      ]
     },
     "execution_count": 9,
     "metadata": {},
     "output_type": "execute_result"
    }
   ],
   "source": [
    "list2 = [0, 1, 2, 5, 3, 4, 5, 6, 7, 8]\n",
    "arr2 = np.array(list2)\n",
    "arr2.dtype"
   ]
  },
  {
   "cell_type": "code",
   "execution_count": 10,
   "metadata": {},
   "outputs": [
    {
     "name": "stdout",
     "output_type": "stream",
     "text": [
      "[0 1 2 3 4 5 6 7 8]\n"
     ]
    }
   ],
   "source": [
    "arr3 = np.arange(0, 9, 1)\n",
    "print(arr3)"
   ]
  },
  {
   "cell_type": "code",
   "execution_count": 11,
   "metadata": {},
   "outputs": [],
   "source": [
    "import random\n",
    "list = [random.randint(1, 100) for _ in range(10)]"
   ]
  },
  {
   "cell_type": "markdown",
   "metadata": {},
   "source": [
    "## 2차원 데이터"
   ]
  },
  {
   "cell_type": "code",
   "execution_count": 12,
   "metadata": {},
   "outputs": [
    {
     "name": "stdout",
     "output_type": "stream",
     "text": [
      "[[1 2 3]\n",
      " [4 5 6]\n",
      " [7 8 9]]\n",
      "[[0 1 2]\n",
      " [3 4 5]\n",
      " [6 7 8]]\n"
     ]
    }
   ],
   "source": [
    "list2 = [[1,2,3], [4,5,6], [7,8,9]]\n",
    "print(np.array(list2).reshape(3, 3))\n",
    "print(np.arange(9).reshape(3, 3))"
   ]
  },
  {
   "cell_type": "code",
   "execution_count": 13,
   "metadata": {},
   "outputs": [
    {
     "name": "stdout",
     "output_type": "stream",
     "text": [
      "int64\n",
      "[ 2. 55. 92. 38. 29. 48. 92. 20. 22.  7.]\n",
      "float64\n"
     ]
    }
   ],
   "source": [
    "str_a1 = np.array([random.randint(1, 100) for _ in range(10)])\n",
    "print(str_a1.dtype)\n",
    "str_a2 = str_a1.astype(float)\n",
    "print(str_a2)\n",
    "print(str_a2.dtype)"
   ]
  },
  {
   "cell_type": "code",
   "execution_count": 14,
   "metadata": {},
   "outputs": [
    {
     "name": "stdout",
     "output_type": "stream",
     "text": [
      "[0 1 2 5 3 4 5 6 7 8]\n",
      "[200 201 202 205 203 204 205 206 207 208]\n"
     ]
    }
   ],
   "source": [
    "print(arr2)\n",
    "print(arr2 + 200)"
   ]
  },
  {
   "cell_type": "code",
   "execution_count": 15,
   "metadata": {},
   "outputs": [
    {
     "name": "stdout",
     "output_type": "stream",
     "text": [
      "float64\n"
     ]
    },
    {
     "data": {
      "text/plain": [
       "array([1, 2, 3])"
      ]
     },
     "execution_count": 15,
     "metadata": {},
     "output_type": "execute_result"
    }
   ],
   "source": [
    "choi1 = np.array([1.1, 2.1, 3.1])\n",
    "print(choi1.dtype)\n",
    "choi1.astype(int)"
   ]
  },
  {
   "cell_type": "code",
   "execution_count": 16,
   "metadata": {},
   "outputs": [
    {
     "name": "stdout",
     "output_type": "stream",
     "text": [
      "int64\n",
      "[1.1 2.1 3.1]\n"
     ]
    }
   ],
   "source": [
    "choi1 = np.array([1, 2, 3])\n",
    "print(choi1.dtype)\n",
    "choi2 = choi1.astype(float)\n",
    "choi2 = choi2 + 0.1\n",
    "print(choi2)"
   ]
  },
  {
   "cell_type": "markdown",
   "metadata": {},
   "source": [
    "## 행렬/벡터 함수"
   ]
  },
  {
   "cell_type": "code",
   "execution_count": 17,
   "metadata": {},
   "outputs": [
    {
     "name": "stdout",
     "output_type": "stream",
     "text": [
      "[  1.   10.9  20.8  30.7  40.6  50.5  60.4  70.3  80.2  90.1 100. ]\n",
      "[1. 1. 1. 1. 1.]\n",
      "[0. 0. 0.]\n",
      "[0.         0.16534698 0.33069396 0.49604095 0.66138793 0.82673491\n",
      " 0.99208189 1.15742887 1.32277585 1.48812284 1.65346982 1.8188168\n",
      " 1.98416378 2.14951076 2.31485774 2.48020473 2.64555171 2.81089869\n",
      " 2.97624567 3.14159265]\n"
     ]
    }
   ],
   "source": [
    "print(np.linspace(1, 100, 11)) # 등간격 배열 생성\n",
    "print(np.ones(5)) # 1벡터 생성\n",
    "print(np.zeros(3)) # 영벡터 생성\n",
    "\n",
    "print(np.linspace(0, np.pi, 20))"
   ]
  },
  {
   "cell_type": "code",
   "execution_count": 18,
   "metadata": {},
   "outputs": [
    {
     "name": "stdout",
     "output_type": "stream",
     "text": [
      "(array([], dtype=int64),)\n"
     ]
    }
   ],
   "source": [
    "1 in np.arange(3)\n",
    "arr1 = np.array([random.randint(1, 100) for _ in range(10)])\n",
    "print(np.where(arr1 == 1))"
   ]
  },
  {
   "cell_type": "code",
   "execution_count": 19,
   "metadata": {},
   "outputs": [
    {
     "name": "stdout",
     "output_type": "stream",
     "text": [
      "False\n",
      "False\n"
     ]
    }
   ],
   "source": [
    "print(1 in arr1)\n",
    "print(9 in arr1)"
   ]
  },
  {
   "cell_type": "code",
   "execution_count": 20,
   "metadata": {},
   "outputs": [
    {
     "name": "stdout",
     "output_type": "stream",
     "text": [
      "[[10  0  0  0  0]\n",
      " [ 0 11  0  0  0]\n",
      " [ 0  0 12  0  0]\n",
      " [ 0  0  0 13  0]\n",
      " [ 0  0  0  0 14]]\n",
      "[[1. 0. 0. 0. 0.]\n",
      " [0. 1. 0. 0. 0.]\n",
      " [0. 0. 1. 0. 0.]\n",
      " [0. 0. 0. 1. 0.]\n",
      " [0. 0. 0. 0. 1.]]\n",
      "[[1 4]\n",
      " [2 5]\n",
      " [3 6]]\n"
     ]
    }
   ],
   "source": [
    "print(np.diag([10, 11, 12, 13, 14]))\n",
    "print(np.eye(5))\n",
    "\n",
    "mat = np.array([[1, 2, 3],[4, 5, 6]])\n",
    "print(np.transpose(mat))"
   ]
  },
  {
   "cell_type": "markdown",
   "metadata": {},
   "source": [
    "## 연산용 함수"
   ]
  },
  {
   "cell_type": "code",
   "execution_count": 21,
   "metadata": {},
   "outputs": [
    {
     "name": "stdout",
     "output_type": "stream",
     "text": [
      "[10, 2.0, 1.4142135623730951, 2.0, 0, 4, array([ 0,  1,  3,  6, 10]), array([0, 0, 0, 0, 0])]\n"
     ]
    }
   ],
   "source": [
    "arr4 = np.arange(5)\n",
    "info = [arr4.sum(), arr4.mean(), arr4.std(), arr4.var(),\n",
    "        arr4.min(), arr4.max(), arr4.cumsum(), arr4.cumprod()]\n",
    "print(info)"
   ]
  },
  {
   "cell_type": "code",
   "execution_count": 22,
   "metadata": {},
   "outputs": [
    {
     "name": "stdout",
     "output_type": "stream",
     "text": [
      "[[ 3 19]\n",
      " [ 6 10]]\n",
      "[[14  1]\n",
      " [16 16]]\n",
      "[[346 307]\n",
      " [244 166]]\n"
     ]
    },
    {
     "data": {
      "text/plain": [
       "array([[346, 244],\n",
       "       [307, 166]])"
      ]
     },
     "execution_count": 22,
     "metadata": {},
     "output_type": "execute_result"
    }
   ],
   "source": [
    "A = np.array([random.randint(1, 20) for _ in range(4)]).reshape(2, 2)\n",
    "B = np.array([random.randint(1, 20) for _ in range(4)]).reshape(2, 2)\n",
    "print(A)\n",
    "print(B)\n",
    "\n",
    "# 행렬곱\n",
    "print(A.dot(B))\n",
    "\n",
    "# 역행렬\n",
    "np.linalg.inv(A)\n",
    "\n",
    "# 행렬식\n",
    "np.linalg.det(B)\n",
    "\n",
    "# 전치\n",
    "np.transpose(A.dot(B))"
   ]
  },
  {
   "cell_type": "markdown",
   "metadata": {},
   "source": [
    "## 배열 : 인덱싱"
   ]
  },
  {
   "cell_type": "code",
   "execution_count": 23,
   "metadata": {},
   "outputs": [
    {
     "name": "stdout",
     "output_type": "stream",
     "text": [
      "[[10 20 30]\n",
      " [40 50 60]\n",
      " [70 80 90]]\n",
      "30\n",
      "[[10 20 10]\n",
      " [40 50 60]\n",
      " [70 80 90]]\n",
      "[[70 80 90]]\n"
     ]
    }
   ],
   "source": [
    "a2 = np.array([i for i in range(10, 100, 10)]).reshape(3,3)\n",
    "print(a2)\n",
    "print(a2[0,2])\n",
    "if a2[0,2] > 0:\n",
    "    a2[0,2] = 10\n",
    "print(a2)\n",
    "print(a2[2:])"
   ]
  },
  {
   "cell_type": "code",
   "execution_count": 24,
   "metadata": {},
   "outputs": [
    {
     "name": "stdout",
     "output_type": "stream",
     "text": [
      "[[ 1  2  3  4  5]\n",
      " [ 6  7  8  9 10]]\n",
      "[[ 1.  2.  3.  4.  5.]\n",
      " [ 6.  7.  8.  9. 10.]]\n",
      "<class 'numpy.ndarray'>\n",
      "[1. 2. 3. 4. 5.]\n",
      "[1. 6.]\n",
      "15.0\n"
     ]
    }
   ],
   "source": [
    "print(np.array([i for i in range(1, 11)]).reshape(2, 5))\n",
    "arr3 = np.linspace(1, 10, 10).reshape(2, 5)\n",
    "print(arr3)\n",
    "print(type(arr3))\n",
    "print(arr3[0, :])\n",
    "print(arr3[:, 0])\n",
    "print(arr3[0].sum())"
   ]
  },
  {
   "cell_type": "code",
   "execution_count": 25,
   "metadata": {},
   "outputs": [
    {
     "name": "stdout",
     "output_type": "stream",
     "text": [
      "int64\n"
     ]
    },
    {
     "data": {
      "text/plain": [
       "array([3, 6, 3])"
      ]
     },
     "execution_count": 25,
     "metadata": {},
     "output_type": "execute_result"
    }
   ],
   "source": [
    "arr5 = np.array([i for i in range(1, 10)]).reshape(3, 3)\n",
    "print(arr5.dtype)\n",
    "arr5[2,:] = [1, 2, 3]\n",
    "# arr5[,2] -> 이렇게는 못 쓴다.\n",
    "arr5[:,2]"
   ]
  },
  {
   "cell_type": "code",
   "execution_count": 26,
   "metadata": {},
   "outputs": [
    {
     "name": "stdout",
     "output_type": "stream",
     "text": [
      "[102 135 168]\n",
      "[ 36 135 234]\n"
     ]
    }
   ],
   "source": [
    "arr6 = np.array([i for i in range(1, 100, 11)]).reshape(3, 3)\n",
    "print(arr6.sum(axis=0))\n",
    "print(arr6.sum(axis=1))"
   ]
  },
  {
   "cell_type": "code",
   "execution_count": 27,
   "metadata": {},
   "outputs": [
    {
     "name": "stdout",
     "output_type": "stream",
     "text": [
      "before : [ 1.  2.  3.  4.  5.  6.  7.  8.  9. 10.]\n",
      "before : [[ 1.  2.  3.  4.  5.]\n",
      " [ 6.  7.  8.  9. 10.]]\n"
     ]
    }
   ],
   "source": [
    "arr6 = np.linspace(1, 10, 10)\n",
    "print(f\"before : {arr6}\")\n",
    "arr6.shape = (2,-1)\n",
    "print(f\"before : {arr6}\")"
   ]
  },
  {
   "cell_type": "code",
   "execution_count": 28,
   "metadata": {},
   "outputs": [
    {
     "name": "stdout",
     "output_type": "stream",
     "text": [
      "8.0\n",
      "[1. 2. 3. 4. 5.]\n",
      "[ 7.  9. 11. 13. 15.]\n",
      "[15. 40.]\n",
      "[ 4.  5.  6.  7.  8.  9. 10.]\n",
      "[ 2.  4.  6.  8. 10.]\n",
      "[1. 3. 5. 7. 9.]\n"
     ]
    }
   ],
   "source": [
    "print(arr6[1,2])\n",
    "print(arr6[0,:])\n",
    "print(arr6.sum(axis = 0))\n",
    "print(arr6.sum(axis = 1))\n",
    "print(arr6[arr6 > 3])\n",
    "print(arr6[(arr6 % 2) == 0])\n",
    "print(arr6[(arr6 % 2) == 1])"
   ]
  },
  {
   "cell_type": "markdown",
   "metadata": {},
   "source": [
    "## 배열 : 슬라이싱"
   ]
  },
  {
   "cell_type": "markdown",
   "metadata": {},
   "source": [
    "### 1차원 데이터"
   ]
  },
  {
   "cell_type": "code",
   "execution_count": 29,
   "metadata": {},
   "outputs": [
    {
     "data": {
      "text/plain": [
       "array([ 0, 10, 20, 30, 40, 50])"
      ]
     },
     "execution_count": 29,
     "metadata": {},
     "output_type": "execute_result"
    }
   ],
   "source": [
    "b1 = np.array([i for i in range(0, 60, 10)])\n",
    "b1"
   ]
  },
  {
   "cell_type": "code",
   "execution_count": 30,
   "metadata": {},
   "outputs": [
    {
     "name": "stdout",
     "output_type": "stream",
     "text": [
      "[ 0 10 25 35 45 50]\n"
     ]
    }
   ],
   "source": [
    "b1[2:5] = np.array([25, 35, 45])\n",
    "print(b1)"
   ]
  },
  {
   "cell_type": "code",
   "execution_count": 31,
   "metadata": {},
   "outputs": [
    {
     "name": "stdout",
     "output_type": "stream",
     "text": [
      "[ 0 10 25 60 60 60]\n"
     ]
    }
   ],
   "source": [
    "b1[3:6] = 60\n",
    "print(b1)"
   ]
  },
  {
   "cell_type": "markdown",
   "metadata": {},
   "source": [
    "### 2차원 데이터"
   ]
  },
  {
   "cell_type": "code",
   "execution_count": 32,
   "metadata": {},
   "outputs": [
    {
     "name": "stdout",
     "output_type": "stream",
     "text": [
      "[[10 20 30]\n",
      " [40 50 60]\n",
      " [70 80 90]]\n",
      "\n",
      "[40 50 60]\n",
      "\n",
      "[[10 20 30]\n",
      " [40 50 60]]\n",
      "\n",
      "[40 50]\n",
      "\n",
      "[[10  2  3]\n",
      " [40  4  5]\n",
      " [70 80 90]]\n"
     ]
    }
   ],
   "source": [
    "b2 = np.arange(10, 100, 10).reshape(3,3)\n",
    "print(b2, end=\"\\n\\n\")\n",
    "print(b2[1], end=\"\\n\\n\")\n",
    "print(b2[0:2], end=\"\\n\\n\")\n",
    "print(b2[1][0:2], end=\"\\n\\n\")\n",
    "\n",
    "b2[0:2, 1:3] = np.array([[2, 3], [4, 5]])\n",
    "print(b2)"
   ]
  },
  {
   "cell_type": "markdown",
   "metadata": {},
   "source": [
    "# 온보딩 (5) : pandas\n",
    "\n",
    "* 넘파이를 기반으로 만들어진 라이브러리\n",
    "* 패널 형식의 데이터를 다루는 라이브러리"
   ]
  },
  {
   "cell_type": "markdown",
   "metadata": {},
   "source": [
    "## 판다스의 구조\n",
    "1. Series\n",
    "    * 1차원 구조의 데이터\n",
    "    * 벡터 형태\n",
    "2. Dataframe\n",
    "    * 2차원 구조의 데이터\n",
    "    * pandas 라이브러리의 dataframe 형식으로 가져와 data를 저장 및 가공\n",
    "3. Panel\n",
    "    * 3차원 구조의 데이터"
   ]
  },
  {
   "cell_type": "code",
   "execution_count": 33,
   "metadata": {},
   "outputs": [
    {
     "name": "stderr",
     "output_type": "stream",
     "text": [
      "/tmp/ipykernel_11960/2162656668.py:1: DeprecationWarning: \n",
      "Pyarrow will become a required dependency of pandas in the next major release of pandas (pandas 3.0),\n",
      "(to allow more performant data types, such as the Arrow string type, and better interoperability with other libraries)\n",
      "but was not found to be installed on your system.\n",
      "If this would cause problems for you,\n",
      "please provide us feedback at https://github.com/pandas-dev/pandas/issues/54466\n",
      "        \n",
      "  import pandas as pd\n"
     ]
    }
   ],
   "source": [
    "import pandas as pd\n",
    "import numpy as np"
   ]
  },
  {
   "cell_type": "markdown",
   "metadata": {},
   "source": [
    "## Series()\n",
    "* 시퀸스 데이터가 들어가야 함\n",
    "* 주로 리스트를 많이 씀.\n",
    "* 꼭 자료형이 같을 필요가 없음."
   ]
  },
  {
   "cell_type": "code",
   "execution_count": 34,
   "metadata": {},
   "outputs": [
    {
     "name": "stdout",
     "output_type": "stream",
     "text": [
      "0    10\n",
      "1    20\n",
      "2    30\n",
      "3    40\n",
      "4    50\n",
      "dtype: int64\n",
      "RangeIndex(start=0, stop=5, step=1)\n"
     ]
    }
   ],
   "source": [
    "s1 = pd.Series([i for i in range(10, 60, 10)])\n",
    "print(s1)\n",
    "print(s1.index)"
   ]
  },
  {
   "cell_type": "code",
   "execution_count": 35,
   "metadata": {},
   "outputs": [
    {
     "data": {
      "text/plain": [
       "array([10, 20, 30, 40, 50])"
      ]
     },
     "execution_count": 35,
     "metadata": {},
     "output_type": "execute_result"
    }
   ],
   "source": [
    "s1.values"
   ]
  },
  {
   "cell_type": "code",
   "execution_count": 36,
   "metadata": {},
   "outputs": [
    {
     "data": {
      "text/plain": [
       "0    a\n",
       "1    b\n",
       "2    c\n",
       "3    d\n",
       "4    1\n",
       "5    2\n",
       "6    3\n",
       "dtype: object"
      ]
     },
     "execution_count": 36,
     "metadata": {},
     "output_type": "execute_result"
    }
   ],
   "source": [
    "# 리스트 타입으로 정의. 자료형이 다를 수도 있음.\n",
    "s2 = pd.Series(['a', 'b', 'c', 'd', 1, 2, 3])\n",
    "s2"
   ]
  },
  {
   "cell_type": "markdown",
   "metadata": {},
   "source": [
    "### missing data\n",
    "* pandas에서는 지원하지 않음\n",
    "* numpy 객체의 멤버변수인 nan을 써야 함."
   ]
  },
  {
   "cell_type": "code",
   "execution_count": 37,
   "metadata": {},
   "outputs": [
    {
     "data": {
      "text/plain": [
       "0     NaN\n",
       "1    10.0\n",
       "2    30.0\n",
       "dtype: float64"
      ]
     },
     "execution_count": 37,
     "metadata": {},
     "output_type": "execute_result"
    }
   ],
   "source": [
    "s3 = pd.Series([np.nan, 10, 30])\n",
    "s3"
   ]
  },
  {
   "cell_type": "markdown",
   "metadata": {},
   "source": [
    "### Series()를 통한 데이터 생성\n",
    "* 함수의 구조 = ```pd.Series(seq_data, index=index_seq)```\n",
    "* index_seq를 집어넣어서 데이터를 만들어보자.\n",
    "* ex. 어느 가게의 날짜별 판매량을 pandas의 Series 형식으로 입력해보자.\n",
    "* 판매량 데이터가 없는 날은 np.nan으로 설정."
   ]
  },
  {
   "cell_type": "code",
   "execution_count": 38,
   "metadata": {},
   "outputs": [
    {
     "data": {
      "text/plain": [
       "2018-10-07    200.0\n",
       "2018-10-08    195.0\n",
       "2018-10-09      NaN\n",
       "2018-10-10    205.0\n",
       "dtype: float64"
      ]
     },
     "execution_count": 38,
     "metadata": {},
     "output_type": "execute_result"
    }
   ],
   "source": [
    "index_date = ['2018-10-07', '2018-10-08', '2018-10-09', '2018-10-10']\n",
    "s4 = pd.Series([200, 195, np.nan, 205], index=index_date)\n",
    "s4"
   ]
  },
  {
   "cell_type": "code",
   "execution_count": 39,
   "metadata": {},
   "outputs": [
    {
     "data": {
      "text/plain": [
       "국어    100\n",
       "영어     95\n",
       "수학     90\n",
       "dtype: int64"
      ]
     },
     "execution_count": 39,
     "metadata": {},
     "output_type": "execute_result"
    }
   ],
   "source": [
    "s5 = pd.Series({'국어':100, '영어':95, '수학':90})\n",
    "s5"
   ]
  },
  {
   "cell_type": "code",
   "execution_count": 40,
   "metadata": {},
   "outputs": [
    {
     "data": {
      "text/plain": [
       "Index(['국어', '영어', '수학'], dtype='object')"
      ]
     },
     "execution_count": 40,
     "metadata": {},
     "output_type": "execute_result"
    }
   ],
   "source": [
    "s5.index"
   ]
  },
  {
   "cell_type": "code",
   "execution_count": 41,
   "metadata": {},
   "outputs": [
    {
     "data": {
      "text/plain": [
       "array([100,  95,  90])"
      ]
     },
     "execution_count": 41,
     "metadata": {},
     "output_type": "execute_result"
    }
   ],
   "source": [
    "s5.values"
   ]
  },
  {
   "cell_type": "markdown",
   "metadata": {},
   "source": [
    "## 날짜변수 다루기\n",
    "* 원하는 날짜를 자동으로 생성해주는 함수\n",
    "* ```pd.date_range()``` 사용해서 만들어보기"
   ]
  },
  {
   "cell_type": "code",
   "execution_count": 42,
   "metadata": {},
   "outputs": [],
   "source": [
    "TODAY = '2019-01-01'\n",
    "FINISH = '2019-01-07'"
   ]
  },
  {
   "cell_type": "code",
   "execution_count": 43,
   "metadata": {},
   "outputs": [
    {
     "data": {
      "text/plain": [
       "DatetimeIndex(['2019-01-01', '2019-01-02', '2019-01-03', '2019-01-04',\n",
       "               '2019-01-05', '2019-01-06', '2019-01-07'],\n",
       "              dtype='datetime64[ns]', freq='D')"
      ]
     },
     "execution_count": 43,
     "metadata": {},
     "output_type": "execute_result"
    }
   ],
   "source": [
    "pd.date_range(start = TODAY, end= '2019-01-07')"
   ]
  },
  {
   "cell_type": "markdown",
   "metadata": {},
   "source": [
    "날짜 입력 시 기입 방법\n",
    "* yyyy-mm-dd 방식 (제일 기본)\n",
    "* yyyy/mm/dd\n",
    "* yyyy.mm.dd\n",
    "* mm-dd-yyyy\n",
    "* mm/dd/yyyy\n",
    "* mm.dd.yyyy"
   ]
  },
  {
   "cell_type": "code",
   "execution_count": 44,
   "metadata": {},
   "outputs": [
    {
     "data": {
      "text/plain": [
       "DatetimeIndex(['2019-01-01', '2019-01-02', '2019-01-03', '2019-01-04',\n",
       "               '2019-01-05', '2019-01-06', '2019-01-07'],\n",
       "              dtype='datetime64[ns]', freq='D')"
      ]
     },
     "execution_count": 44,
     "metadata": {},
     "output_type": "execute_result"
    }
   ],
   "source": [
    "pd.date_range(start='2019-01-01', end='2019/01/07')"
   ]
  },
  {
   "cell_type": "code",
   "execution_count": 45,
   "metadata": {},
   "outputs": [
    {
     "data": {
      "text/plain": [
       "DatetimeIndex(['2019-01-01', '2019-01-02', '2019-01-03', '2019-01-04',\n",
       "               '2019-01-05', '2019-01-06', '2019-01-07'],\n",
       "              dtype='datetime64[ns]', freq='D')"
      ]
     },
     "execution_count": 45,
     "metadata": {},
     "output_type": "execute_result"
    }
   ],
   "source": [
    "pd.date_range(start='01-01-2019', end='01-07-2019')"
   ]
  },
  {
   "cell_type": "code",
   "execution_count": 46,
   "metadata": {},
   "outputs": [
    {
     "data": {
      "text/plain": [
       "DatetimeIndex(['2019-01-01', '2019-01-02', '2019-01-03', '2019-01-04',\n",
       "               '2019-01-05', '2019-01-06', '2019-01-07'],\n",
       "              dtype='datetime64[ns]', freq='D')"
      ]
     },
     "execution_count": 46,
     "metadata": {},
     "output_type": "execute_result"
    }
   ],
   "source": [
    "pd.date_range(start='01/01/2019', end='01/07/2019')"
   ]
  },
  {
   "cell_type": "code",
   "execution_count": 47,
   "metadata": {},
   "outputs": [
    {
     "data": {
      "text/plain": [
       "DatetimeIndex(['2019-01-01', '2019-01-02', '2019-01-03', '2019-01-04',\n",
       "               '2019-01-05', '2019-01-06', '2019-01-07'],\n",
       "              dtype='datetime64[ns]', freq='D')"
      ]
     },
     "execution_count": 47,
     "metadata": {},
     "output_type": "execute_result"
    }
   ],
   "source": [
    "pd.date_range(start='01.01.2019', end='01.07.2019')"
   ]
  },
  {
   "cell_type": "markdown",
   "metadata": {},
   "source": [
    "### 날짜 조정 함수"
   ]
  },
  {
   "cell_type": "code",
   "execution_count": 48,
   "metadata": {},
   "outputs": [
    {
     "data": {
      "text/plain": [
       "DatetimeIndex(['2024-04-04', '2024-04-05', '2024-04-06', '2024-04-07',\n",
       "               '2024-04-08', '2024-04-09', '2024-04-10', '2024-04-11'],\n",
       "              dtype='datetime64[ns]', freq='D')"
      ]
     },
     "execution_count": 48,
     "metadata": {},
     "output_type": "execute_result"
    }
   ],
   "source": [
    "# 오늘부터 7일 후의 날짜를 가져오기.\n",
    "today_date = pd.to_datetime('today').date()\n",
    "later_date = today_date + pd.Timedelta(days=7)\n",
    "\n",
    "pd.date_range(start=today_date, end=later_date)"
   ]
  },
  {
   "cell_type": "markdown",
   "metadata": {},
   "source": [
    "### date_range() : periods\n",
    "* 파라미터 end와 같이 쓰면 안됨"
   ]
  },
  {
   "cell_type": "code",
   "execution_count": 49,
   "metadata": {},
   "outputs": [
    {
     "data": {
      "text/plain": [
       "DatetimeIndex(['2024-04-04', '2024-04-05', '2024-04-06', '2024-04-07',\n",
       "               '2024-04-08', '2024-04-09', '2024-04-10', '2024-04-11'],\n",
       "              dtype='datetime64[ns]', freq='D')"
      ]
     },
     "execution_count": 49,
     "metadata": {},
     "output_type": "execute_result"
    }
   ],
   "source": [
    "pd.date_range(start = pd.to_datetime('today').date(), periods=8)"
   ]
  },
  {
   "cell_type": "code",
   "execution_count": 50,
   "metadata": {},
   "outputs": [
    {
     "data": {
      "text/plain": [
       "DatetimeIndex(['2019-01-01', '2019-01-02', '2019-01-03', '2019-01-04',\n",
       "               '2019-01-05', '2019-01-06', '2019-01-07'],\n",
       "              dtype='datetime64[ns]', freq='D')"
      ]
     },
     "execution_count": 50,
     "metadata": {},
     "output_type": "execute_result"
    }
   ],
   "source": [
    "pd.date_range(start=TODAY, end=FINISH, freq='D')"
   ]
  },
  {
   "cell_type": "markdown",
   "metadata": {},
   "source": [
    "### date_range() : freq"
   ]
  },
  {
   "cell_type": "code",
   "execution_count": 51,
   "metadata": {},
   "outputs": [
    {
     "data": {
      "text/plain": [
       "DatetimeIndex(['2024-04-04', '2024-04-06', '2024-04-08', '2024-04-10',\n",
       "               '2024-04-12', '2024-04-14', '2024-04-16', '2024-04-18'],\n",
       "              dtype='datetime64[ns]', freq='2D')"
      ]
     },
     "execution_count": 51,
     "metadata": {},
     "output_type": "execute_result"
    }
   ],
   "source": [
    "# 이틀 간 간격: freq='2D'로 설정\n",
    "pd.date_range(start = pd.to_datetime('today').date(), periods=8, freq='2D')"
   ]
  },
  {
   "cell_type": "markdown",
   "metadata": {},
   "source": [
    "달력 만들기: freq='W' 사용"
   ]
  },
  {
   "cell_type": "code",
   "execution_count": 52,
   "metadata": {},
   "outputs": [
    {
     "name": "stdout",
     "output_type": "stream",
     "text": [
      "DatetimeIndex(['2019-01-06', '2019-01-13', '2019-01-20', '2019-01-27'], dtype='datetime64[ns]', freq='W-SUN')\n",
      "DatetimeIndex(['2019-01-06', '2019-01-13', '2019-01-20', '2019-01-27'], dtype='datetime64[ns]', freq='W-SUN')\n",
      "DatetimeIndex(['2019-01-07', '2019-01-14', '2019-01-21', '2019-01-28'], dtype='datetime64[ns]', freq='W-MON')\n",
      "DatetimeIndex(['2019-01-01', '2019-01-08', '2019-01-15', '2019-01-22'], dtype='datetime64[ns]', freq='W-TUE')\n",
      "DatetimeIndex(['2019-01-02', '2019-01-09', '2019-01-16', '2019-01-23'], dtype='datetime64[ns]', freq='W-WED')\n"
     ]
    }
   ],
   "source": [
    "print(pd.date_range(start=TODAY, periods=4, freq='W'))\n",
    "print(pd.date_range(start=TODAY, periods=4, freq='W-SUN'))\n",
    "print(pd.date_range(start=TODAY, periods=4, freq='W-MON'))\n",
    "print(pd.date_range(start=TODAY, periods=4, freq='W-TUE'))\n",
    "print(pd.date_range(start=TODAY, periods=4, freq='W-WED'))"
   ]
  },
  {
   "cell_type": "code",
   "execution_count": 53,
   "metadata": {},
   "outputs": [
    {
     "name": "stdout",
     "output_type": "stream",
     "text": [
      "DatetimeIndex(['2019-01-06', '2019-01-13', '2019-01-20', '2019-01-27'], dtype='datetime64[ns]', freq='W-SUN')\n",
      "DatetimeIndex(['2019-01-06', '2019-01-13', '2019-01-20', '2019-01-27'], dtype='datetime64[ns]', freq='W-SUN')\n",
      "DatetimeIndex(['2019-01-07', '2019-01-14', '2019-01-21', '2019-01-28'], dtype='datetime64[ns]', freq='W-MON')\n",
      "DatetimeIndex(['2019-01-01', '2019-01-08', '2019-01-15', '2019-01-22'], dtype='datetime64[ns]', freq='W-TUE')\n",
      "DatetimeIndex(['2019-01-02', '2019-01-09', '2019-01-16', '2019-01-23'], dtype='datetime64[ns]', freq='W-WED')\n",
      "DatetimeIndex(['2019-01-04', '2019-01-11', '2019-01-18', '2019-01-25'], dtype='datetime64[ns]', freq='W-FRI')\n"
     ]
    }
   ],
   "source": [
    "# 개선된 코드\n",
    "\n",
    "dates = ['W', 'W-SUN', 'W-MON', 'W-TUE', 'W-WED', 'W-FRI']\n",
    "for date in dates:\n",
    "    print(pd.date_range(start=TODAY, periods=4, freq=date))"
   ]
  },
  {
   "cell_type": "markdown",
   "metadata": {},
   "source": [
    "시간 자동 생성 (개선된 코드)"
   ]
  },
  {
   "cell_type": "code",
   "execution_count": 54,
   "metadata": {},
   "outputs": [
    {
     "name": "stderr",
     "output_type": "stream",
     "text": [
      "/tmp/ipykernel_11960/4096033035.py:2: FutureWarning: 'BH' is deprecated and will be removed in a future version, please use 'bh' instead.\n",
      "  pd.date_range(start = CURTIME, periods=10, freq='BH')\n"
     ]
    },
    {
     "data": {
      "text/plain": [
       "DatetimeIndex(['2019-01-01 09:00:00', '2019-01-01 10:00:00',\n",
       "               '2019-01-01 11:00:00', '2019-01-01 12:00:00',\n",
       "               '2019-01-01 13:00:00', '2019-01-01 14:00:00',\n",
       "               '2019-01-01 15:00:00', '2019-01-01 16:00:00',\n",
       "               '2019-01-02 09:00:00', '2019-01-02 10:00:00'],\n",
       "              dtype='datetime64[ns]', freq='bh')"
      ]
     },
     "execution_count": 54,
     "metadata": {},
     "output_type": "execute_result"
    }
   ],
   "source": [
    "\n",
    "CURTIME = '2019-01-01 08:00'\n",
    "pd.date_range(start = CURTIME, periods=10, freq='BH')\n",
    "\n",
    "# BH는 하루를 의미. \n",
    "# BH 대신 bh를 쓰라고 권고 (deprecated)"
   ]
  },
  {
   "cell_type": "markdown",
   "metadata": {},
   "source": [
    "시간 간격 조정"
   ]
  },
  {
   "cell_type": "code",
   "execution_count": 55,
   "metadata": {},
   "outputs": [
    {
     "name": "stdout",
     "output_type": "stream",
     "text": [
      "DatetimeIndex(['2019-01-01 09:00:00', '2019-01-01 10:00:00',\n",
      "               '2019-01-01 11:00:00', '2019-01-01 12:00:00',\n",
      "               '2019-01-01 13:00:00', '2019-01-01 14:00:00',\n",
      "               '2019-01-01 15:00:00', '2019-01-01 16:00:00',\n",
      "               '2019-01-02 09:00:00', '2019-01-02 10:00:00'],\n",
      "              dtype='datetime64[ns]', freq='bh')\n",
      "DatetimeIndex(['2019-01-01 09:00:00', '2019-01-01 10:00:00',\n",
      "               '2019-01-01 11:00:00', '2019-01-01 12:00:00',\n",
      "               '2019-01-01 13:00:00', '2019-01-01 14:00:00',\n",
      "               '2019-01-01 15:00:00', '2019-01-01 16:00:00',\n",
      "               '2019-01-02 09:00:00', '2019-01-02 10:00:00'],\n",
      "              dtype='datetime64[ns]', freq='bh')\n",
      "DatetimeIndex(['2019-01-01 09:00:00', '2019-01-01 10:00:00',\n",
      "               '2019-01-01 11:00:00', '2019-01-01 12:00:00',\n",
      "               '2019-01-01 13:00:00', '2019-01-01 14:00:00',\n",
      "               '2019-01-01 15:00:00', '2019-01-01 16:00:00',\n",
      "               '2019-01-02 09:00:00', '2019-01-02 10:00:00'],\n",
      "              dtype='datetime64[ns]', freq='bh')\n",
      "DatetimeIndex(['2019-01-01 10:00:00', '2019-01-01 11:00:00',\n",
      "               '2019-01-01 12:00:00', '2019-01-01 13:00:00',\n",
      "               '2019-01-01 14:00:00'],\n",
      "              dtype='datetime64[ns]', freq='bh')\n",
      "DatetimeIndex(['2019-01-01 11:00:00', '2019-01-01 12:00:00',\n",
      "               '2019-01-01 13:00:00', '2019-01-01 14:00:00',\n",
      "               '2019-01-01 15:00:00'],\n",
      "              dtype='datetime64[ns]', freq='bh')\n"
     ]
    }
   ],
   "source": [
    "# period 다르게 해보기 (개선된 코드)\n",
    "\n",
    "CURTIME = '2019-01-01 '\n",
    "times = ['08:00', '07:00', '09:00', '10:00', '11:00']\n",
    "period = [10, 10, 10, 5, 5]\n",
    "for i in range(len(times)):\n",
    "    print(pd.date_range(start = CURTIME + times[i], periods = period[i], freq='bh'))"
   ]
  },
  {
   "cell_type": "markdown",
   "metadata": {},
   "source": [
    "분 간격 생성"
   ]
  },
  {
   "cell_type": "code",
   "execution_count": 56,
   "metadata": {},
   "outputs": [
    {
     "name": "stdout",
     "output_type": "stream",
     "text": [
      "DatetimeIndex(['2019-01-01 08:00:00', '2019-01-01 08:30:00',\n",
      "               '2019-01-01 09:00:00', '2019-01-01 09:30:00'],\n",
      "              dtype='datetime64[ns]', freq='30min')\n",
      "DatetimeIndex(['2019-01-01 07:00:00', '2019-01-01 07:30:00',\n",
      "               '2019-01-01 08:00:00', '2019-01-01 08:30:00'],\n",
      "              dtype='datetime64[ns]', freq='30min')\n",
      "DatetimeIndex(['2019-01-01 09:00:00', '2019-01-01 09:10:00',\n",
      "               '2019-01-01 09:20:00', '2019-01-01 09:30:00'],\n",
      "              dtype='datetime64[ns]', freq='10min')\n",
      "DatetimeIndex(['2019-01-01 10:00:00', '2019-01-01 10:40:00',\n",
      "               '2019-01-01 11:20:00', '2019-01-01 12:00:00'],\n",
      "              dtype='datetime64[ns]', freq='40min')\n",
      "DatetimeIndex(['2019-01-01 11:00:00', '2019-01-01 12:00:00',\n",
      "               '2019-01-01 13:00:00', '2019-01-01 14:00:00'],\n",
      "              dtype='datetime64[ns]', freq='60min')\n",
      "DatetimeIndex(['2019-01-01 12:00:00', '2019-01-01 14:10:00',\n",
      "               '2019-01-01 16:20:00', '2019-01-01 18:30:00'],\n",
      "              dtype='datetime64[ns]', freq='130min')\n"
     ]
    },
    {
     "name": "stderr",
     "output_type": "stream",
     "text": [
      "/tmp/ipykernel_11960/3022237276.py:7: FutureWarning: 'T' is deprecated and will be removed in a future version, please use 'min' instead.\n",
      "  print(pd.date_range(start = CURTIME + times[i], periods = 4, freq=frequency[i]))\n"
     ]
    }
   ],
   "source": [
    "# freq 다르게 해보기 (개선된 코드)\n",
    "\n",
    "CURTIME = '2019-01-01 '\n",
    "times = ['08:00', '07:00', '09:00', '10:00', '11:00', '12:00']\n",
    "frequency = ['30min', '30T', '10T', '40T', '60T', '130T']\n",
    "for i in range(len(times)):\n",
    "    print(pd.date_range(start = CURTIME + times[i], periods = 4, freq=frequency[i]))"
   ]
  },
  {
   "cell_type": "markdown",
   "metadata": {},
   "source": [
    "초 간격 생성"
   ]
  },
  {
   "cell_type": "code",
   "execution_count": 57,
   "metadata": {},
   "outputs": [
    {
     "name": "stdout",
     "output_type": "stream",
     "text": [
      "DatetimeIndex(['2019-01-01 08:00:00', '2019-01-01 08:00:10',\n",
      "               '2019-01-01 08:00:20', '2019-01-01 08:00:30'],\n",
      "              dtype='datetime64[ns]', freq='10s')\n",
      "DatetimeIndex(['2019-01-01 07:00:00', '2019-01-01 07:00:10',\n",
      "               '2019-01-01 07:00:20', '2019-01-01 07:00:30'],\n",
      "              dtype='datetime64[ns]', freq='10s')\n",
      "DatetimeIndex(['2019-01-01 09:00:00', '2019-01-01 09:00:10',\n",
      "               '2019-01-01 09:00:20', '2019-01-01 09:00:30'],\n",
      "              dtype='datetime64[ns]', freq='10s')\n",
      "DatetimeIndex(['2019-01-01 10:00:00', '2019-01-01 10:00:10',\n",
      "               '2019-01-01 10:00:20', '2019-01-01 10:00:30'],\n",
      "              dtype='datetime64[ns]', freq='10s')\n",
      "DatetimeIndex(['2019-01-01 11:00:00', '2019-01-01 11:00:10',\n",
      "               '2019-01-01 11:00:20', '2019-01-01 11:00:30'],\n",
      "              dtype='datetime64[ns]', freq='10s')\n",
      "DatetimeIndex(['2019-01-01 12:00:00', '2019-01-01 12:00:10',\n",
      "               '2019-01-01 12:00:20', '2019-01-01 12:00:30'],\n",
      "              dtype='datetime64[ns]', freq='10s')\n"
     ]
    }
   ],
   "source": [
    "CURTIME = '2019-01-01 '\n",
    "times = ['08:00', '07:00', '09:00', '10:00', '11:00', '12:00']\n",
    "for i in range(len(times)):\n",
    "    print(pd.date_range(start = CURTIME + times[i], periods = 4, freq='10s'))"
   ]
  },
  {
   "cell_type": "markdown",
   "metadata": {},
   "source": [
    "### 달 조정"
   ]
  },
  {
   "cell_type": "code",
   "execution_count": 58,
   "metadata": {},
   "outputs": [
    {
     "name": "stdout",
     "output_type": "stream",
     "text": [
      "DatetimeIndex(['2019-01-01', '2020-01-01', '2021-01-01'], dtype='datetime64[ns]', freq='YS-JAN')\n",
      "DatetimeIndex(['2019-01-01', '2020-01-01', '2021-01-01', '2022-01-01'], dtype='datetime64[ns]', freq='YS-JAN')\n",
      "DatetimeIndex(['2019-01-01', '2020-01-01', '2021-01-01', '2022-01-01',\n",
      "               '2023-01-01', '2024-01-01', '2025-01-01', '2026-01-01',\n",
      "               '2027-01-01', '2028-01-01'],\n",
      "              dtype='datetime64[ns]', freq='YS-JAN')\n"
     ]
    }
   ],
   "source": [
    "periods = [3, 4, 10]\n",
    "for p in periods:\n",
    "    print(pd.date_range(start=TODAY, periods=p, freq='YS'))"
   ]
  },
  {
   "cell_type": "markdown",
   "metadata": {},
   "source": [
    "### 응용 문제\n",
    "* date_range() 이용, Series()의 index 지정"
   ]
  },
  {
   "cell_type": "code",
   "execution_count": 59,
   "metadata": {},
   "outputs": [
    {
     "data": {
      "text/plain": [
       "2019-03-01    51\n",
       "2019-03-02    62\n",
       "2019-03-03    55\n",
       "2019-03-04    49\n",
       "2019-03-05    48\n",
       "Freq: D, dtype: int64"
      ]
     },
     "execution_count": 59,
     "metadata": {},
     "output_type": "execute_result"
    }
   ],
   "source": [
    "d1 = pd.to_datetime('2019-03-01').date()\n",
    "\n",
    "date_index = pd.date_range(start = d1, end = d1 + pd.Timedelta(days = 4))\n",
    "pd.Series([51, 62, 55, 49, 48], date_index)"
   ]
  },
  {
   "cell_type": "markdown",
   "metadata": {},
   "source": [
    "## DataFrame()\n",
    "* 표와 같은 2차원 데이터\n",
    "* ```DataFrame(data 변수명, index = index 변수명, columns = column list 타입 변수명)```\n",
    "* 리스트, 딕셔너리, 넘파이 등등을 넣을 수 있음\n",
    "* index와 columns는 선택사항.\n",
    "    * 입력하지 않을 경우 자동으로 0부터 숫자가 생성"
   ]
  },
  {
   "cell_type": "code",
   "execution_count": 60,
   "metadata": {},
   "outputs": [
    {
     "data": {
      "text/html": [
       "<div>\n",
       "<style scoped>\n",
       "    .dataframe tbody tr th:only-of-type {\n",
       "        vertical-align: middle;\n",
       "    }\n",
       "\n",
       "    .dataframe tbody tr th {\n",
       "        vertical-align: top;\n",
       "    }\n",
       "\n",
       "    .dataframe thead th {\n",
       "        text-align: right;\n",
       "    }\n",
       "</style>\n",
       "<table border=\"1\" class=\"dataframe\">\n",
       "  <thead>\n",
       "    <tr style=\"text-align: right;\">\n",
       "      <th></th>\n",
       "      <th>0</th>\n",
       "      <th>1</th>\n",
       "      <th>2</th>\n",
       "    </tr>\n",
       "  </thead>\n",
       "  <tbody>\n",
       "    <tr>\n",
       "      <th>0</th>\n",
       "      <td>1</td>\n",
       "      <td>2</td>\n",
       "      <td>3</td>\n",
       "    </tr>\n",
       "    <tr>\n",
       "      <th>1</th>\n",
       "      <td>4</td>\n",
       "      <td>5</td>\n",
       "      <td>6</td>\n",
       "    </tr>\n",
       "    <tr>\n",
       "      <th>2</th>\n",
       "      <td>7</td>\n",
       "      <td>8</td>\n",
       "      <td>9</td>\n",
       "    </tr>\n",
       "  </tbody>\n",
       "</table>\n",
       "</div>"
      ],
      "text/plain": [
       "   0  1  2\n",
       "0  1  2  3\n",
       "1  4  5  6\n",
       "2  7  8  9"
      ]
     },
     "execution_count": 60,
     "metadata": {},
     "output_type": "execute_result"
    }
   ],
   "source": [
    "DATA = np.array([i for i in range(1, 10)]).reshape(3,3)\n",
    "pd.DataFrame(DATA)"
   ]
  },
  {
   "cell_type": "markdown",
   "metadata": {},
   "source": [
    "인덱스와 컬럼 조정"
   ]
  },
  {
   "cell_type": "code",
   "execution_count": 61,
   "metadata": {},
   "outputs": [
    {
     "data": {
      "text/html": [
       "<div>\n",
       "<style scoped>\n",
       "    .dataframe tbody tr th:only-of-type {\n",
       "        vertical-align: middle;\n",
       "    }\n",
       "\n",
       "    .dataframe tbody tr th {\n",
       "        vertical-align: top;\n",
       "    }\n",
       "\n",
       "    .dataframe thead th {\n",
       "        text-align: right;\n",
       "    }\n",
       "</style>\n",
       "<table border=\"1\" class=\"dataframe\">\n",
       "  <thead>\n",
       "    <tr style=\"text-align: right;\">\n",
       "      <th></th>\n",
       "      <th>A</th>\n",
       "      <th>B</th>\n",
       "      <th>C</th>\n",
       "    </tr>\n",
       "  </thead>\n",
       "  <tbody>\n",
       "    <tr>\n",
       "      <th>2019-09-01</th>\n",
       "      <td>10</td>\n",
       "      <td>20</td>\n",
       "      <td>30</td>\n",
       "    </tr>\n",
       "    <tr>\n",
       "      <th>2019-09-02</th>\n",
       "      <td>40</td>\n",
       "      <td>50</td>\n",
       "      <td>60</td>\n",
       "    </tr>\n",
       "    <tr>\n",
       "      <th>2019-09-03</th>\n",
       "      <td>70</td>\n",
       "      <td>80</td>\n",
       "      <td>90</td>\n",
       "    </tr>\n",
       "  </tbody>\n",
       "</table>\n",
       "</div>"
      ],
      "text/plain": [
       "             A   B   C\n",
       "2019-09-01  10  20  30\n",
       "2019-09-02  40  50  60\n",
       "2019-09-03  70  80  90"
      ]
     },
     "execution_count": 61,
     "metadata": {},
     "output_type": "execute_result"
    }
   ],
   "source": [
    "data = np.array([i for i in range(10, 100, 10)]).reshape(3,3)\n",
    "column = [chr(i) for i in range(65, 68)]\n",
    "\n",
    "d1 = pd.to_datetime('2019-09-01').date()\n",
    "d2 = d1 + pd.Timedelta(days=2)\n",
    "pd.DataFrame(data, index=pd.date_range(start = d1, end = d2), columns=column)"
   ]
  },
  {
   "cell_type": "markdown",
   "metadata": {},
   "source": [
    "딕셔너리로 dataframe 생성"
   ]
  },
  {
   "cell_type": "code",
   "execution_count": 62,
   "metadata": {},
   "outputs": [
    {
     "data": {
      "text/html": [
       "<div>\n",
       "<style scoped>\n",
       "    .dataframe tbody tr th:only-of-type {\n",
       "        vertical-align: middle;\n",
       "    }\n",
       "\n",
       "    .dataframe tbody tr th {\n",
       "        vertical-align: top;\n",
       "    }\n",
       "\n",
       "    .dataframe thead th {\n",
       "        text-align: right;\n",
       "    }\n",
       "</style>\n",
       "<table border=\"1\" class=\"dataframe\">\n",
       "  <thead>\n",
       "    <tr style=\"text-align: right;\">\n",
       "      <th></th>\n",
       "      <th>연도</th>\n",
       "      <th>지사</th>\n",
       "      <th>고객 수</th>\n",
       "    </tr>\n",
       "  </thead>\n",
       "  <tbody>\n",
       "    <tr>\n",
       "      <th>0</th>\n",
       "      <td>2015</td>\n",
       "      <td>한국</td>\n",
       "      <td>200</td>\n",
       "    </tr>\n",
       "    <tr>\n",
       "      <th>1</th>\n",
       "      <td>2016</td>\n",
       "      <td>한국</td>\n",
       "      <td>250</td>\n",
       "    </tr>\n",
       "    <tr>\n",
       "      <th>2</th>\n",
       "      <td>2016</td>\n",
       "      <td>미국</td>\n",
       "      <td>450</td>\n",
       "    </tr>\n",
       "    <tr>\n",
       "      <th>3</th>\n",
       "      <td>2017</td>\n",
       "      <td>한국</td>\n",
       "      <td>300</td>\n",
       "    </tr>\n",
       "    <tr>\n",
       "      <th>4</th>\n",
       "      <td>2017</td>\n",
       "      <td>미국</td>\n",
       "      <td>500</td>\n",
       "    </tr>\n",
       "  </tbody>\n",
       "</table>\n",
       "</div>"
      ],
      "text/plain": [
       "     연도  지사  고객 수\n",
       "0  2015  한국   200\n",
       "1  2016  한국   250\n",
       "2  2016  미국   450\n",
       "3  2017  한국   300\n",
       "4  2017  미국   500"
      ]
     },
     "execution_count": 62,
     "metadata": {},
     "output_type": "execute_result"
    }
   ],
   "source": [
    "dict = {'연도' : [2015, 2016, 2016, 2017, 2017],\n",
    "       '지사' : ['한국', '한국', '미국', '한국', '미국'],\n",
    "       '고객 수' : [200, 250, 450, 300, 500]}\n",
    "\n",
    "pd.DataFrame(dict)"
   ]
  },
  {
   "cell_type": "code",
   "execution_count": 63,
   "metadata": {},
   "outputs": [
    {
     "data": {
      "text/html": [
       "<div>\n",
       "<style scoped>\n",
       "    .dataframe tbody tr th:only-of-type {\n",
       "        vertical-align: middle;\n",
       "    }\n",
       "\n",
       "    .dataframe tbody tr th {\n",
       "        vertical-align: top;\n",
       "    }\n",
       "\n",
       "    .dataframe thead th {\n",
       "        text-align: right;\n",
       "    }\n",
       "</style>\n",
       "<table border=\"1\" class=\"dataframe\">\n",
       "  <thead>\n",
       "    <tr style=\"text-align: right;\">\n",
       "      <th></th>\n",
       "      <th>지사</th>\n",
       "      <th>고객 수</th>\n",
       "    </tr>\n",
       "  </thead>\n",
       "  <tbody>\n",
       "    <tr>\n",
       "      <th>2015</th>\n",
       "      <td>한국</td>\n",
       "      <td>200</td>\n",
       "    </tr>\n",
       "    <tr>\n",
       "      <th>2016</th>\n",
       "      <td>한국</td>\n",
       "      <td>250</td>\n",
       "    </tr>\n",
       "    <tr>\n",
       "      <th>2016</th>\n",
       "      <td>미국</td>\n",
       "      <td>450</td>\n",
       "    </tr>\n",
       "    <tr>\n",
       "      <th>2017</th>\n",
       "      <td>한국</td>\n",
       "      <td>300</td>\n",
       "    </tr>\n",
       "    <tr>\n",
       "      <th>2017</th>\n",
       "      <td>미국</td>\n",
       "      <td>500</td>\n",
       "    </tr>\n",
       "  </tbody>\n",
       "</table>\n",
       "</div>"
      ],
      "text/plain": [
       "      지사  고객 수\n",
       "2015  한국   200\n",
       "2016  한국   250\n",
       "2016  미국   450\n",
       "2017  한국   300\n",
       "2017  미국   500"
      ]
     },
     "execution_count": 63,
     "metadata": {},
     "output_type": "execute_result"
    }
   ],
   "source": [
    "dict = {'연도' : [2015, 2016, 2016, 2017, 2017],\n",
    "       '지사' : ['한국', '한국', '미국', '한국', '미국'],\n",
    "       '고객 수' : [200, 250, 450, 300, 500]}\n",
    "dict2 = {'지사' : ['한국', '한국', '미국', '한국', '미국'],\n",
    "         '고객 수' : [200, 250, 450, 300, 500]}\n",
    "\n",
    "pd.DataFrame(data = dict2, index = dict['연도'])"
   ]
  },
  {
   "cell_type": "markdown",
   "metadata": {},
   "source": [
    "# 온보딩 (6) : 데이터연산"
   ]
  },
  {
   "cell_type": "markdown",
   "metadata": {},
   "source": [
    "## Series 연산"
   ]
  },
  {
   "cell_type": "code",
   "execution_count": 64,
   "metadata": {},
   "outputs": [
    {
     "name": "stdout",
     "output_type": "stream",
     "text": [
      "0    11\n",
      "1    22\n",
      "2    33\n",
      "3    44\n",
      "4    55\n",
      "dtype: int64\n",
      "0    0.1\n",
      "1    0.1\n",
      "2    0.1\n",
      "3    0.1\n",
      "4    0.1\n",
      "dtype: float64\n"
     ]
    }
   ],
   "source": [
    "s1 = pd.Series([i for i in range(1, 6, 1)])\n",
    "s2 = pd.Series([i for i in range(10, 60, 10)])\n",
    "\n",
    "print(s1 + s2)\n",
    "print(s1 / s2)"
   ]
  },
  {
   "cell_type": "code",
   "execution_count": 65,
   "metadata": {},
   "outputs": [
    {
     "name": "stdout",
     "output_type": "stream",
     "text": [
      "0    11.0\n",
      "1    22.0\n",
      "2    33.0\n",
      "3    44.0\n",
      "4    55.0\n",
      "5     NaN\n",
      "dtype: float64\n"
     ]
    }
   ],
   "source": [
    "# 자료 간 크기가 다른 경우\n",
    "s1 = pd.Series([i for i in range(1, 7, 1)])\n",
    "s2 = pd.Series([i for i in range(10, 60, 10)])\n",
    "\n",
    "print(s1 + s2)"
   ]
  },
  {
   "cell_type": "code",
   "execution_count": 66,
   "metadata": {},
   "outputs": [
    {
     "name": "stdout",
     "output_type": "stream",
     "text": [
      "0    1\n",
      "1    2\n",
      "2    3\n",
      "3    4\n",
      "dtype: int64\n",
      "1    10\n",
      "2    20\n",
      "3    30\n",
      "4    40\n",
      "5    50\n",
      "dtype: int64\n",
      "0     NaN\n",
      "1    12.0\n",
      "2    23.0\n",
      "3    34.0\n",
      "4     NaN\n",
      "5     NaN\n",
      "dtype: float64\n"
     ]
    }
   ],
   "source": [
    "# 빈 인덱스 채워주기\n",
    "s1 = pd.Series([i for i in range(1, 5, 1)])\n",
    "s2 = pd.Series([i for i in range(10, 60, 10)], index=[i for i in range(1, 6, 1)])\n",
    "print(s1)\n",
    "print(s2)\n",
    "print(s1 + s2) # NaN이 생기게 된다."
   ]
  },
  {
   "cell_type": "code",
   "execution_count": 67,
   "metadata": {},
   "outputs": [
    {
     "data": {
      "text/plain": [
       "0     1.0\n",
       "1    12.0\n",
       "2    23.0\n",
       "3    34.0\n",
       "4    40.0\n",
       "5    50.0\n",
       "dtype: float64"
      ]
     },
     "execution_count": 67,
     "metadata": {},
     "output_type": "execute_result"
    }
   ],
   "source": [
    "s1.add(s2, fill_value=0) # NaN이 생기지 않게 된다."
   ]
  },
  {
   "cell_type": "markdown",
   "metadata": {},
   "source": [
    "## DataFrame 연산"
   ]
  },
  {
   "cell_type": "code",
   "execution_count": 71,
   "metadata": {},
   "outputs": [
    {
     "name": "stdout",
     "output_type": "stream",
     "text": [
      "   A   B    C\n",
      "0  1  10  100\n",
      "1  2  20  200\n",
      "2  3  30  300\n",
      "3  4  40  400\n",
      "4  5  50  500\n",
      "   A   B    C\n",
      "0  6  60  600\n",
      "1  7  70  700\n",
      "2  8  80  800\n"
     ]
    }
   ],
   "source": [
    "df1 = pd.DataFrame({'A' : [i for i in range(1, 6, 1)], \n",
    "                    'B' : [i for i in range(10, 60, 10)], \n",
    "                    'C' : [i for i in range(100, 600, 100)]})\n",
    "df2 = pd.DataFrame({'A' : [i for i in range(6, 9, 1)], \n",
    "                    'B' : [i for i in range(60, 90, 10)], \n",
    "                    'C' : [i for i in range(600, 900, 100)]})\n",
    "print(df1)\n",
    "print(df2)"
   ]
  },
  {
   "cell_type": "code",
   "execution_count": 79,
   "metadata": {},
   "outputs": [
    {
     "name": "stdout",
     "output_type": "stream",
     "text": [
      "      A      B       C\n",
      "0   7.0   70.0   700.0\n",
      "1   9.0   90.0   900.0\n",
      "2  11.0  110.0  1100.0\n",
      "3   NaN    NaN     NaN\n",
      "4   NaN    NaN     NaN\n"
     ]
    },
    {
     "data": {
      "text/html": [
       "<div>\n",
       "<style scoped>\n",
       "    .dataframe tbody tr th:only-of-type {\n",
       "        vertical-align: middle;\n",
       "    }\n",
       "\n",
       "    .dataframe tbody tr th {\n",
       "        vertical-align: top;\n",
       "    }\n",
       "\n",
       "    .dataframe thead th {\n",
       "        text-align: right;\n",
       "    }\n",
       "</style>\n",
       "<table border=\"1\" class=\"dataframe\">\n",
       "  <thead>\n",
       "    <tr style=\"text-align: right;\">\n",
       "      <th></th>\n",
       "      <th>A</th>\n",
       "      <th>B</th>\n",
       "      <th>C</th>\n",
       "    </tr>\n",
       "  </thead>\n",
       "  <tbody>\n",
       "    <tr>\n",
       "      <th>0</th>\n",
       "      <td>7.0</td>\n",
       "      <td>70.0</td>\n",
       "      <td>700.0</td>\n",
       "    </tr>\n",
       "    <tr>\n",
       "      <th>1</th>\n",
       "      <td>9.0</td>\n",
       "      <td>90.0</td>\n",
       "      <td>900.0</td>\n",
       "    </tr>\n",
       "    <tr>\n",
       "      <th>2</th>\n",
       "      <td>11.0</td>\n",
       "      <td>110.0</td>\n",
       "      <td>1100.0</td>\n",
       "    </tr>\n",
       "    <tr>\n",
       "      <th>3</th>\n",
       "      <td>4.0</td>\n",
       "      <td>40.0</td>\n",
       "      <td>400.0</td>\n",
       "    </tr>\n",
       "    <tr>\n",
       "      <th>4</th>\n",
       "      <td>5.0</td>\n",
       "      <td>50.0</td>\n",
       "      <td>500.0</td>\n",
       "    </tr>\n",
       "  </tbody>\n",
       "</table>\n",
       "</div>"
      ],
      "text/plain": [
       "      A      B       C\n",
       "0   7.0   70.0   700.0\n",
       "1   9.0   90.0   900.0\n",
       "2  11.0  110.0  1100.0\n",
       "3   4.0   40.0   400.0\n",
       "4   5.0   50.0   500.0"
      ]
     },
     "execution_count": 79,
     "metadata": {},
     "output_type": "execute_result"
    }
   ],
   "source": [
    "# 연산자만 써서 계산시 반드시 NaN이 발생\n",
    "print(df1 + df2)\n",
    "\n",
    "# 메소드 add()를 써서 NaN 보완\n",
    "df1.add(df2, fill_value = 0)"
   ]
  },
  {
   "cell_type": "code",
   "execution_count": 138,
   "metadata": {},
   "outputs": [
    {
     "data": {
      "text/plain": [
       "봄     270.061238\n",
       "여름    587.471157\n",
       "가을    306.658522\n",
       "겨울    116.582752\n",
       "dtype: float64"
      ]
     },
     "execution_count": 138,
     "metadata": {},
     "output_type": "execute_result"
    }
   ],
   "source": [
    "# 데이터 연산 (평균 구하기)\n",
    "\n",
    "df3 = pd.DataFrame({'봄' : [random.uniform(200, 350) for i in range(1, 6)],\n",
    "                    '여름' : [random.uniform(500, 700) for i in range(1, 6)],\n",
    "                    '가을' : [random.uniform(200, 380) for i in range(1, 6)],\n",
    "                    '겨울' : [random.uniform(40, 160) for i in range(1, 6)]},\n",
    "                    index = [i for i in range(2012, 2017)])\n",
    "df3.mean()"
   ]
  },
  {
   "cell_type": "markdown",
   "metadata": {},
   "source": [
    "### 행/열 전환"
   ]
  },
  {
   "cell_type": "code",
   "execution_count": 139,
   "metadata": {},
   "outputs": [
    {
     "name": "stdout",
     "output_type": "stream",
     "text": [
      "2012    363.115515\n",
      "2013    307.986925\n",
      "2014    307.217314\n",
      "2015    313.352783\n",
      "2016    309.294550\n",
      "dtype: float64\n"
     ]
    },
    {
     "data": {
      "text/plain": [
       "2012    363.115515\n",
       "2013    307.986925\n",
       "2014    307.217314\n",
       "2015    313.352783\n",
       "2016    309.294550\n",
       "dtype: float64"
      ]
     },
     "execution_count": 139,
     "metadata": {},
     "output_type": "execute_result"
    }
   ],
   "source": [
    "# 행과 열을 바꿔서 연산하기\n",
    "# 1. transpose() 이용\n",
    "df3_t = df3.transpose()\n",
    "df3_t\n",
    "print(df3_t.mean())\n",
    "\n",
    "# 2. axis 이용\n",
    "df3.mean(axis = 1)"
   ]
  },
  {
   "cell_type": "markdown",
   "metadata": {},
   "source": [
    "### describe()"
   ]
  },
  {
   "cell_type": "code",
   "execution_count": 195,
   "metadata": {},
   "outputs": [
    {
     "data": {
      "text/html": [
       "<div>\n",
       "<style scoped>\n",
       "    .dataframe tbody tr th:only-of-type {\n",
       "        vertical-align: middle;\n",
       "    }\n",
       "\n",
       "    .dataframe tbody tr th {\n",
       "        vertical-align: top;\n",
       "    }\n",
       "\n",
       "    .dataframe thead th {\n",
       "        text-align: right;\n",
       "    }\n",
       "</style>\n",
       "<table border=\"1\" class=\"dataframe\">\n",
       "  <thead>\n",
       "    <tr style=\"text-align: right;\">\n",
       "      <th></th>\n",
       "      <th>봄</th>\n",
       "      <th>여름</th>\n",
       "      <th>가을</th>\n",
       "      <th>겨울</th>\n",
       "    </tr>\n",
       "  </thead>\n",
       "  <tbody>\n",
       "    <tr>\n",
       "      <th>count</th>\n",
       "      <td>5.000000</td>\n",
       "      <td>5.000000</td>\n",
       "      <td>5.000000</td>\n",
       "      <td>5.000000</td>\n",
       "    </tr>\n",
       "    <tr>\n",
       "      <th>mean</th>\n",
       "      <td>270.061238</td>\n",
       "      <td>587.471157</td>\n",
       "      <td>306.658522</td>\n",
       "      <td>116.582752</td>\n",
       "    </tr>\n",
       "    <tr>\n",
       "      <th>std</th>\n",
       "      <td>32.521046</td>\n",
       "      <td>88.054815</td>\n",
       "      <td>48.405222</td>\n",
       "      <td>27.989746</td>\n",
       "    </tr>\n",
       "    <tr>\n",
       "      <th>min</th>\n",
       "      <td>213.652472</td>\n",
       "      <td>505.890975</td>\n",
       "      <td>246.940187</td>\n",
       "      <td>81.260153</td>\n",
       "    </tr>\n",
       "    <tr>\n",
       "      <th>25%</th>\n",
       "      <td>272.984510</td>\n",
       "      <td>518.182808</td>\n",
       "      <td>266.890284</td>\n",
       "      <td>94.064226</td>\n",
       "    </tr>\n",
       "    <tr>\n",
       "      <th>50%</th>\n",
       "      <td>283.935890</td>\n",
       "      <td>549.463826</td>\n",
       "      <td>317.413999</td>\n",
       "      <td>125.501476</td>\n",
       "    </tr>\n",
       "    <tr>\n",
       "      <th>75%</th>\n",
       "      <td>284.255773</td>\n",
       "      <td>670.144791</td>\n",
       "      <td>341.745454</td>\n",
       "      <td>133.878434</td>\n",
       "    </tr>\n",
       "    <tr>\n",
       "      <th>max</th>\n",
       "      <td>295.477544</td>\n",
       "      <td>693.673386</td>\n",
       "      <td>360.302688</td>\n",
       "      <td>148.209470</td>\n",
       "    </tr>\n",
       "  </tbody>\n",
       "</table>\n",
       "</div>"
      ],
      "text/plain": [
       "                봄          여름          가을          겨울\n",
       "count    5.000000    5.000000    5.000000    5.000000\n",
       "mean   270.061238  587.471157  306.658522  116.582752\n",
       "std     32.521046   88.054815   48.405222   27.989746\n",
       "min    213.652472  505.890975  246.940187   81.260153\n",
       "25%    272.984510  518.182808  266.890284   94.064226\n",
       "50%    283.935890  549.463826  317.413999  125.501476\n",
       "75%    284.255773  670.144791  341.745454  133.878434\n",
       "max    295.477544  693.673386  360.302688  148.209470"
      ]
     },
     "execution_count": 195,
     "metadata": {},
     "output_type": "execute_result"
    }
   ],
   "source": [
    "df3.describe()"
   ]
  }
 ],
 "metadata": {
  "kernelspec": {
   "display_name": "Python 3",
   "language": "python",
   "name": "python3"
  },
  "language_info": {
   "codemirror_mode": {
    "name": "ipython",
    "version": 3
   },
   "file_extension": ".py",
   "mimetype": "text/x-python",
   "name": "python",
   "nbconvert_exporter": "python",
   "pygments_lexer": "ipython3",
   "version": "3.10.13"
  }
 },
 "nbformat": 4,
 "nbformat_minor": 2
}
