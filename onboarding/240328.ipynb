{
 "cells": [
  {
   "cell_type": "markdown",
   "metadata": {},
   "source": [
    "# 온보딩 (4) : numpy\n",
    "* 파이썬으로 과학 연산을 쉽고 빠르게 할 수 있게 만든 패키지\n",
    "* 0321 + 0328"
   ]
  },
  {
   "cell_type": "markdown",
   "metadata": {},
   "source": [
    "## 1차원 데이터"
   ]
  },
  {
   "cell_type": "code",
   "execution_count": null,
   "metadata": {},
   "outputs": [],
   "source": [
    "import numpy as np"
   ]
  },
  {
   "cell_type": "code",
   "execution_count": null,
   "metadata": {},
   "outputs": [],
   "source": [
    "list1 = [i for i in range(1, 11)]\n",
    "arr1 = np.array(list1)\n",
    "print(arr1)\n",
    "print(type(arr1))"
   ]
  },
  {
   "cell_type": "code",
   "execution_count": null,
   "metadata": {},
   "outputs": [],
   "source": [
    "list2 = [0, 1, 2, 5, 3, 4, 5, 6, 7, 8]\n",
    "arr2 = np.array(list2)\n",
    "arr2.dtype"
   ]
  },
  {
   "cell_type": "code",
   "execution_count": null,
   "metadata": {},
   "outputs": [],
   "source": [
    "arr3 = np.arange(0, 9, 1)\n",
    "print(arr3)"
   ]
  },
  {
   "cell_type": "code",
   "execution_count": null,
   "metadata": {},
   "outputs": [],
   "source": [
    "import random\n",
    "list = [random.randint(1, 100) for _ in range(10)]"
   ]
  },
  {
   "cell_type": "markdown",
   "metadata": {},
   "source": [
    "## 2차원 데이터"
   ]
  },
  {
   "cell_type": "code",
   "execution_count": null,
   "metadata": {},
   "outputs": [],
   "source": [
    "list2 = [[1,2,3], [4,5,6], [7,8,9]]\n",
    "print(np.array(list2).reshape(3, 3))\n",
    "print(np.arange(9).reshape(3, 3))"
   ]
  },
  {
   "cell_type": "code",
   "execution_count": null,
   "metadata": {},
   "outputs": [],
   "source": [
    "str_a1 = np.array([random.randint(1, 100) for _ in range(10)])\n",
    "print(str_a1.dtype)\n",
    "str_a2 = str_a1.astype(float)\n",
    "print(str_a2)\n",
    "print(str_a2.dtype)"
   ]
  },
  {
   "cell_type": "code",
   "execution_count": null,
   "metadata": {},
   "outputs": [],
   "source": [
    "print(arr2)\n",
    "print(arr2 + 200)"
   ]
  },
  {
   "cell_type": "code",
   "execution_count": null,
   "metadata": {},
   "outputs": [],
   "source": [
    "choi1 = np.array([1.1, 2.1, 3.1])\n",
    "print(choi1.dtype)\n",
    "choi1.astype(int)"
   ]
  },
  {
   "cell_type": "code",
   "execution_count": null,
   "metadata": {},
   "outputs": [],
   "source": [
    "choi1 = np.array([1, 2, 3])\n",
    "print(choi1.dtype)\n",
    "choi2 = choi1.astype(float)\n",
    "choi2 = choi2 + 0.1\n",
    "print(choi2)"
   ]
  },
  {
   "cell_type": "markdown",
   "metadata": {},
   "source": [
    "## 행렬/벡터 함수\n",
    "* linspace(), ones(), zeros(), diag(), eye(), transpose();"
   ]
  },
  {
   "cell_type": "code",
   "execution_count": null,
   "metadata": {},
   "outputs": [],
   "source": [
    "print(np.linspace(1, 100, 11)) # 등간격 배열 생성\n",
    "print(np.ones(5)) # 1벡터 생성\n",
    "print(np.zeros(3)) # 영벡터 생성\n",
    "\n",
    "print(np.linspace(0, np.pi, 20))"
   ]
  },
  {
   "cell_type": "code",
   "execution_count": null,
   "metadata": {},
   "outputs": [],
   "source": [
    "1 in np.arange(3)\n",
    "arr1 = np.array([random.randint(1, 100) for _ in range(10)])\n",
    "print(np.where(arr1 == 1))"
   ]
  },
  {
   "cell_type": "code",
   "execution_count": null,
   "metadata": {},
   "outputs": [],
   "source": [
    "print(1 in arr1)\n",
    "print(9 in arr1)"
   ]
  },
  {
   "cell_type": "code",
   "execution_count": null,
   "metadata": {},
   "outputs": [],
   "source": [
    "print(np.diag([10, 11, 12, 13, 14]))\n",
    "print(np.eye(5))\n",
    "\n",
    "mat = np.array([[1, 2, 3],[4, 5, 6]])\n",
    "print(np.transpose(mat))"
   ]
  },
  {
   "cell_type": "markdown",
   "metadata": {},
   "source": [
    "## 연산용 함수"
   ]
  },
  {
   "cell_type": "code",
   "execution_count": null,
   "metadata": {},
   "outputs": [],
   "source": [
    "arr4 = np.arange(5)\n",
    "info = [arr4.sum(), arr4.mean(), arr4.std(), arr4.var(),\n",
    "        arr4.min(), arr4.max(), arr4.cumsum(), arr4.cumprod()]\n",
    "print(info)"
   ]
  },
  {
   "cell_type": "code",
   "execution_count": null,
   "metadata": {},
   "outputs": [],
   "source": [
    "A = np.array([random.randint(1, 20) for _ in range(4)]).reshape(2, 2)\n",
    "B = np.array([random.randint(1, 20) for _ in range(4)]).reshape(2, 2)\n",
    "print(A)\n",
    "print(B)\n",
    "\n",
    "# 행렬곱\n",
    "print(A.dot(B))\n",
    "\n",
    "# 역행렬\n",
    "np.linalg.inv(A)\n",
    "\n",
    "# 행렬식\n",
    "np.linalg.det(B)\n",
    "\n",
    "# 전치\n",
    "np.transpose(A.dot(B))"
   ]
  },
  {
   "cell_type": "markdown",
   "metadata": {},
   "source": [
    "## 배열 : 인덱싱"
   ]
  },
  {
   "cell_type": "code",
   "execution_count": null,
   "metadata": {},
   "outputs": [],
   "source": [
    "a2 = np.array([i for i in range(10, 100, 10)]).reshape(3,3)\n",
    "print(a2)\n",
    "print(a2[0,2])\n",
    "if a2[0,2] > 0:\n",
    "    a2[0,2] = 10\n",
    "print(a2)\n",
    "print(a2[2:])"
   ]
  },
  {
   "cell_type": "code",
   "execution_count": null,
   "metadata": {},
   "outputs": [],
   "source": [
    "print(np.array([i for i in range(1, 11)]).reshape(2, 5))\n",
    "arr3 = np.linspace(1, 10, 10).reshape(2, 5)\n",
    "print(arr3)\n",
    "print(type(arr3))\n",
    "print(arr3[0, :])\n",
    "print(arr3[:, 0])\n",
    "print(arr3[0].sum())"
   ]
  },
  {
   "cell_type": "code",
   "execution_count": null,
   "metadata": {},
   "outputs": [],
   "source": [
    "arr5 = np.array([i for i in range(1, 10)]).reshape(3, 3)\n",
    "print(arr5.dtype)\n",
    "arr5[2,:] = [1, 2, 3]\n",
    "# arr5[,2] -> 이렇게는 못 쓴다.\n",
    "arr5[:,2]"
   ]
  },
  {
   "cell_type": "code",
   "execution_count": null,
   "metadata": {},
   "outputs": [],
   "source": [
    "arr6 = np.array([i for i in range(1, 100, 11)]).reshape(3, 3)\n",
    "print(arr6.sum(axis=0))\n",
    "print(arr6.sum(axis=1))"
   ]
  },
  {
   "cell_type": "code",
   "execution_count": null,
   "metadata": {},
   "outputs": [],
   "source": [
    "arr6 = np.linspace(1, 10, 10)\n",
    "print(f\"before : {arr6}\")\n",
    "arr6.shape = (2,-1)\n",
    "print(f\"before : {arr6}\")"
   ]
  },
  {
   "cell_type": "code",
   "execution_count": null,
   "metadata": {},
   "outputs": [],
   "source": [
    "print(arr6[1,2])\n",
    "print(arr6[0,:])\n",
    "print(arr6.sum(axis = 0))\n",
    "print(arr6.sum(axis = 1))\n",
    "print(arr6[arr6 > 3])\n",
    "print(arr6[(arr6 % 2) == 0])\n",
    "print(arr6[(arr6 % 2) == 1])"
   ]
  },
  {
   "cell_type": "markdown",
   "metadata": {},
   "source": [
    "## 배열 : 슬라이싱"
   ]
  },
  {
   "cell_type": "markdown",
   "metadata": {},
   "source": [
    "### 1차원 데이터"
   ]
  },
  {
   "cell_type": "code",
   "execution_count": null,
   "metadata": {},
   "outputs": [],
   "source": [
    "b1 = np.array([i for i in range(0, 60, 10)])\n",
    "b1"
   ]
  },
  {
   "cell_type": "code",
   "execution_count": null,
   "metadata": {},
   "outputs": [],
   "source": [
    "b1[2:5] = np.array([25, 35, 45])\n",
    "print(b1)"
   ]
  },
  {
   "cell_type": "code",
   "execution_count": null,
   "metadata": {},
   "outputs": [],
   "source": [
    "b1[3:6] = 60\n",
    "print(b1)"
   ]
  },
  {
   "cell_type": "markdown",
   "metadata": {},
   "source": [
    "### 2차원 데이터"
   ]
  },
  {
   "cell_type": "code",
   "execution_count": null,
   "metadata": {},
   "outputs": [],
   "source": [
    "b2 = np.arange(10, 100, 10).reshape(3,3)\n",
    "print(b2, end=\"\\n\\n\")\n",
    "print(b2[1], end=\"\\n\\n\")\n",
    "print(b2[0:2], end=\"\\n\\n\")\n",
    "print(b2[1][0:2], end=\"\\n\\n\")\n",
    "\n",
    "b2[0:2, 1:3] = np.array([[2, 3], [4, 5]])\n",
    "print(b2)"
   ]
  },
  {
   "cell_type": "markdown",
   "metadata": {},
   "source": [
    "# 온보딩 (5) : pandas\n",
    "\n",
    "* 넘파이를 기반으로 만들어진 라이브러리\n",
    "* 패널 형식의 데이터를 다루는 라이브러리"
   ]
  },
  {
   "cell_type": "markdown",
   "metadata": {},
   "source": [
    "## 판다스의 구조\n",
    "1. Series\n",
    "    * 1차원 구조의 데이터\n",
    "    * 벡터 형태\n",
    "2. Dataframe\n",
    "    * 2차원 구조의 데이터\n",
    "    * pandas 라이브러리의 dataframe 형식으로 가져와 data를 저장 및 가공\n",
    "3. Panel\n",
    "    * 3차원 구조의 데이터"
   ]
  },
  {
   "cell_type": "code",
   "execution_count": null,
   "metadata": {},
   "outputs": [],
   "source": [
    "import pandas as pd\n",
    "import numpy as np"
   ]
  },
  {
   "cell_type": "markdown",
   "metadata": {},
   "source": [
    "## Series()\n",
    "* 시퀸스 데이터가 들어가야 함\n",
    "* 주로 리스트를 많이 씀.\n",
    "* 꼭 자료형이 같을 필요가 없음."
   ]
  },
  {
   "cell_type": "code",
   "execution_count": null,
   "metadata": {},
   "outputs": [],
   "source": [
    "s1 = pd.Series([i for i in range(10, 60, 10)])\n",
    "print(s1)\n",
    "print(s1.index)"
   ]
  },
  {
   "cell_type": "code",
   "execution_count": null,
   "metadata": {},
   "outputs": [],
   "source": [
    "s1.values"
   ]
  },
  {
   "cell_type": "code",
   "execution_count": null,
   "metadata": {},
   "outputs": [],
   "source": [
    "# 리스트 타입으로 정의. 자료형이 다를 수도 있음.\n",
    "s2 = pd.Series(['a', 'b', 'c', 'd', 1, 2, 3])\n",
    "s2"
   ]
  },
  {
   "cell_type": "markdown",
   "metadata": {},
   "source": [
    "### missing data\n",
    "* pandas에서는 지원하지 않음\n",
    "* numpy 객체의 멤버변수인 nan을 써야 함."
   ]
  },
  {
   "cell_type": "code",
   "execution_count": null,
   "metadata": {},
   "outputs": [],
   "source": [
    "s3 = pd.Series([np.nan, 10, 30])\n",
    "s3"
   ]
  },
  {
   "cell_type": "markdown",
   "metadata": {},
   "source": [
    "### Series()를 통한 데이터 생성\n",
    "* 함수의 구조 = ```pd.Series(seq_data, index=index_seq)```\n",
    "* index_seq를 집어넣어서 데이터를 만들어보자.\n",
    "* ex. 어느 가게의 날짜별 판매량을 pandas의 Series 형식으로 입력해보자.\n",
    "* 판매량 데이터가 없는 날은 np.nan으로 설정."
   ]
  },
  {
   "cell_type": "code",
   "execution_count": null,
   "metadata": {},
   "outputs": [],
   "source": [
    "index_date = ['2018-10-07', '2018-10-08', '2018-10-09', '2018-10-10']\n",
    "s4 = pd.Series([200, 195, np.nan, 205], index=index_date)\n",
    "s4"
   ]
  },
  {
   "cell_type": "code",
   "execution_count": null,
   "metadata": {},
   "outputs": [],
   "source": [
    "s5 = pd.Series({'국어':100, '영어':95, '수학':90})\n",
    "s5"
   ]
  },
  {
   "cell_type": "code",
   "execution_count": null,
   "metadata": {},
   "outputs": [],
   "source": [
    "s5.index"
   ]
  },
  {
   "cell_type": "code",
   "execution_count": null,
   "metadata": {},
   "outputs": [],
   "source": [
    "s5.values"
   ]
  },
  {
   "cell_type": "markdown",
   "metadata": {},
   "source": [
    "## 날짜변수 다루기\n",
    "* 원하는 날짜를 자동으로 생성해주는 함수\n",
    "* ```pd.date_range()``` 사용해서 만들어보기"
   ]
  },
  {
   "cell_type": "code",
   "execution_count": null,
   "metadata": {},
   "outputs": [],
   "source": [
    "TODAY = '2019-01-01'\n",
    "FINISH = '2019-01-07'"
   ]
  },
  {
   "cell_type": "code",
   "execution_count": null,
   "metadata": {},
   "outputs": [],
   "source": [
    "pd.date_range(start = TODAY, end= '2019-01-07')"
   ]
  },
  {
   "cell_type": "markdown",
   "metadata": {},
   "source": [
    "날짜 입력 시 기입 방법\n",
    "* yyyy-mm-dd 방식 (제일 기본)\n",
    "* yyyy/mm/dd\n",
    "* yyyy.mm.dd\n",
    "* mm-dd-yyyy\n",
    "* mm/dd/yyyy\n",
    "* mm.dd.yyyy"
   ]
  },
  {
   "cell_type": "code",
   "execution_count": null,
   "metadata": {},
   "outputs": [],
   "source": [
    "pd.date_range(start='2019-01-01', end='2019/01/07')"
   ]
  },
  {
   "cell_type": "code",
   "execution_count": null,
   "metadata": {},
   "outputs": [],
   "source": [
    "pd.date_range(start='01-01-2019', end='01-07-2019')"
   ]
  },
  {
   "cell_type": "code",
   "execution_count": null,
   "metadata": {},
   "outputs": [],
   "source": [
    "pd.date_range(start='01/01/2019', end='01/07/2019')"
   ]
  },
  {
   "cell_type": "code",
   "execution_count": null,
   "metadata": {},
   "outputs": [],
   "source": [
    "pd.date_range(start='01.01.2019', end='01.07.2019')"
   ]
  },
  {
   "cell_type": "markdown",
   "metadata": {},
   "source": [
    "### 날짜 조정 함수"
   ]
  },
  {
   "cell_type": "code",
   "execution_count": null,
   "metadata": {},
   "outputs": [],
   "source": [
    "# 오늘부터 7일 후의 날짜를 가져오기.\n",
    "today_date = pd.to_datetime('today').date()\n",
    "later_date = today_date + pd.Timedelta(days=7)\n",
    "\n",
    "pd.date_range(start=today_date, end=later_date)"
   ]
  },
  {
   "cell_type": "markdown",
   "metadata": {},
   "source": [
    "### date_range() : periods\n",
    "* 파라미터 end와 같이 쓰면 안됨"
   ]
  },
  {
   "cell_type": "code",
   "execution_count": null,
   "metadata": {},
   "outputs": [],
   "source": [
    "pd.date_range(start = pd.to_datetime('today').date(), periods=8)"
   ]
  },
  {
   "cell_type": "code",
   "execution_count": null,
   "metadata": {},
   "outputs": [],
   "source": [
    "pd.date_range(start=TODAY, end=FINISH, freq='D')"
   ]
  },
  {
   "cell_type": "markdown",
   "metadata": {},
   "source": [
    "### date_range() : freq"
   ]
  },
  {
   "cell_type": "code",
   "execution_count": null,
   "metadata": {},
   "outputs": [],
   "source": [
    "# 이틀 간 간격: freq='2D'로 설정\n",
    "pd.date_range(start = pd.to_datetime('today').date(), periods=8, freq='2D')"
   ]
  },
  {
   "cell_type": "markdown",
   "metadata": {},
   "source": [
    "### 달력 만들기: freq='W' 사용"
   ]
  },
  {
   "cell_type": "code",
   "execution_count": null,
   "metadata": {},
   "outputs": [],
   "source": [
    "print(pd.date_range(start=TODAY, periods=4, freq='W'))\n",
    "print(pd.date_range(start=TODAY, periods=4, freq='W-SUN'))\n",
    "print(pd.date_range(start=TODAY, periods=4, freq='W-MON'))\n",
    "print(pd.date_range(start=TODAY, periods=4, freq='W-TUE'))\n",
    "print(pd.date_range(start=TODAY, periods=4, freq='W-WED'))"
   ]
  },
  {
   "cell_type": "code",
   "execution_count": null,
   "metadata": {},
   "outputs": [],
   "source": [
    "# 개선된 코드\n",
    "\n",
    "dates = ['W', 'W-SUN', 'W-MON', 'W-TUE', 'W-WED', 'W-FRI']\n",
    "for date in dates:\n",
    "    print(pd.date_range(start=TODAY, periods=4, freq=date))"
   ]
  },
  {
   "cell_type": "markdown",
   "metadata": {},
   "source": [
    "### 시간 자동 생성 (개선된 코드)"
   ]
  },
  {
   "cell_type": "code",
   "execution_count": null,
   "metadata": {},
   "outputs": [],
   "source": [
    "\n",
    "CURTIME = '2019-01-01 08:00'\n",
    "pd.date_range(start = CURTIME, periods=10, freq='BH')\n",
    "\n",
    "# BH는 하루를 의미. \n",
    "# BH 대신 bh를 쓰라고 권고 (deprecated)"
   ]
  },
  {
   "cell_type": "markdown",
   "metadata": {},
   "source": [
    "### 시간 간격 조정"
   ]
  },
  {
   "cell_type": "code",
   "execution_count": null,
   "metadata": {},
   "outputs": [],
   "source": [
    "# period 다르게 해보기 (개선된 코드)\n",
    "\n",
    "CURTIME = '2019-01-01 '\n",
    "times = ['08:00', '07:00', '09:00', '10:00', '11:00']\n",
    "period = [10, 10, 10, 5, 5]\n",
    "for i in range(len(times)):\n",
    "    print(pd.date_range(start = CURTIME + times[i], periods = period[i], freq='bh'))"
   ]
  },
  {
   "cell_type": "markdown",
   "metadata": {},
   "source": [
    "### 분 간격 생성"
   ]
  },
  {
   "cell_type": "code",
   "execution_count": null,
   "metadata": {},
   "outputs": [],
   "source": [
    "# freq 다르게 해보기 (개선된 코드)\n",
    "\n",
    "CURTIME = '2019-01-01 '\n",
    "times = ['08:00', '07:00', '09:00', '10:00', '11:00', '12:00']\n",
    "frequency = ['30min', '30T', '10T', '40T', '60T', '130T']\n",
    "for i in range(len(times)):\n",
    "    print(pd.date_range(start = CURTIME + times[i], periods = 4, freq = frequency[i]))"
   ]
  },
  {
   "cell_type": "markdown",
   "metadata": {},
   "source": [
    "## 초 간격 생성"
   ]
  },
  {
   "cell_type": "code",
   "execution_count": null,
   "metadata": {},
   "outputs": [],
   "source": [
    "CURTIME = '2019-01-01 '\n",
    "times = ['08:00', '07:00', '09:00', '10:00', '11:00', '12:00']\n",
    "for i in range(len(times)):\n",
    "    print(pd.date_range(start = CURTIME + times[i], periods = 4, freq='10s'))"
   ]
  },
  {
   "cell_type": "markdown",
   "metadata": {},
   "source": [
    "## 달 조정"
   ]
  },
  {
   "cell_type": "code",
   "execution_count": null,
   "metadata": {},
   "outputs": [],
   "source": [
    "periods = [3, 4, 10]\n",
    "for p in periods:\n",
    "    print(pd.date_range(start=TODAY, periods=p, freq='YS'))"
   ]
  },
  {
   "cell_type": "markdown",
   "metadata": {},
   "source": [
    "## 응용 문제\n",
    "* date_range() 이용, Series()의 index 지정"
   ]
  },
  {
   "cell_type": "code",
   "execution_count": null,
   "metadata": {},
   "outputs": [],
   "source": [
    "d1 = pd.to_datetime('2019-03-01').date()\n",
    "\n",
    "date_index = pd.date_range(start = d1, end = d1 + pd.Timedelta(days = 4))\n",
    "pd.Series([51, 62, 55, 49, 48], date_index)"
   ]
  },
  {
   "cell_type": "markdown",
   "metadata": {},
   "source": [
    "## DataFrame()\n",
    "* 표와 같은 2차원 데이터\n",
    "* ```DataFrame(data 변수명, index = index 변수명, columns = column list 타입 변수명)```\n",
    "* 리스트, 딕셔너리, 넘파이 등등을 넣을 수 있음\n",
    "* index와 columns는 선택사항.\n",
    "    * 입력하지 않을 경우 자동으로 0부터 숫자가 생성"
   ]
  },
  {
   "cell_type": "code",
   "execution_count": null,
   "metadata": {},
   "outputs": [],
   "source": [
    "DATA = np.array([i for i in range(1, 10)]).reshape(3,3)\n",
    "pd.DataFrame(DATA)"
   ]
  },
  {
   "cell_type": "markdown",
   "metadata": {},
   "source": [
    "인덱스와 컬럼 조정"
   ]
  },
  {
   "cell_type": "code",
   "execution_count": null,
   "metadata": {},
   "outputs": [],
   "source": [
    "data = np.array([i for i in range(10, 100, 10)]).reshape(3,3)\n",
    "column = [chr(i) for i in range(65, 68)]\n",
    "\n",
    "d1 = pd.to_datetime('2019-09-01').date()\n",
    "d2 = d1 + pd.Timedelta(days=2)\n",
    "pd.DataFrame(data, index=pd.date_range(start = d1, end = d2), columns=column)"
   ]
  },
  {
   "cell_type": "markdown",
   "metadata": {},
   "source": [
    "딕셔너리로 dataframe 생성"
   ]
  },
  {
   "cell_type": "code",
   "execution_count": null,
   "metadata": {},
   "outputs": [],
   "source": [
    "dict = {'연도' : [2015, 2016, 2016, 2017, 2017],\n",
    "       '지사' : ['한국', '한국', '미국', '한국', '미국'],\n",
    "       '고객 수' : [200, 250, 450, 300, 500]}\n",
    "\n",
    "pd.DataFrame(dict)"
   ]
  },
  {
   "cell_type": "code",
   "execution_count": null,
   "metadata": {},
   "outputs": [],
   "source": [
    "dict = {'연도' : [2015, 2016, 2016, 2017, 2017],\n",
    "       '지사' : ['한국', '한국', '미국', '한국', '미국'],\n",
    "       '고객 수' : [200, 250, 450, 300, 500]}\n",
    "dict2 = {'지사' : ['한국', '한국', '미국', '한국', '미국'],\n",
    "         '고객 수' : [200, 250, 450, 300, 500]}\n",
    "\n",
    "pd.DataFrame(data = dict2, index = dict['연도'])"
   ]
  },
  {
   "cell_type": "markdown",
   "metadata": {},
   "source": [
    "# 온보딩 (6) : 데이터연산"
   ]
  },
  {
   "cell_type": "markdown",
   "metadata": {},
   "source": [
    "## Series 연산"
   ]
  },
  {
   "cell_type": "code",
   "execution_count": null,
   "metadata": {},
   "outputs": [],
   "source": [
    "s1 = pd.Series([i for i in range(1, 6, 1)])\n",
    "s2 = pd.Series([i for i in range(10, 60, 10)])\n",
    "\n",
    "print(s1 + s2)\n",
    "print(s1 / s2)"
   ]
  },
  {
   "cell_type": "code",
   "execution_count": null,
   "metadata": {},
   "outputs": [],
   "source": [
    "# 자료 간 크기가 다른 경우\n",
    "s1 = pd.Series([i for i in range(1, 7, 1)])\n",
    "s2 = pd.Series([i for i in range(10, 60, 10)])\n",
    "\n",
    "print(s1 + s2)"
   ]
  },
  {
   "cell_type": "code",
   "execution_count": null,
   "metadata": {},
   "outputs": [],
   "source": [
    "# 빈 인덱스 채워주기\n",
    "s1 = pd.Series([i for i in range(1, 5, 1)])\n",
    "s2 = pd.Series([i for i in range(10, 60, 10)], index=[i for i in range(1, 6, 1)])\n",
    "print(s1)\n",
    "print(s2)\n",
    "print(s1 + s2) # NaN이 생기게 된다."
   ]
  },
  {
   "cell_type": "code",
   "execution_count": null,
   "metadata": {},
   "outputs": [],
   "source": [
    "s1.add(s2, fill_value=0) # NaN이 생기지 않게 된다."
   ]
  },
  {
   "cell_type": "markdown",
   "metadata": {},
   "source": [
    "## DataFrame 연산"
   ]
  },
  {
   "cell_type": "code",
   "execution_count": null,
   "metadata": {},
   "outputs": [],
   "source": [
    "df1 = pd.DataFrame({'A' : [i for i in range(1, 6, 1)], \n",
    "                    'B' : [i for i in range(10, 60, 10)], \n",
    "                    'C' : [i for i in range(100, 600, 100)]})\n",
    "df2 = pd.DataFrame({'A' : [i for i in range(6, 9, 1)], \n",
    "                    'B' : [i for i in range(60, 90, 10)], \n",
    "                    'C' : [i for i in range(600, 900, 100)]})\n",
    "print(df1)\n",
    "print(df2)"
   ]
  },
  {
   "cell_type": "code",
   "execution_count": null,
   "metadata": {},
   "outputs": [],
   "source": [
    "# 연산자만 써서 계산시 반드시 NaN이 발생\n",
    "print(df1 + df2)\n",
    "\n",
    "# 메소드 add()를 써서 NaN 보완\n",
    "df1.add(df2, fill_value = 0)"
   ]
  },
  {
   "cell_type": "code",
   "execution_count": null,
   "metadata": {},
   "outputs": [],
   "source": [
    "# 데이터 연산 (평균 구하기)\n",
    "df3 = pd.DataFrame({'봄' : [random.uniform(200, 350) for i in range(1, 6)],\n",
    "                    '여름' : [random.uniform(500, 700) for i in range(1, 6)],\n",
    "                    '가을' : [random.uniform(200, 380) for i in range(1, 6)],\n",
    "                    '겨울' : [random.uniform(40, 160) for i in range(1, 6)]},\n",
    "                    index = [i for i in range(2012, 2017)])\n",
    "df3.mean()"
   ]
  },
  {
   "cell_type": "markdown",
   "metadata": {},
   "source": [
    "### 행/열 전환"
   ]
  },
  {
   "cell_type": "code",
   "execution_count": null,
   "metadata": {},
   "outputs": [],
   "source": [
    "# 행과 열을 바꿔서 연산하기\n",
    "# 1. transpose() 이용\n",
    "df3_t = df3.transpose()\n",
    "df3_t\n",
    "print(df3_t.mean())\n",
    "\n",
    "# 2. axis 이용\n",
    "df3.mean(axis = 1)"
   ]
  },
  {
   "cell_type": "markdown",
   "metadata": {},
   "source": [
    "### describe()"
   ]
  },
  {
   "cell_type": "code",
   "execution_count": null,
   "metadata": {},
   "outputs": [],
   "source": [
    "df3.describe()"
   ]
  }
 ],
 "metadata": {
  "kernelspec": {
   "display_name": "Python 3",
   "language": "python",
   "name": "python3"
  },
  "language_info": {
   "codemirror_mode": {
    "name": "ipython",
    "version": 3
   },
   "file_extension": ".py",
   "mimetype": "text/x-python",
   "name": "python",
   "nbconvert_exporter": "python",
   "pygments_lexer": "ipython3",
   "version": "3.10.13"
  }
 },
 "nbformat": 4,
 "nbformat_minor": 2
}
