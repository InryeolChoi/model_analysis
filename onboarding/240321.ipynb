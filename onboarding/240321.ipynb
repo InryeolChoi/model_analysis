{
 "cells": [
  {
   "cell_type": "markdown",
   "metadata": {},
   "source": [
    "## 문자열"
   ]
  },
  {
   "cell_type": "code",
   "execution_count": 1,
   "metadata": {},
   "outputs": [
    {
     "name": "stdout",
     "output_type": "stream",
     "text": [
      "Python\n",
      "P\n",
      "P\n",
      "n\n",
      "n\n"
     ]
    }
   ],
   "source": [
    "a='Python'\n",
    "print(a)\n",
    "print(a[0])\n",
    "print(a[-6])\n",
    "print(a[5])\n",
    "print(a[-1])"
   ]
  },
  {
   "cell_type": "code",
   "execution_count": 2,
   "metadata": {},
   "outputs": [
    {
     "name": "stdout",
     "output_type": "stream",
     "text": [
      "Henny\n",
      "Penny\n",
      "enny\n",
      "Penny\n",
      "Penny\n"
     ]
    }
   ],
   "source": [
    "name='Henny'\n",
    "# name[0]='P'\n",
    "\n",
    "name.replace('H','P')\n",
    "print(name)\n",
    "\n",
    "v=name.replace('H','P')\n",
    "print(v)\n",
    "\n",
    "print(name[1:])\n",
    "print('P'+name[1:])\n",
    "\n",
    "a='P'+name[1:]\n",
    "print(a)"
   ]
  },
  {
   "cell_type": "code",
   "execution_count": null,
   "metadata": {},
   "outputs": [],
   "source": [
    "letters='abcdefghijklmnopqrstuvwxyz'\n",
    "\n",
    "letters[:]\n",
    "letters[10:]  \n",
    "letters[12:15]\n",
    "letters[-3:]\n",
    "letters[18:-3]\n",
    "letters[-6:-2]\n",
    "letters[::7]\n",
    "letters[4:20:3]\n",
    "letters[19::4]"
   ]
  },
  {
   "cell_type": "code",
   "execution_count": null,
   "metadata": {},
   "outputs": [],
   "source": [
    "a=\"Hello! Let's learn python\"\n",
    "print(a)\n",
    "\n",
    "a[1]\n",
    "a[1:4]\n",
    "a[1:]\n",
    "a[10]\n",
    "a[-1]"
   ]
  },
  {
   "cell_type": "markdown",
   "metadata": {},
   "source": [
    "## 튜플"
   ]
  },
  {
   "cell_type": "code",
   "execution_count": null,
   "metadata": {},
   "outputs": [],
   "source": [
    "empty_1 = ()\n",
    "type(empty_1)\n",
    "\n",
    "one_marx='Groucho',   # method 1\n",
    "one_marx\n",
    "one_marx=('Groucho',)  # method 2\n",
    "one_marx\n",
    "type(one_marx)\n",
    "\n",
    "tuple1 = (1,2,3,4)"
   ]
  },
  {
   "cell_type": "markdown",
   "metadata": {},
   "source": [
    "### 존재여부 확인"
   ]
  },
  {
   "cell_type": "code",
   "execution_count": null,
   "metadata": {},
   "outputs": [
    {
     "data": {
      "text/plain": [
       "True"
      ]
     },
     "execution_count": 3,
     "metadata": {},
     "output_type": "execute_result"
    }
   ],
   "source": [
    "a = 1 in (1, 2, 3)\n",
    "print(a)\n",
    "\n",
    "print()"
   ]
  },
  {
   "cell_type": "markdown",
   "metadata": {},
   "source": [
    "## 리스트"
   ]
  },
  {
   "cell_type": "code",
   "execution_count": null,
   "metadata": {},
   "outputs": [],
   "source": []
  }
 ],
 "metadata": {
  "kernelspec": {
   "display_name": "Python 3",
   "language": "python",
   "name": "python3"
  },
  "language_info": {
   "codemirror_mode": {
    "name": "ipython",
    "version": 3
   },
   "file_extension": ".py",
   "mimetype": "text/x-python",
   "name": "python",
   "nbconvert_exporter": "python",
   "pygments_lexer": "ipython3",
   "version": "3.10.13"
  }
 },
 "nbformat": 4,
 "nbformat_minor": 2
}
