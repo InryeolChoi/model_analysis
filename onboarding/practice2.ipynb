{
 "cells": [
  {
   "cell_type": "code",
   "execution_count": null,
   "metadata": {},
   "outputs": [],
   "source": [
    "import pandas as pd\n",
    "import numpy as np"
   ]
  },
  {
   "cell_type": "markdown",
   "metadata": {},
   "source": [
    "# 온보딩 (6) : 데이터연산"
   ]
  },
  {
   "cell_type": "code",
   "execution_count": null,
   "metadata": {},
   "outputs": [],
   "source": [
    "s1 = pd.Series([i for i in range(1, 7, 1)])\n",
    "s2 = pd.Series([i for i in range(10, 60, 10)])\n",
    "\n",
    "# print(s1 + s2)\n",
    "# print(s1 / s2)\n",
    "\n",
    "# s1.add(s2, fill_value = 0)\n",
    "# s1.divide(s2, fill_value = 0)\n",
    "\n",
    "df1 = pd.DataFrame({'A' : [i for i in range(1, 6, 1)], \n",
    "                    'B' : [i for i in range(10, 60, 10)], \n",
    "                    'C' : [i for i in range(100, 600, 100)]})\n",
    "df2 = pd.DataFrame({'A' : [i for i in range(6, 9, 1)], \n",
    "                    'B' : [i for i in range(60, 90, 10)], \n",
    "                    'C' : [i for i in range(600, 900, 100)]})\n",
    "\n",
    "df1.add(df2, fill_value = 0)\n",
    "df1.mean()\n",
    "df1.describe()"
   ]
  },
  {
   "cell_type": "markdown",
   "metadata": {},
   "source": [
    "# 온보딩(7) : 데이터 인덱싱"
   ]
  },
  {
   "cell_type": "code",
   "execution_count": null,
   "metadata": {},
   "outputs": [],
   "source": [
    "KTX_data = {'경부선 KTX':[39060,39896,42005,43621,41702,41266,32427],\n",
    "            '호남선 KTX':[7313,6967,6873,6626,8675,10622,9228],\n",
    "            '경전선 KTX':[3627,4168,4088,4424,4606,4984,5570],\n",
    "            '전라선 KTX':[309,1771,1954,2244,3146,3945,5766],\n",
    "            '동해선 KTX':[np.nan,np.nan,np.nan,np.nan,2395,3786,6667]}\n",
    "\n",
    "col_list = ['경부선 KTX', '호남선 KTX', '경전선 KTX', '전라선 KTX', '동해선 KTX']\n",
    "index_list = ['2011','2012','2013','2014','2015','2016','2017']\n",
    "df3 = pd.DataFrame(KTX_data, columns=col_list, index=index_list)"
   ]
  },
  {
   "cell_type": "code",
   "execution_count": null,
   "metadata": {},
   "outputs": [],
   "source": [
    "# 행 인덱싱\n",
    "print(df3[0:1], end='\\n\\n')\n",
    "print(df3.iloc[0:1], end='\\n\\n')\n",
    "\n",
    "# 열 인덱싱\n",
    "print(df3['경부선 KTX'], end='\\n\\n')\n",
    "print(df3.loc[['2011']], end='\\n\\n')\n",
    "\n",
    "# 복합 인덱싱\n",
    "print(df3['경부선 KTX']['2011':'2014'])\n"
   ]
  },
  {
   "cell_type": "code",
   "execution_count": null,
   "metadata": {},
   "outputs": [],
   "source": [
    "# 복합 인덱싱\n",
    "# print(df3.iloc[:, 2:5])\n",
    "# print(df3.loc[:, '호남선 KTX':])\n",
    "# print(df3.loc['2012':'2014', '경전선 KTX':])\n",
    "\n",
    "## 열의 항목을 지정해 열의 순서를 변경\n",
    "# df3[['동해선 KTX', '전라선 KTX', '경전선 KTX']]\n",
    "\n",
    "## 목록을 리스트로 바꾸기\n",
    "arr1 = df3.columns.tolist()\n",
    "arr2 = df3.values.tolist()\n",
    "arr3 = df3.index.tolist()\n",
    "arr4 = df3['경부선 KTX'].tolist()\n",
    "arr5 = df3.loc['2011'].tolist()\n",
    "\n",
    "## 조건 기반 인덱싱\n",
    "df3[df3.index >= '2016']\n",
    "df3[df3.index < '2016']\n",
    "df3[df3.index == '2016']\n",
    "\n",
    "## loc vs iloc\n",
    "df3.loc['2011']\n",
    "df3.loc['2011':'2013']\n",
    "df3.loc[['2011','2013']]"
   ]
  },
  {
   "cell_type": "markdown",
   "metadata": {},
   "source": [
    "# 온보딩 (8) : 데이터 통합"
   ]
  },
  {
   "cell_type": "code",
   "execution_count": 66,
   "metadata": {},
   "outputs": [],
   "source": [
    "df1 = pd.DataFrame({'c1': [95,92,98,100],\n",
    "                    'c2': [91,93,97,99]})\n",
    "df2 = pd.DataFrame({'c1': [87,89],\n",
    "                    'c2': [85,90]})\n",
    "df4 = pd.DataFrame({'c3': [93,91,95,98]})"
   ]
  },
  {
   "cell_type": "code",
   "execution_count": 67,
   "metadata": {},
   "outputs": [
    {
     "data": {
      "text/html": [
       "<div>\n",
       "<style scoped>\n",
       "    .dataframe tbody tr th:only-of-type {\n",
       "        vertical-align: middle;\n",
       "    }\n",
       "\n",
       "    .dataframe tbody tr th {\n",
       "        vertical-align: top;\n",
       "    }\n",
       "\n",
       "    .dataframe thead th {\n",
       "        text-align: right;\n",
       "    }\n",
       "</style>\n",
       "<table border=\"1\" class=\"dataframe\">\n",
       "  <thead>\n",
       "    <tr style=\"text-align: right;\">\n",
       "      <th></th>\n",
       "      <th>c1</th>\n",
       "      <th>c2</th>\n",
       "      <th>c3</th>\n",
       "    </tr>\n",
       "  </thead>\n",
       "  <tbody>\n",
       "    <tr>\n",
       "      <th>0</th>\n",
       "      <td>95</td>\n",
       "      <td>91</td>\n",
       "      <td>93</td>\n",
       "    </tr>\n",
       "    <tr>\n",
       "      <th>1</th>\n",
       "      <td>92</td>\n",
       "      <td>93</td>\n",
       "      <td>91</td>\n",
       "    </tr>\n",
       "    <tr>\n",
       "      <th>2</th>\n",
       "      <td>98</td>\n",
       "      <td>97</td>\n",
       "      <td>95</td>\n",
       "    </tr>\n",
       "    <tr>\n",
       "      <th>3</th>\n",
       "      <td>100</td>\n",
       "      <td>99</td>\n",
       "      <td>98</td>\n",
       "    </tr>\n",
       "  </tbody>\n",
       "</table>\n",
       "</div>"
      ],
      "text/plain": [
       "    c1  c2  c3\n",
       "0   95  91  93\n",
       "1   92  93  91\n",
       "2   98  97  95\n",
       "3  100  99  98"
      ]
     },
     "execution_count": 67,
     "metadata": {},
     "output_type": "execute_result"
    }
   ],
   "source": [
    "# 세로로 합치기\n",
    "pd.concat([df1, df2])\n",
    "pd.concat([df1, df2], ignore_index = True)\n",
    "\n",
    "# 가로로 합치기\n",
    "df1.join(df4)"
   ]
  },
  {
   "cell_type": "code",
   "execution_count": 70,
   "metadata": {},
   "outputs": [
    {
     "name": "stdout",
     "output_type": "stream",
     "text": [
      "    c1  c2  c3\n",
      "a   95  91  93\n",
      "b   92  93  91\n",
      "c   98  97  95\n",
      "d  100  99  98\n",
      "    c1  c2  c3\n",
      "a   95  91 NaN\n",
      "b   92  93 NaN\n",
      "c   98  97 NaN\n",
      "d  100  99 NaN\n"
     ]
    }
   ],
   "source": [
    "# index가 같은 경우\n",
    "index_label = ['a', 'b', 'c', 'd']\n",
    "\n",
    "df1 = pd.DataFrame({'c1': [95,92,98,100],\n",
    "                    'c2': [91,93,97,99]}, index=index_label)\n",
    "df4 = pd.DataFrame({'c3': [93,91,95,98]}, index=index_label)\n",
    "df5 = pd.DataFrame({'c3': [82, 93]})\n",
    "print(df1.join(df4))\n",
    "print(df1.join(df5))"
   ]
  },
  {
   "cell_type": "code",
   "execution_count": 73,
   "metadata": {},
   "outputs": [
    {
     "data": {
      "text/html": [
       "<div>\n",
       "<style scoped>\n",
       "    .dataframe tbody tr th:only-of-type {\n",
       "        vertical-align: middle;\n",
       "    }\n",
       "\n",
       "    .dataframe tbody tr th {\n",
       "        vertical-align: top;\n",
       "    }\n",
       "\n",
       "    .dataframe thead th {\n",
       "        text-align: right;\n",
       "    }\n",
       "</style>\n",
       "<table border=\"1\" class=\"dataframe\">\n",
       "  <thead>\n",
       "    <tr style=\"text-align: right;\">\n",
       "      <th></th>\n",
       "      <th>판매월</th>\n",
       "      <th>제품A</th>\n",
       "      <th>제품B</th>\n",
       "      <th>제품C</th>\n",
       "      <th>제품D</th>\n",
       "    </tr>\n",
       "  </thead>\n",
       "  <tbody>\n",
       "    <tr>\n",
       "      <th>0</th>\n",
       "      <td>1월</td>\n",
       "      <td>100</td>\n",
       "      <td>90</td>\n",
       "      <td>112</td>\n",
       "      <td>90</td>\n",
       "    </tr>\n",
       "    <tr>\n",
       "      <th>1</th>\n",
       "      <td>2월</td>\n",
       "      <td>150</td>\n",
       "      <td>110</td>\n",
       "      <td>141</td>\n",
       "      <td>110</td>\n",
       "    </tr>\n",
       "    <tr>\n",
       "      <th>2</th>\n",
       "      <td>3월</td>\n",
       "      <td>200</td>\n",
       "      <td>140</td>\n",
       "      <td>203</td>\n",
       "      <td>140</td>\n",
       "    </tr>\n",
       "    <tr>\n",
       "      <th>3</th>\n",
       "      <td>4월</td>\n",
       "      <td>130</td>\n",
       "      <td>170</td>\n",
       "      <td>134</td>\n",
       "      <td>170</td>\n",
       "    </tr>\n",
       "  </tbody>\n",
       "</table>\n",
       "</div>"
      ],
      "text/plain": [
       "  판매월  제품A  제품B  제품C  제품D\n",
       "0  1월  100   90  112   90\n",
       "1  2월  150  110  141  110\n",
       "2  3월  200  140  203  140\n",
       "3  4월  130  170  134  170"
      ]
     },
     "execution_count": 73,
     "metadata": {},
     "output_type": "execute_result"
    }
   ],
   "source": [
    "df5 = pd.DataFrame({'판매월': ['1월','2월','3월','4월'],\n",
    "                    '제품A': [100,150,200,130],\n",
    "                    '제품B': [90,110,140,170]})\n",
    "df6 = pd.DataFrame({'판매월': ['1월','2월','3월','4월'],\n",
    "                    '제품C': [112,141,203,134],\n",
    "                    '제품D': [90,110,140,170]})\n",
    "\n",
    "df5.merge(df6)"
   ]
  },
  {
   "cell_type": "code",
   "execution_count": 74,
   "metadata": {},
   "outputs": [
    {
     "data": {
      "text/html": [
       "<div>\n",
       "<style scoped>\n",
       "    .dataframe tbody tr th:only-of-type {\n",
       "        vertical-align: middle;\n",
       "    }\n",
       "\n",
       "    .dataframe tbody tr th {\n",
       "        vertical-align: top;\n",
       "    }\n",
       "\n",
       "    .dataframe thead th {\n",
       "        text-align: right;\n",
       "    }\n",
       "</style>\n",
       "<table border=\"1\" class=\"dataframe\">\n",
       "  <thead>\n",
       "    <tr style=\"text-align: right;\">\n",
       "      <th></th>\n",
       "      <th>key</th>\n",
       "      <th>left</th>\n",
       "      <th>right</th>\n",
       "    </tr>\n",
       "  </thead>\n",
       "  <tbody>\n",
       "    <tr>\n",
       "      <th>0</th>\n",
       "      <td>A</td>\n",
       "      <td>1</td>\n",
       "      <td>4.0</td>\n",
       "    </tr>\n",
       "    <tr>\n",
       "      <th>1</th>\n",
       "      <td>B</td>\n",
       "      <td>2</td>\n",
       "      <td>5.0</td>\n",
       "    </tr>\n",
       "    <tr>\n",
       "      <th>2</th>\n",
       "      <td>D</td>\n",
       "      <td>3</td>\n",
       "      <td>NaN</td>\n",
       "    </tr>\n",
       "  </tbody>\n",
       "</table>\n",
       "</div>"
      ],
      "text/plain": [
       "  key  left  right\n",
       "0   A     1    4.0\n",
       "1   B     2    5.0\n",
       "2   D     3    NaN"
      ]
     },
     "execution_count": 74,
     "metadata": {},
     "output_type": "execute_result"
    }
   ],
   "source": [
    "df5 = pd.DataFrame({'key' : ['A', 'B', 'D'], 'left' : [1,2,3]})\n",
    "df6 = pd.DataFrame({'key' : ['A', 'B', 'C'], 'right' : [4,5,6]})\n",
    "\n",
    "df5.merge(df6, how='left', on='key')\n",
    "df5.merge(df6, how='right', on='key')\n",
    "df5.merge(df6, how='left', on='key')\n",
    "df5.merge(df6, how='left', on='key')"
   ]
  },
  {
   "cell_type": "markdown",
   "metadata": {},
   "source": [
    "# 온보딩 (9) : 데이터 읽기\n",
    "CSV에 쓰기"
   ]
  },
  {
   "cell_type": "code",
   "execution_count": 76,
   "metadata": {},
   "outputs": [
    {
     "data": {
      "text/html": [
       "<div>\n",
       "<style scoped>\n",
       "    .dataframe tbody tr th:only-of-type {\n",
       "        vertical-align: middle;\n",
       "    }\n",
       "\n",
       "    .dataframe tbody tr th {\n",
       "        vertical-align: top;\n",
       "    }\n",
       "\n",
       "    .dataframe thead th {\n",
       "        text-align: right;\n",
       "    }\n",
       "</style>\n",
       "<table border=\"1\" class=\"dataframe\">\n",
       "  <thead>\n",
       "    <tr style=\"text-align: right;\">\n",
       "      <th></th>\n",
       "      <th>Weight</th>\n",
       "      <th>Height</th>\n",
       "      <th>BMI</th>\n",
       "    </tr>\n",
       "    <tr>\n",
       "      <th>User</th>\n",
       "      <th></th>\n",
       "      <th></th>\n",
       "      <th></th>\n",
       "    </tr>\n",
       "  </thead>\n",
       "  <tbody>\n",
       "    <tr>\n",
       "      <th>ID_1</th>\n",
       "      <td>62</td>\n",
       "      <td>165</td>\n",
       "      <td>22.773186</td>\n",
       "    </tr>\n",
       "    <tr>\n",
       "      <th>ID_2</th>\n",
       "      <td>67</td>\n",
       "      <td>177</td>\n",
       "      <td>21.385936</td>\n",
       "    </tr>\n",
       "    <tr>\n",
       "      <th>ID_3</th>\n",
       "      <td>55</td>\n",
       "      <td>160</td>\n",
       "      <td>21.484375</td>\n",
       "    </tr>\n",
       "    <tr>\n",
       "      <th>ID_4</th>\n",
       "      <td>74</td>\n",
       "      <td>180</td>\n",
       "      <td>22.839506</td>\n",
       "    </tr>\n",
       "  </tbody>\n",
       "</table>\n",
       "</div>"
      ],
      "text/plain": [
       "      Weight  Height        BMI\n",
       "User                           \n",
       "ID_1      62     165  22.773186\n",
       "ID_2      67     177  21.385936\n",
       "ID_3      55     160  21.484375\n",
       "ID_4      74     180  22.839506"
      ]
     },
     "execution_count": 76,
     "metadata": {},
     "output_type": "execute_result"
    }
   ],
   "source": [
    "df_WH = pd.DataFrame({'Weight' : [62, 67, 55, 74],\n",
    "                      'Height': [165, 177, 160, 180]},\n",
    "                      index = ['ID_1', 'ID_2', 'ID_3', 'ID_4'])\n",
    "df_WH.index.name = 'User'\n",
    "df_WH['BMI'] = df_WH['Weight'] / ((df_WH['Height'] / 100) ** 2)\n",
    "df_WH\n",
    "\n",
    "# 윈도우에 저장\n",
    "# df_WH.to_csv(\"./save_df.csv\")\n",
    "\n",
    "# 윈도우에서 파일 확인하기\n",
    "# !type ./save_df.csv"
   ]
  },
  {
   "cell_type": "markdown",
   "metadata": {},
   "source": [
    "# 온보딩 (10) : 데이터 추출하기"
   ]
  },
  {
   "cell_type": "code",
   "execution_count": null,
   "metadata": {},
   "outputs": [],
   "source": [
    "exam = pd.read_csv(\"./exam.csv\")\n",
    "exam.head()\n",
    "\n",
    "exam.query('nclass == 2')\n",
    "exam.query('nclass == 2 & english > 80')\n",
    "\n",
    "exam.query('nclass in [1, 3, 5]')"
   ]
  },
  {
   "cell_type": "code",
   "execution_count": null,
   "metadata": {},
   "outputs": [],
   "source": [
    "data = {'sex' : [\"F\", \"M\", \"F\", \"M\"],\n",
    "        'country' : ['Korea', 'China', 'Japan', 'USA'] }\n",
    "data = pd.DataFrame(data)\n",
    "data.query(\"sex == 'F' & country == 'Korea'\")\n",
    "exam['math']\n",
    "exam[['nclass', 'math']]\n",
    "\n",
    "# 특정 행을 제외하기\n",
    "exam.drop(columns= 'math')"
   ]
  },
  {
   "cell_type": "markdown",
   "metadata": {},
   "source": [
    "# 온보딩 (11) : 데이터 전처리"
   ]
  },
  {
   "cell_type": "code",
   "execution_count": null,
   "metadata": {},
   "outputs": [],
   "source": [
    "# 1반 학생들의 영어 점수\n",
    "# exam.query('nclass == 1')[['english']]\n",
    "\n",
    "# 수학 점수가 50점 이상인 학생의 id와 math 추출\n",
    "exam.query('math >= 50')[['id', 'math']]\n",
    "\n",
    "# math가 50점 이상 중 id, math 앞부분 5행만 추출\n",
    "exam.query('math >= 50')[['id', 'math']].head()\n",
    "\n",
    "# 특정 변수 기준 정렬\n",
    "exam.sort_values('math', ascending=True)\n",
    "\n",
    "# 파생변수 만들기\n",
    "exam.assign(total = exam['math'] + exam['english'] + exam['science'])\n",
    "\n",
    "exam.assign(total = exam['math'] + exam['english'] + exam['science'],\n",
    "            mean = (exam['math'] + exam['english'] + exam['science']) / 3)\n",
    "\n",
    "exam.assign(test = np.where(exam['science'] >= 60, 'pass', 'fail'))\n",
    "\n",
    "# 집단별로 요약하기\n",
    "exam.agg(mean_math = ('math', 'mean'))\n",
    "exam.groupby('nclass').agg(mean_math = ('math', 'mean'))\n",
    "exam.groupby('nclass')['math'].mean()"
   ]
  }
 ],
 "metadata": {
  "kernelspec": {
   "display_name": "Python 3",
   "language": "python",
   "name": "python3"
  },
  "language_info": {
   "codemirror_mode": {
    "name": "ipython",
    "version": 3
   },
   "file_extension": ".py",
   "mimetype": "text/x-python",
   "name": "python",
   "nbconvert_exporter": "python",
   "pygments_lexer": "ipython3",
   "version": "3.10.13"
  }
 },
 "nbformat": 4,
 "nbformat_minor": 2
}
