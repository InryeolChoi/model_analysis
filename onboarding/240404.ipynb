{
 "cells": [
  {
   "cell_type": "markdown",
   "metadata": {},
   "source": [
    "# 온보딩 (7) : Pandas"
   ]
  },
  {
   "cell_type": "code",
   "execution_count": null,
   "metadata": {},
   "outputs": [],
   "source": [
    "import numpy as np\n",
    "import pandas as pd"
   ]
  },
  {
   "cell_type": "markdown",
   "metadata": {},
   "source": [
    "## 행 단위 인덱싱"
   ]
  },
  {
   "cell_type": "code",
   "execution_count": null,
   "metadata": {},
   "outputs": [],
   "source": [
    "# 예제 데이터\n",
    "KTX_data={'경부선 KTX':[39060,39896,42005,43621,41702,41266,32427],\n",
    "\n",
    "          '호남선 KTX':[7313,6967,6873,6626,8675,10622,9228],\n",
    "\n",
    "          '경전선 KTX':[3627,4168,4088,4424,4606,4984,5570],\n",
    "\n",
    "          '전라선 KTX':[309,1771,1954,2244,3146,3945,5766],\n",
    "\n",
    "          '동해선 KTX':[np.nan,np.nan,np.nan,np.nan,2395,3786,6667]}\n",
    "\n",
    "col_list=['경부선 KTX', '호남선 KTX', '경전선 KTX', '전라선 KTX', '동해선 KTX']\n",
    "index_list=['2011','2012','2013','2014','2015','2016','2017']\n",
    "\n",
    "df_KTX=pd.DataFrame(KTX_data, columns=col_list, index=index_list)\n",
    "df_KTX"
   ]
  },
  {
   "cell_type": "code",
   "execution_count": null,
   "metadata": {},
   "outputs": [],
   "source": [
    "print(df_KTX.index)\n",
    "print(df_KTX.columns)\n",
    "print(df_KTX.values)\n",
    "print(df_KTX.head(3))\n",
    "print(df_KTX.tail(2))"
   ]
  },
  {
   "cell_type": "code",
   "execution_count": null,
   "metadata": {},
   "outputs": [],
   "source": [
    "# 행 인덱싱 : 숫자로 하기\n",
    "\n",
    "print(df_KTX[0:1])\n",
    "print(\"\\n\")\n",
    "print(df_KTX[2:5]) # 2번째 행 ~ 4번째 행 까지"
   ]
  },
  {
   "cell_type": "code",
   "execution_count": null,
   "metadata": {},
   "outputs": [],
   "source": [
    "# 행 인덱싱 : loc 사용 -> 결과가 데이터프레임\n",
    "\n",
    "print(df_KTX.loc['2011'])\n",
    "print(\"\\n\")\n",
    "\n",
    "print(df_KTX.loc['2013':'2016'])\n",
    "# 에러 발생\n",
    "# print(df_KTX['2011'])"
   ]
  },
  {
   "cell_type": "markdown",
   "metadata": {},
   "source": [
    "## 열 단위 인덱싱"
   ]
  },
  {
   "cell_type": "code",
   "execution_count": null,
   "metadata": {},
   "outputs": [],
   "source": [
    "df_KTX['경부선 KTX']"
   ]
  },
  {
   "cell_type": "code",
   "execution_count": null,
   "metadata": {},
   "outputs": [],
   "source": [
    "# iloc 메소드 사용\n",
    "df_KTX.iloc[0:4, 0:3]"
   ]
  },
  {
   "cell_type": "markdown",
   "metadata": {},
   "source": [
    "## 복합 인덱싱\n",
    "열 선택 후 index 범위 지정"
   ]
  },
  {
   "cell_type": "code",
   "execution_count": null,
   "metadata": {},
   "outputs": [],
   "source": [
    "print(df_KTX['경부선 KTX']['2012' : '2014'])\n",
    "print(\"\\n\")\n",
    "print(df_KTX['경부선 KTX'][1:4])"
   ]
  },
  {
   "cell_type": "code",
   "execution_count": null,
   "metadata": {},
   "outputs": [],
   "source": [
    "print(type(df_KTX.loc['2011']))\n",
    "print(type(df_KTX[0:1]))\n",
    "\n",
    "print(df_KTX.loc[['2011']])\n",
    "print(type(df_KTX.loc[['2011']]))"
   ]
  },
  {
   "cell_type": "code",
   "execution_count": null,
   "metadata": {},
   "outputs": [],
   "source": [
    "df_KTX.iloc[:, 2:5]"
   ]
  },
  {
   "cell_type": "code",
   "execution_count": null,
   "metadata": {},
   "outputs": [],
   "source": [
    "df_KTX.loc[:, '호남선 KTX':]"
   ]
  },
  {
   "cell_type": "code",
   "execution_count": null,
   "metadata": {},
   "outputs": [],
   "source": [
    "df_KTX.loc['2012':'2014', '경전선 KTX':]"
   ]
  },
  {
   "cell_type": "code",
   "execution_count": null,
   "metadata": {},
   "outputs": [],
   "source": [
    "# 2016년의 '호남선 KTX'의 이용자 수 선택\n",
    "df_KTX.loc['2016', '호남선 KTX']"
   ]
  },
  {
   "cell_type": "code",
   "execution_count": null,
   "metadata": {},
   "outputs": [],
   "source": [
    "# 열의 항목을 지정해 열의 순서를 변경\n",
    "df_KTX[['동해선 KTX', '전라선 KTX', '경전선 KTX']]"
   ]
  },
  {
   "cell_type": "code",
   "execution_count": null,
   "metadata": {},
   "outputs": [],
   "source": [
    "# 목록을 list로 바꾸기\n",
    "arr1 = df_KTX.columns.tolist()\n",
    "arr2 = df_KTX.values.tolist()\n",
    "arr3 = df_KTX.index.tolist()\n",
    "arr4 = df_KTX['경부선 KTX'].tolist()\n",
    "arr5 = df_KTX.loc['2011'].tolist()\n",
    "\n",
    "print(arr1)\n",
    "print(arr2)\n",
    "print(arr3)\n",
    "print(arr4)\n",
    "print(arr5)"
   ]
  },
  {
   "cell_type": "markdown",
   "metadata": {},
   "source": [
    "## 조건 기반 인덱싱"
   ]
  },
  {
   "cell_type": "code",
   "execution_count": null,
   "metadata": {},
   "outputs": [],
   "source": [
    "df_KTX[df_KTX.index >= '2016']"
   ]
  },
  {
   "cell_type": "code",
   "execution_count": null,
   "metadata": {},
   "outputs": [],
   "source": [
    "df_KTX[df_KTX.index < '2016']"
   ]
  },
  {
   "cell_type": "code",
   "execution_count": null,
   "metadata": {},
   "outputs": [],
   "source": [
    "df_KTX[df_KTX.index == '2016']"
   ]
  },
  {
   "cell_type": "markdown",
   "metadata": {},
   "source": [
    "## loc vs iloc"
   ]
  },
  {
   "cell_type": "code",
   "execution_count": null,
   "metadata": {},
   "outputs": [],
   "source": [
    "print(df_KTX.loc['2011'])"
   ]
  },
  {
   "cell_type": "code",
   "execution_count": null,
   "metadata": {},
   "outputs": [],
   "source": [
    "print(df_KTX.loc['2011':'2013'])"
   ]
  },
  {
   "cell_type": "code",
   "execution_count": null,
   "metadata": {},
   "outputs": [],
   "source": [
    "print(df_KTX.loc[['2011','2013']])"
   ]
  },
  {
   "cell_type": "code",
   "execution_count": null,
   "metadata": {},
   "outputs": [],
   "source": [
    "print(df_KTX.loc[['2011']])"
   ]
  },
  {
   "cell_type": "code",
   "execution_count": null,
   "metadata": {},
   "outputs": [],
   "source": [
    "print(df_KTX.iloc[0])"
   ]
  },
  {
   "cell_type": "code",
   "execution_count": null,
   "metadata": {},
   "outputs": [],
   "source": [
    "print(df_KTX.iloc[0:3])"
   ]
  },
  {
   "cell_type": "code",
   "execution_count": null,
   "metadata": {},
   "outputs": [],
   "source": [
    "print(df_KTX.iloc[[0]])"
   ]
  },
  {
   "cell_type": "code",
   "execution_count": null,
   "metadata": {},
   "outputs": [],
   "source": [
    "df_KTX.loc[['2011','2013']]\n",
    "df_KTX.iloc[[0, 2]]"
   ]
  },
  {
   "cell_type": "code",
   "execution_count": null,
   "metadata": {},
   "outputs": [],
   "source": [
    "KTX_2 = df_KTX.iloc[0:3, 0].tolist()\n",
    "KTX_2"
   ]
  }
 ],
 "metadata": {
  "kernelspec": {
   "display_name": "Python 3",
   "language": "python",
   "name": "python3"
  },
  "language_info": {
   "codemirror_mode": {
    "name": "ipython",
    "version": 3
   },
   "file_extension": ".py",
   "mimetype": "text/x-python",
   "name": "python",
   "nbconvert_exporter": "python",
   "pygments_lexer": "ipython3",
   "version": "3.10.13"
  }
 },
 "nbformat": 4,
 "nbformat_minor": 2
}
