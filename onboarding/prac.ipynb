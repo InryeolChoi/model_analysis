{
 "cells": [
  {
   "cell_type": "markdown",
   "metadata": {},
   "source": [
    "## bool 사용"
   ]
  },
  {
   "cell_type": "code",
   "execution_count": 105,
   "metadata": {},
   "outputs": [
    {
     "name": "stdout",
     "output_type": "stream",
     "text": [
      "True\n",
      "True\n",
      "True\n",
      "True\n",
      "False\n",
      "False\n"
     ]
    }
   ],
   "source": [
    "print(bool(True))\n",
    "print(bool(1))\n",
    "print(bool(45))\n",
    "print(bool(-45))\n",
    "print(bool(False))\n",
    "print(bool(0.0))"
   ]
  },
  {
   "cell_type": "markdown",
   "metadata": {},
   "source": [
    "## 정수 파악"
   ]
  },
  {
   "cell_type": "code",
   "execution_count": 106,
   "metadata": {},
   "outputs": [
    {
     "name": "stdout",
     "output_type": "stream",
     "text": [
      "5\n",
      "0\n",
      "300000000.0\n"
     ]
    }
   ],
   "source": [
    "print(5)\n",
    "print(0)\n",
    "# print(05)\n",
    "\n",
    "print(3e8)"
   ]
  },
  {
   "cell_type": "markdown",
   "metadata": {},
   "source": [
    "## 지수 작성하기"
   ]
  },
  {
   "cell_type": "code",
   "execution_count": 107,
   "metadata": {},
   "outputs": [
    {
     "name": "stdout",
     "output_type": "stream",
     "text": [
      "300000000.0\n",
      "300000000.0\n",
      "1000000000000000.0\n",
      "1 0 0\n",
      "million = 1000000\n",
      "123\n"
     ]
    }
   ],
   "source": [
    "print(3.0*10**8)\n",
    "print(3e8)\n",
    "print(1e15)\n",
    "print(1,000,000)\n",
    "\n",
    "million = 1_000_000\n",
    "print(f\"million = {million}\")\n",
    "print(1_2_3)"
   ]
  },
  {
   "cell_type": "markdown",
   "metadata": {},
   "source": [
    "## 실수 작성하기"
   ]
  },
  {
   "cell_type": "code",
   "execution_count": 108,
   "metadata": {},
   "outputs": [
    {
     "name": "stdout",
     "output_type": "stream",
     "text": [
      "5\n",
      "5.0\n",
      "<class 'int'>\n",
      "<class 'float'>\n",
      "1.001\n",
      "101\n"
     ]
    }
   ],
   "source": [
    "print(5)\n",
    "print(5.) # 이것도 허용\n",
    "\n",
    "print(type(5))\n",
    "print(type(5.))\n",
    "\n",
    "print(1.0_0_1)\n",
    "print(1_0_1)\n"
   ]
  },
  {
   "cell_type": "markdown",
   "metadata": {},
   "source": [
    "## float() 사용 1"
   ]
  },
  {
   "cell_type": "code",
   "execution_count": 109,
   "metadata": {},
   "outputs": [
    {
     "name": "stdout",
     "output_type": "stream",
     "text": [
      "<class 'bool'>\n",
      "<class 'bool'>\n",
      "1.0\n",
      "0.0\n",
      "<class 'float'>\n",
      "<class 'float'>\n"
     ]
    }
   ],
   "source": [
    "print(type(True))\n",
    "print(type(False))\n",
    "\n",
    "print(float(True))\n",
    "print(float(False))\n",
    "\n",
    "print(type(float(True)))\n",
    "print(type(float(False)))"
   ]
  },
  {
   "cell_type": "markdown",
   "metadata": {},
   "source": [
    "## float() 사용 2\n",
    "- `type()`을 이용해 타입을 검사한다."
   ]
  },
  {
   "cell_type": "code",
   "execution_count": 110,
   "metadata": {},
   "outputs": [
    {
     "data": {
      "text/plain": [
       "1.0"
      ]
     },
     "execution_count": 110,
     "metadata": {},
     "output_type": "execute_result"
    }
   ],
   "source": [
    "int(98)\n",
    "float(98)\n",
    "\n",
    "type(int(98))\n",
    "type(float(98))\n",
    "\n",
    "'99'\n",
    "type('99')\n",
    "\n",
    "float('99')\n",
    "type(float('99'))\n",
    "\n",
    "float(bool(True))\n"
   ]
  },
  {
   "cell_type": "markdown",
   "metadata": {},
   "source": [
    "## float() 사용 3"
   ]
  },
  {
   "cell_type": "code",
   "execution_count": 111,
   "metadata": {},
   "outputs": [
    {
     "data": {
      "text/plain": [
       "float"
      ]
     },
     "execution_count": 111,
     "metadata": {},
     "output_type": "execute_result"
    }
   ],
   "source": [
    "type('1.0e4')\n",
    "\n",
    "float('98.6')\n",
    "float('-1.5')\n",
    "float('1.0e4')\n",
    "\n",
    "\n",
    "type(float('1.0e4'))\n",
    "\n",
    "a='1.0e4'\n",
    "type(a)\n",
    "float(a)\n",
    "type(float(a))\n"
   ]
  },
  {
   "cell_type": "markdown",
   "metadata": {},
   "source": [
    "## int() 사용"
   ]
  },
  {
   "cell_type": "code",
   "execution_count": 112,
   "metadata": {},
   "outputs": [
    {
     "name": "stdout",
     "output_type": "stream",
     "text": [
      "98\n",
      "-1\n",
      "10000\n"
     ]
    }
   ],
   "source": [
    "print(int(98.6))\n",
    "print(int(-1.5))\n",
    "print(int(1.0e4))\n"
   ]
  },
  {
   "cell_type": "markdown",
   "metadata": {},
   "source": [
    "### 예외사항\n",
    "* int()의 parameter로 문자가 들어가면 무조건 에러.\n",
    "* 타입이 문자열인 실수도 마찬가지."
   ]
  },
  {
   "cell_type": "code",
   "execution_count": 113,
   "metadata": {},
   "outputs": [],
   "source": [
    "# int('1.0e4')\n",
    "# int('hello world')"
   ]
  },
  {
   "cell_type": "markdown",
   "metadata": {},
   "source": [
    "## 문자열"
   ]
  },
  {
   "cell_type": "code",
   "execution_count": 114,
   "metadata": {},
   "outputs": [
    {
     "name": "stdout",
     "output_type": "stream",
     "text": [
      "I don't like it\n"
     ]
    }
   ],
   "source": [
    "# 기본적인 문자열 정의\n",
    "str = \"hello world\"\n",
    "\n",
    "# 따옴표 3개로 문자열 만들기\n",
    "str = '''I don't like it'''\n",
    "print(str)"
   ]
  },
  {
   "cell_type": "markdown",
   "metadata": {},
   "source": [
    "## 주석 만들기\n",
    "1. '#' 기호 사용\n",
    "2. 따옴표 3개 쓰기 ; '''"
   ]
  },
  {
   "cell_type": "markdown",
   "metadata": {},
   "source": [
    "## 이스케이프 문자\n",
    "1. 줄바꿈 (LRCF) : \\n\n",
    "2. 공백 : \\t"
   ]
  },
  {
   "cell_type": "code",
   "execution_count": 126,
   "metadata": {},
   "outputs": [
    {
     "name": "stdout",
     "output_type": "stream",
     "text": [
      "\tabc\n",
      "a\tbc\n",
      "ab\tc\n",
      "abc\t\n",
      "\"I did nothing!\" he said. \"Or that other thing.\"\n",
      "The world's largest rubber duck was 54'2\" by 65'7\" by 105'\n",
      "'I did nothing!' he said. 'Or that other thing.'\n",
      "The world's largest rubber duck was 54'2' by 65'7' by 105'\n"
     ]
    }
   ],
   "source": [
    "print(\"\\tabc\")  \n",
    "print(\"a\\tbc\") \n",
    "\n",
    "print(\"ab\\tc\")     \n",
    "\n",
    "print(\"abc\\t\")"
   ]
  },
  {
   "cell_type": "code",
   "execution_count": 128,
   "metadata": {},
   "outputs": [
    {
     "name": "stdout",
     "output_type": "stream",
     "text": [
      "\"I did nothing!\" he said. \"Or that other thing.\"\n",
      "The world's largest rubber duck was 54'2\" by 65'7\" by 105'\n",
      "'I did nothing!' he said. 'Or that other thing.'\n",
      "The world's largest rubber duck was 54'2' by 65'7' by 105'\n"
     ]
    }
   ],
   "source": [
    "#%% 이스케이프 문자 : 작은따옴표나 큰따옴표 표현\n",
    "testimony1=\"\\\"I did nothing!\\\" he said. \\\"Or that other thing.\\\"\"\n",
    "print(testimony1)\n",
    "\n",
    "fact1=\"The world's largest rubber duck was 54'2\\\" by 65'7\\\" by 105'\"    \n",
    "print(fact1)\n",
    "\n",
    "\n",
    "testimony2=\"\\'I did nothing!\\' he said. \\'Or that other thing.\\'\"\n",
    "print(testimony2)\n",
    "\n",
    "fact2=\"The world's largest rubber duck was 54'2\\' by 65'7\\' by 105'\"    \n",
    "print(fact2)"
   ]
  },
  {
   "cell_type": "code",
   "execution_count": 127,
   "metadata": {},
   "outputs": [
    {
     "name": "stdout",
     "output_type": "stream",
     "text": [
      "The backslash \\ bends over backwards to please you.\n",
      "The backslash (\\) bends over backwards to please you.\n",
      "The backslash \\ bends over backwards to please you.\n"
     ]
    }
   ],
   "source": [
    "speech='The backslash \\ bends over backwards to please you.'\n",
    "print(speech)\n",
    "\n",
    "speech='The backslash (\\\\) bends over backwards to please you.'\n",
    "print(speech)\n",
    "\n",
    "speech='The backslash \\\\ bends over backwards to please you.'\n",
    "print(speech)"
   ]
  },
  {
   "cell_type": "markdown",
   "metadata": {},
   "source": [
    "## 문자열 응용"
   ]
  },
  {
   "cell_type": "code",
   "execution_count": 115,
   "metadata": {},
   "outputs": [
    {
     "name": "stdout",
     "output_type": "stream",
     "text": [
      "hellohello\n",
      "hello , this is python\n"
     ]
    }
   ],
   "source": [
    "# 문자열 반복하기\n",
    "a = \"hello\"\n",
    "b = ', this is python'\n",
    "print(a * 2) # 공백이 없다.\n",
    "print(a, b) # 공백이 있다."
   ]
  },
  {
   "cell_type": "code",
   "execution_count": 116,
   "metadata": {},
   "outputs": [
    {
     "name": "stdout",
     "output_type": "stream",
     "text": [
      "string test\n",
      "string test\n",
      "str3 = This is a \"double\" quotation test\n",
      "str3's type = <class 'str'>\n",
      "str4 = This is a 'single' quotation test\n",
      "str4's type = <class 'str'>\n"
     ]
    }
   ],
   "source": [
    "print(\"string test\")\n",
    "print('string test')\n",
    "\n",
    "str3 = 'This is a \"double\" quotation test'\n",
    "print(f\"str3 = {str3}\")\n",
    "print(f\"str3's type = {type(str3)}\")\n",
    "\n",
    "str4 = \"This is a 'single' quotation test\"\n",
    "print(f\"str4 = {str4}\")\n",
    "print(f\"str4's type = {type(str4)}\")"
   ]
  },
  {
   "cell_type": "code",
   "execution_count": 117,
   "metadata": {},
   "outputs": [
    {
     "name": "stdout",
     "output_type": "stream",
     "text": [
      "Snap\n",
      "Crackle\n",
      "Nay!' said the naysayer. 'Neigh?' said the horse.\n",
      "The rare double quote in captivity: \". \n",
      "A \"two by four\" is actually 1 1/2\" x 3 1/2\". \n",
      "'There's the man that shot my paw!' cried the limping hound.\n"
     ]
    }
   ],
   "source": [
    "print('Snap')\n",
    "print(\"Crackle\")\n",
    "\n",
    "print(\"Nay!' said the naysayer. 'Neigh?' said the horse.\")\n",
    "print('The rare double quote in captivity: \". ')\n",
    "\n",
    "print('A \"two by four\" is actually 1 1/2\" x 3 1/2\". ')\n",
    "print(\"'There's the man that shot my paw!' cried the limping hound.\")"
   ]
  },
  {
   "cell_type": "code",
   "execution_count": 124,
   "metadata": {},
   "outputs": [
    {
     "name": "stdout",
     "output_type": "stream",
     "text": [
      "There was a Young Lady of Norway, \n",
      "Who casually sat in a doorway;\n",
      "When the door squeezed her flat,\n",
      "She exclaimed, \"What of that?\"\n",
      "This courageous Young Lady of Norway.\n",
      "poem2 = I do not Like thee, Doctor Fell.\n",
      "    The reason why, I cannot tell.\n",
      "            But this I know, and know full well:\n",
      "I do not like thee, Doctor Fell.\n",
      "\n",
      "poem3 = I do not Like thee, Doctor Fell.\n",
      "    The reason why, I cannot tell.\n",
      "            But this I know,      and know full well!*##:\n",
      "I do not like thee, Doctor Fell.\n",
      "\n"
     ]
    }
   ],
   "source": [
    "poem='''There was a Young Lady of Norway, \n",
    "Who casually sat in a doorway;\n",
    "When the door squeezed her flat,\n",
    "She exclaimed, \"What of that?\"\n",
    "This courageous Young Lady of Norway.'''\n",
    "print(poem)\n",
    "\n",
    "# poem='There was a Young Lady of Norway,\n",
    "poem2=\"\"\"I do not Like thee, Doctor Fell.\n",
    "    The reason why, I cannot tell.\n",
    "            But this I know, and know full well:\n",
    "I do not like thee, Doctor Fell.\n",
    "\"\"\"\n",
    "print(f\"poem2 = {poem2}\")\n",
    "\n",
    "poem3=\"\"\"I do not Like thee, Doctor Fell.\n",
    "    The reason why, I cannot tell.\n",
    "            But this I know,      and know full well!*##:\n",
    "I do not like thee, Doctor Fell.\n",
    "\"\"\"\n",
    "print(f\"poem3 = {poem3}\")"
   ]
  },
  {
   "cell_type": "markdown",
   "metadata": {},
   "source": [
    "### 문자열 추출하기\n",
    "- 문자열은 불변성을 가지고 있다.\n",
    "- 따라서 인덱싱을 통해서 문자의 일부를 수정할 수 없다."
   ]
  },
  {
   "cell_type": "code",
   "execution_count": 132,
   "metadata": {},
   "outputs": [
    {
     "name": "stdout",
     "output_type": "stream",
     "text": [
      "uvwxyz\n",
      "xyz\n",
      "penry\n"
     ]
    }
   ],
   "source": [
    "letters='abcdefghijklmnopqrstuvwxyz'\n",
    "\n",
    "print(letters[20:])\n",
    "print(letters[-3:]) # 마지막 3문자 추출\n",
    "\n",
    "print('p' + 'Henry'[1:])"
   ]
  },
  {
   "cell_type": "code",
   "execution_count": null,
   "metadata": {},
   "outputs": [
    {
     "name": "stdout",
     "output_type": "stream",
     "text": [
      "hello world\n",
      "hello world\n"
     ]
    }
   ],
   "source": [
    "# 문자열 속 원소에 접근하기 (개인적 연습)\n",
    "## 인덱스를 이용한 고전적 접근법\n",
    "str = \"hello world\"\n",
    "\n",
    "for i in range(0, len(str)):\n",
    "    if i == len(str) - 1:\n",
    "        print(str[i])\n",
    "    else:\n",
    "        print(str[i], end='')\n",
    "\n",
    "## iterator 스타일의 for문\n",
    "for char in str:\n",
    "    if char == str[len(str) - 1]:\n",
    "        print(char)\n",
    "    else:\n",
    "        print(char, end='')"
   ]
  }
 ],
 "metadata": {
  "kernelspec": {
   "display_name": "Python 3",
   "language": "python",
   "name": "python3"
  },
  "language_info": {
   "codemirror_mode": {
    "name": "ipython",
    "version": 3
   },
   "file_extension": ".py",
   "mimetype": "text/x-python",
   "name": "python",
   "nbconvert_exporter": "python",
   "pygments_lexer": "ipython3",
   "version": "3.9.7"
  },
  "orig_nbformat": 4
 },
 "nbformat": 4,
 "nbformat_minor": 2
}
