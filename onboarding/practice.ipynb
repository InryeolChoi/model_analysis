{
 "cells": [
  {
   "cell_type": "markdown",
   "metadata": {},
   "source": [
    "# 정리"
   ]
  },
  {
   "cell_type": "code",
   "execution_count": null,
   "metadata": {},
   "outputs": [],
   "source": [
    "import numpy as np\n",
    "import pandas as pd\n",
    "import random"
   ]
  },
  {
   "cell_type": "markdown",
   "metadata": {},
   "source": [
    "# 온보딩 (1), (2), (3) : python"
   ]
  },
  {
   "cell_type": "code",
   "execution_count": null,
   "metadata": {},
   "outputs": [],
   "source": [
    "\n",
    "print(bool(24))\n",
    "print(3e8)\n",
    "print(3.0 * 10 ** 8)\n",
    "print(10_00)\n",
    "\n",
    "str = 'hello world'\n",
    "print(str[:5])\n",
    "print(str[-1:])"
   ]
  },
  {
   "cell_type": "markdown",
   "metadata": {},
   "source": [
    "# 온보딩 (4) : numpy"
   ]
  },
  {
   "cell_type": "code",
   "execution_count": null,
   "metadata": {},
   "outputs": [],
   "source": [
    "print(np.array([1, 2, 3, 4, 5]))\n",
    "print(np.arange(9).reshape(3,3))\n",
    "\n",
    "print(np.linspace(1, 100, 11))\n",
    "print(np.ones(5))\n",
    "print(np.zeros(3))\n",
    "\n",
    "# 통계연산\n",
    "arr = np.arange(1, 10, 4)\n",
    "print([arr.sum(), arr.mean(), arr.std(), arr.var()])\n",
    "print([arr.min(), arr.max(), arr.cumsum(), arr.cumprod()])\n",
    "\n",
    "# 행렬연산\n",
    "A = np.array([random.randint(1, 20) for _ in range(4)]).reshape(2, 2)\n",
    "B = np.array([random.randint(1, 20) for _ in range(4)]).reshape(2, 2)\n",
    "print(A.dot(B)) # 행렬곱\n",
    "print(np.linalg.inv(A)) # 역행렬\n",
    "print(np.linalg.det(B)) # 행렬식\n",
    "print(np.transpose(A.dot(B))) # 전치\n",
    "\n",
    "# 열 합 / 행 합\n",
    "a2 = np.array([i for i in range(10, 100, 10)]).reshape(3,3)\n",
    "print(a2.sum(axis = 0))\n",
    "print(a2.sum(axis = 1))"
   ]
  },
  {
   "cell_type": "markdown",
   "metadata": {},
   "source": [
    "# 온보딩 (5) : pandas"
   ]
  },
  {
   "cell_type": "code",
   "execution_count": 15,
   "metadata": {},
   "outputs": [
    {
     "name": "stdout",
     "output_type": "stream",
     "text": [
      "0    10\n",
      "1    20\n",
      "2    30\n",
      "3    40\n",
      "4    50\n",
      "dtype: int64\n",
      "DatetimeIndex(['2019-01-08', '2019-01-09', '2019-01-10', '2019-01-11'], dtype='datetime64[ns]', freq='D')\n",
      "DatetimeIndex(['2024-04-22', '2024-04-24', '2024-04-26', '2024-04-28',\n",
      "               '2024-04-30', '2024-05-02', '2024-05-04', '2024-05-06'],\n",
      "              dtype='datetime64[ns]', freq='2D')\n",
      "DatetimeIndex(['2019-01-08 00:00:00', '2019-01-08 00:30:00',\n",
      "               '2019-01-08 01:00:00', '2019-01-08 01:30:00'],\n",
      "              dtype='datetime64[ns]', freq='30min')\n"
     ]
    },
    {
     "name": "stderr",
     "output_type": "stream",
     "text": [
      "/tmp/ipykernel_11583/250119481.py:4: FutureWarning: 'T' is deprecated and will be removed in a future version, please use 'min' instead.\n",
      "  print(pd.date_range(start = '2019-01-08', periods = 4, freq = '30T'))\n"
     ]
    }
   ],
   "source": [
    "s1 = pd.Series([i for i in range(10, 60, 10)]); print(s1)\n",
    "print(pd.date_range(start = '2019-01-08', end = '2019-01-11'))\n",
    "print(pd.date_range(start = pd.to_datetime('today').date(), periods=8, freq='2D'))\n",
    "print(pd.date_range(start = '2019-01-08', periods = 4, freq = '30T'))\n",
    "print(pd.date_range(start = '2019-01-08', periods=4, freq='W'))\n",
    "\n",
    "print()"
   ]
  }
 ],
 "metadata": {
  "kernelspec": {
   "display_name": "Python 3",
   "language": "python",
   "name": "python3"
  },
  "language_info": {
   "codemirror_mode": {
    "name": "ipython",
    "version": 3
   },
   "file_extension": ".py",
   "mimetype": "text/x-python",
   "name": "python",
   "nbconvert_exporter": "python",
   "pygments_lexer": "ipython3",
   "version": "3.10.13"
  }
 },
 "nbformat": 4,
 "nbformat_minor": 2
}
