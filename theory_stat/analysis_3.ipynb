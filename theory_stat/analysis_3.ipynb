{
 "cells": [
  {
   "cell_type": "markdown",
   "metadata": {},
   "source": [
    "# 분산분석\n",
    "* 세 개 이상의 평균치의 비교\n",
    "* 평균비교인데 왜 분산을 비교할까?\n",
    "* 세 개의 모집단 비교 : 2개씩 묶어서 가설검정 시 문제가 생긴다.\n",
    "\t* 종합적 해석 불가. 1종 오류가 높아지는 단점이 존재.\n",
    "\t* 따라서 동시비교를 해야함.  \n",
    "$$H_0 : \\mu_1 \\neq \\mu_2 \\neq \\mu_3~~vs~~H_1 : not~H_0$$ \n",
    "* 이후 사후검정 진행"
   ]
  },
  {
   "cell_type": "code",
   "execution_count": 12,
   "metadata": {},
   "outputs": [],
   "source": [
    "import pandas as pd\n",
    "import numpy as np\n",
    "import matplotlib.pyplot as plt\n",
    "from scipy import stats\n",
    "from scipy.stats import f_oneway"
   ]
  },
  {
   "cell_type": "markdown",
   "metadata": {},
   "source": [
    "## 요인과 처리\n",
    "* 요인 : 변수\n",
    "* 처리 : 요인을 몇 개의 단위로 구분한 것.\n",
    "* 요인이 1개인 분산분석 : 일원 분산분석 (one-way ANOVA)\n",
    "* 요인이 2개인 분산분석 : 이원 분산분석 (two-way ANOVA)"
   ]
  },
  {
   "cell_type": "markdown",
   "metadata": {},
   "source": [
    "## 분산분석의 원리 \n",
    "* '집단마다의 평균'와 '전체 평균'의 분산 : 집단 간 편차\n",
    "* 집단 1 속 $x_i$ 와 집단 1의 평균의 분산 : 집단 내 편차\n",
    "* 전체 변동 = 집단 간 편차 + 집단 내 편차\n",
    "\n",
    "$$(X_{ij} - \\bar{X})^2 = (X_{ij} - \\bar{X_i})^2 + (X_{i} - \\bar{X})^2$$\n",
    "\n",
    "\n",
    "* 사과를 두 집단으로 나눠서 A 집단은 비료를 주고, B 집단은 비료를 주지 않았다.\n",
    "* 그런데, B 집단 안에서도 사과의 수확량은 차이가 났다.\n",
    "* 그렇다면, A와 B의 차이 (집단 간 차이) => 설명 가능한 변동\n",
    "* B 안에서의 차이 (집단 내 차이) => 설명 불가능한 변동"
   ]
  },
  {
   "cell_type": "markdown",
   "metadata": {},
   "source": [
    "## 모수적 방법\n",
    "### 1. 일원 분산분석 : 정규성, 등분산성  \n",
    "\n",
    "<정규성 검정 / 등분산 검정>\n",
    "* 정규성 검정\n",
    "* Bartelett's test / Levene's test\n",
    " \n",
    "<사후검정, 다중비교>\n",
    "* 등분산 만족 시, scheffe, bonferroni, tukey HSD, SNK, Duncan, LSD\n",
    "* 집단별로 표본 수가 같으면, tukey HSD, Duncan, scheffe\n",
    "* 집단별로 표본의 수가 다르면, scheffe\n",
    " \n",
    "<비모수적 방법>\n",
    "* 크루스칼-윌리스 검정"
   ]
  },
  {
   "cell_type": "code",
   "execution_count": 3,
   "metadata": {},
   "outputs": [],
   "source": [
    "# example 1. 비료에 따른 사과의 수확량 차이\n",
    "a = [25, 29, 27, 23, 22, 25]\n",
    "b = [34, 36, 38, 32, 35, 35]\n",
    "c = [29, 31, 27, 26, 25, 27]"
   ]
  },
  {
   "cell_type": "code",
   "execution_count": 4,
   "metadata": {},
   "outputs": [],
   "source": [
    "a1 = pd.DataFrame(a)\n",
    "b1 = pd.DataFrame(b)\n",
    "c1 = pd.DataFrame(c)\n",
    "\n",
    "a2 = pd.Series(a)\n",
    "b2 = pd.Series(b)\n",
    "c2 = pd.Series(c)"
   ]
  },
  {
   "cell_type": "code",
   "execution_count": 5,
   "metadata": {},
   "outputs": [
    {
     "name": "stdout",
     "output_type": "stream",
     "text": [
      "<class 'pandas.core.frame.DataFrame'>\n",
      "RangeIndex: 6 entries, 0 to 5\n",
      "Data columns (total 1 columns):\n",
      " #   Column  Non-Null Count  Dtype\n",
      "---  ------  --------------  -----\n",
      " 0   0       6 non-null      int64\n",
      "dtypes: int64(1)\n",
      "memory usage: 176.0 bytes\n",
      "None\n"
     ]
    }
   ],
   "source": [
    "print(a1.info())"
   ]
  },
  {
   "cell_type": "code",
   "execution_count": 8,
   "metadata": {},
   "outputs": [
    {
     "data": {
      "image/png": "[encoded data removed]",
      "text/plain": [
       "<Figure size 640x480 with 1 Axes>"
      ]
     },
     "metadata": {},
     "output_type": "display_data"
    }
   ],
   "source": [
    "df = pd.DataFrame({'a' : a, 'b' : b, 'c' : c})\n",
    "# print(df.describe())\n",
    "ax = plt.boxplot(df, vert=True, meanline=True)\n",
    "ax = plt.xticks([1, 2, 3], ['a', 'b', 'c'])\n",
    "plt.show()"
   ]
  },
  {
   "cell_type": "markdown",
   "metadata": {},
   "source": [
    "### 정규성 검정"
   ]
  },
  {
   "cell_type": "code",
   "execution_count": 23,
   "metadata": {},
   "outputs": [
    {
     "name": "stdout",
     "output_type": "stream",
     "text": [
      "0.8441123854385228\n",
      "0.9328373375630236\n",
      "0.659085504909071\n"
     ]
    }
   ],
   "source": [
    "def normality_test(data):\n",
    "\ttest_stat, pvalue = stats.shapiro(data)\n",
    "\tprint(pvalue)\n",
    "\n",
    "normality_test(df['a'])\n",
    "normality_test(df['b'])\n",
    "normality_test(df['c'])"
   ]
  },
  {
   "cell_type": "markdown",
   "metadata": {},
   "source": [
    "### 등분산성 검정"
   ]
  },
  {
   "cell_type": "code",
   "execution_count": 26,
   "metadata": {},
   "outputs": [
    {
     "name": "stdout",
     "output_type": "stream",
     "text": [
      "0.8607435648095305\n"
     ]
    }
   ],
   "source": [
    "test_stat, pvalue = stats.bartlett(df['a'], df['b'], df['c'])\n",
    "print(pvalue)"
   ]
  },
  {
   "cell_type": "code",
   "execution_count": 27,
   "metadata": {},
   "outputs": [
    {
     "name": "stdout",
     "output_type": "stream",
     "text": [
      "0.8425719753065651\n"
     ]
    }
   ],
   "source": [
    "test_stat, pvalue = stats.levene(df['a'], df['b'], df['c'])\n",
    "print(pvalue)"
   ]
  },
  {
   "cell_type": "markdown",
   "metadata": {},
   "source": [
    "### 예시 1 : 데이터프레임 활용"
   ]
  },
  {
   "cell_type": "code",
   "execution_count": 32,
   "metadata": {},
   "outputs": [],
   "source": [
    "df = pd.DataFrame({'product' : a + b + c,\n",
    "\t\t\t\t   'group' : np.repeat(['a', 'b', 'c'], repeats=6)})"
   ]
  },
  {
   "cell_type": "code",
   "execution_count": 36,
   "metadata": {},
   "outputs": [
    {
     "name": "stdout",
     "output_type": "stream",
     "text": [
      "            df      sum_sq     mean_sq          F    PR(>F)\n",
      "group      2.0  316.777778  158.388889  31.124454  0.000005\n",
      "Residual  15.0   76.333333    5.088889        NaN       NaN\n"
     ]
    }
   ],
   "source": [
    "import statsmodels.api as sm\n",
    "from statsmodels.formula.api import ols\n",
    "\n",
    "model = ols('product ~ group', data=df).fit()\n",
    "result = sm.stats.anova_lm(model)\n",
    "print(result)"
   ]
  },
  {
   "cell_type": "code",
   "execution_count": 44,
   "metadata": {},
   "outputs": [
    {
     "name": "stdout",
     "output_type": "stream",
     "text": [
      "test_stat : 31.124454148471635\n",
      "pvalue : 4.586610000570138e-06\n"
     ]
    }
   ],
   "source": [
    "test_stat = result.iloc[0, 3]\n",
    "pvalue = result.iloc[0, 4]\n",
    "\n",
    "print(f\"test_stat : {test_stat}\")\n",
    "print(f\"pvalue : {pvalue}\")"
   ]
  },
  {
   "cell_type": "markdown",
   "metadata": {},
   "source": [
    "### 사후검정 : turkey HSD"
   ]
  },
  {
   "cell_type": "code",
   "execution_count": 45,
   "metadata": {},
   "outputs": [
    {
     "name": "stdout",
     "output_type": "stream",
     "text": [
      "Multiple Comparison of Means - Tukey HSD, FWER=0.05 \n",
      "====================================================\n",
      "group1 group2 meandiff p-adj   lower   upper  reject\n",
      "----------------------------------------------------\n",
      "     a      b   9.8333    0.0  6.4503 13.2163   True\n",
      "     a      c   2.3333 0.2059 -1.0497  5.7163  False\n",
      "     b      c     -7.5 0.0001 -10.883  -4.117   True\n",
      "----------------------------------------------------\n"
     ]
    }
   ],
   "source": [
    "from statsmodels.stats.multicomp import pairwise_tukeyhsd\n",
    "\n",
    "tucky = pairwise_tukeyhsd(endog=df['product'], groups=df['group'], alpha=0.05)\n",
    "print(tucky)"
   ]
  },
  {
   "cell_type": "markdown",
   "metadata": {},
   "source": [
    "## 비모수적 방법"
   ]
  },
  {
   "cell_type": "code",
   "execution_count": 46,
   "metadata": {},
   "outputs": [
    {
     "name": "stdout",
     "output_type": "stream",
     "text": [
      "test_stat : 12.553527980535279, pvalue : 0.0018794727562668227\n"
     ]
    }
   ],
   "source": [
    "# 크루스칼-윌리스\n",
    "test_stat, pvalue = stats.kruskal(a, b, c)\n",
    "print(f\"test_stat : {test_stat}, pvalue : {pvalue}\")"
   ]
  }
 ],
 "metadata": {
  "kernelspec": {
   "display_name": "Python 3",
   "language": "python",
   "name": "python3"
  },
  "language_info": {
   "codemirror_mode": {
    "name": "ipython",
    "version": 3
   },
   "file_extension": ".py",
   "mimetype": "text/x-python",
   "name": "python",
   "nbconvert_exporter": "python",
   "pygments_lexer": "ipython3",
   "version": "3.10.12"
  }
 },
 "nbformat": 4,
 "nbformat_minor": 2
}
