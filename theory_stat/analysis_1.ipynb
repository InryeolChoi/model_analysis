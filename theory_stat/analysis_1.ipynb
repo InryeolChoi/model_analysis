{
 "cells": [
  {
   "cell_type": "markdown",
   "metadata": {},
   "source": [
    "# 교차분석\n",
    "* 2차원. y : 범주형 <=> x : 범주형\n",
    "* 교차표, 분할표를 작성해서 분석함.\n",
    "* 카이제곱분포를 이용\n",
    "* 카이제곱분석 이라고도 함."
   ]
  },
  {
   "cell_type": "markdown",
   "metadata": {},
   "source": [
    "## 이론적 설명\n",
    "* 카이제곱분석\n",
    "    * 적합도 검정 : 특정한 분포를 따르는지 검정\n",
    "    * 독립성 검정 : 분할표 상 변수 간의 연관성 검정\n",
    "    * 동질성 검정 : 분할표 상 두 변수에 대해 모집단 비율이 같은가\n",
    "* 독립성 / 동질성은 가설에서 차이가 나나, 검정 방법은 동일."
   ]
  },
  {
   "cell_type": "code",
   "execution_count": 2,
   "metadata": {},
   "outputs": [],
   "source": [
    "import pandas as pd\n",
    "import numpy as np \n",
    "import matplotlib.pyplot as plt\n",
    "from scipy.stats import chisquare"
   ]
  },
  {
   "cell_type": "markdown",
   "metadata": {},
   "source": [
    "## 적합도 검정\n",
    "* 관측값이 특정 확률분포를 따르는지 보기\n",
    "* ex. 주사위가 120번 던져졌을 때, 주사위가 균등하게 되어있는지 유의수준 5% 하에 검정"
   ]
  },
  {
   "cell_type": "code",
   "execution_count": 18,
   "metadata": {},
   "outputs": [],
   "source": [
    "def stat_result(x):\n",
    "    arr = list(x)\n",
    "    for i in range(0, len(arr)):\n",
    "        print(arr[i])"
   ]
  },
  {
   "cell_type": "code",
   "execution_count": 22,
   "metadata": {},
   "outputs": [
    {
     "data": {
      "text/plain": [
       "Power_divergenceResult(statistic=7.8, pvalue=0.1676079313513126)"
      ]
     },
     "execution_count": 22,
     "metadata": {},
     "output_type": "execute_result"
    }
   ],
   "source": [
    "obs_freq = [22, 19, 26, 25, 17, 11]\n",
    "exp_freq = [20, 20, 20, 20, 20, 20]\n",
    "\n",
    "result = chisquare(obs_freq, f_exp=exp_freq)\n",
    "result"
   ]
  },
  {
   "cell_type": "code",
   "execution_count": 21,
   "metadata": {},
   "outputs": [
    {
     "name": "stdout",
     "output_type": "stream",
     "text": [
      "7.8\n",
      "0.1676079313513126\n"
     ]
    }
   ],
   "source": [
    "stat_result(result)"
   ]
  },
  {
   "cell_type": "code",
   "execution_count": null,
   "metadata": {},
   "outputs": [],
   "source": []
  },
  {
   "cell_type": "markdown",
   "metadata": {},
   "source": [
    "# 상관분석\n",
    "* "
   ]
  },
  {
   "cell_type": "code",
   "execution_count": null,
   "metadata": {},
   "outputs": [],
   "source": []
  }
 ],
 "metadata": {
  "kernelspec": {
   "display_name": "base",
   "language": "python",
   "name": "python3"
  },
  "language_info": {
   "codemirror_mode": {
    "name": "ipython",
    "version": 3
   },
   "file_extension": ".py",
   "mimetype": "text/x-python",
   "name": "python",
   "nbconvert_exporter": "python",
   "pygments_lexer": "ipython3",
   "version": "3.9.7"
  },
  "orig_nbformat": 4
 },
 "nbformat": 4,
 "nbformat_minor": 2
}
