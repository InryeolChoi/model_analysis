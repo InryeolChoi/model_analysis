{
 "cells": [
  {
   "cell_type": "markdown",
   "metadata": {},
   "source": [
    "# 교차분석\n",
    "* 2차원. y : 범주형 <=> x : 범주형\n",
    "* 교차표, 분할표를 작성해서 분석함.\n",
    "* 카이제곱분포를 이용\n",
    "* 카이제곱분석 이라고도 함."
   ]
  },
  {
   "cell_type": "markdown",
   "metadata": {},
   "source": [
    "## 이론적 설명\n",
    "* 카이제곱분석\n",
    "    * 적합도 검정 : 특정한 분포를 따르는지 검정\n",
    "    * 독립성 검정 : 분할표 상 변수 간의 연관성 검정\n",
    "    * 동질성 검정 : 분할표 상 두 변수에 대해 모집단 비율이 같은가\n",
    "* 독립성 / 동질성은 가설에서 차이가 나나, 검정 방법은 동일."
   ]
  },
  {
   "cell_type": "code",
   "execution_count": 1,
   "metadata": {},
   "outputs": [],
   "source": [
    "import pandas as pd\n",
    "import numpy as np \n",
    "import matplotlib.pyplot as plt\n",
    "from scipy.stats import chisquare"
   ]
  },
  {
   "cell_type": "markdown",
   "metadata": {},
   "source": [
    "## 적합도 검정\n",
    "* 관측값이 특정 확률분포를 따르는지 보기\n",
    "* ex. 주사위가 120번 던져졌을 때, 주사위가 균등하게 되어있는지 유의수준 5% 하에 검정"
   ]
  },
  {
   "cell_type": "code",
   "execution_count": 2,
   "metadata": {},
   "outputs": [],
   "source": [
    "def stat_result(x):\n",
    "    arr = list(x)\n",
    "    for i in range(0, len(arr)):\n",
    "        print(arr[i])"
   ]
  },
  {
   "cell_type": "code",
   "execution_count": 3,
   "metadata": {},
   "outputs": [
    {
     "data": {
      "text/plain": [
       "Power_divergenceResult(statistic=7.8, pvalue=0.1676079313513126)"
      ]
     },
     "execution_count": 3,
     "metadata": {},
     "output_type": "execute_result"
    }
   ],
   "source": [
    "obs_freq = [22, 19, 26, 25, 17, 11]\n",
    "exp_freq = [20, 20, 20, 20, 20, 20]\n",
    "\n",
    "result = chisquare(obs_freq, f_exp=exp_freq)\n",
    "result"
   ]
  },
  {
   "cell_type": "code",
   "execution_count": 4,
   "metadata": {},
   "outputs": [
    {
     "name": "stdout",
     "output_type": "stream",
     "text": [
      "7.8\n",
      "0.1676079313513126\n"
     ]
    }
   ],
   "source": [
    "stat_result(result)"
   ]
  },
  {
   "cell_type": "markdown",
   "metadata": {},
   "source": [
    "## 독립성 검정\n",
    "* 두 변수 간의 관계가 독립인지 아닌지 분석하기\n",
    "* 독립이 아니라면 관련이 있다고 해석"
   ]
  },
  {
   "cell_type": "code",
   "execution_count": 5,
   "metadata": {},
   "outputs": [
    {
     "name": "stdout",
     "output_type": "stream",
     "text": [
      "7.706091389035719\n",
      "0.021215023459771897\n",
      "2\n",
      "[[20.52 15.48]\n",
      " [19.95 15.05]\n",
      " [16.53 12.47]]\n"
     ]
    }
   ],
   "source": [
    "obs = pd.DataFrame({'남' : [26, 20, 11], '여' : [10, 15, 18]})\n",
    "obs.index = ['만족', '보통', '불만족']\n",
    "\n",
    "from scipy.stats import chi2_contingency\n",
    "chiresult = chi2_contingency(obs, correction = False)\n",
    "stat_result(chiresult)"
   ]
  },
  {
   "cell_type": "markdown",
   "metadata": {},
   "source": [
    "## 동질성 검정\n",
    "* 분할표 상 두 변수에 대해서 모집단 비율이 똑같은지 검정\n",
    "* 동질성 검정 / 독립성 검정은 코드는 같으나, 가설이 다름\n",
    "\n",
    "`H_0 : 남/녀 간의 찬성비율이 같다`"
   ]
  },
  {
   "cell_type": "code",
   "execution_count": 6,
   "metadata": {},
   "outputs": [
    {
     "name": "stdout",
     "output_type": "stream",
     "text": [
      "8.791208791208792\n",
      "0.003026856189129367\n",
      "1\n",
      "[[35. 35.]\n",
      " [65. 65.]]\n"
     ]
    }
   ],
   "source": [
    "obs = pd.DataFrame({'남' : [25, 75], '여' : [45, 55]})\n",
    "obs.index = ['만족', '반대']\n",
    "\n",
    "from scipy.stats import chi2_contingency\n",
    "chiresult = chi2_contingency(obs, correction = False)\n",
    "stat_result(chiresult)"
   ]
  },
  {
   "cell_type": "markdown",
   "metadata": {},
   "source": [
    "## 실습 : usedcars 데이터"
   ]
  },
  {
   "cell_type": "code",
   "execution_count": 7,
   "metadata": {},
   "outputs": [],
   "source": [
    "# 데이터 불러들이기\n",
    "car = pd.read_csv(\"../data/usedcars.csv\", encoding='cp949')"
   ]
  },
  {
   "cell_type": "code",
   "execution_count": 8,
   "metadata": {},
   "outputs": [
    {
     "data": {
      "text/html": [
       "<div>\n",
       "<style scoped>\n",
       "    .dataframe tbody tr th:only-of-type {\n",
       "        vertical-align: middle;\n",
       "    }\n",
       "\n",
       "    .dataframe tbody tr th {\n",
       "        vertical-align: top;\n",
       "    }\n",
       "\n",
       "    .dataframe thead th {\n",
       "        text-align: right;\n",
       "    }\n",
       "</style>\n",
       "<table border=\"1\" class=\"dataframe\">\n",
       "  <thead>\n",
       "    <tr style=\"text-align: right;\">\n",
       "      <th>maker</th>\n",
       "      <th>GM대우</th>\n",
       "      <th>기아</th>\n",
       "      <th>르노삼성</th>\n",
       "      <th>쉐보레</th>\n",
       "      <th>쎄미시스코</th>\n",
       "      <th>아리아워크스루밴</th>\n",
       "      <th>오딧</th>\n",
       "      <th>제네시스</th>\n",
       "      <th>케이씨</th>\n",
       "      <th>현대</th>\n",
       "    </tr>\n",
       "    <tr>\n",
       "      <th>fuel</th>\n",
       "      <th></th>\n",
       "      <th></th>\n",
       "      <th></th>\n",
       "      <th></th>\n",
       "      <th></th>\n",
       "      <th></th>\n",
       "      <th></th>\n",
       "      <th></th>\n",
       "      <th></th>\n",
       "      <th></th>\n",
       "    </tr>\n",
       "  </thead>\n",
       "  <tbody>\n",
       "    <tr>\n",
       "      <th>LPG</th>\n",
       "      <td>0</td>\n",
       "      <td>2</td>\n",
       "      <td>0</td>\n",
       "      <td>0</td>\n",
       "      <td>0</td>\n",
       "      <td>0</td>\n",
       "      <td>0</td>\n",
       "      <td>0</td>\n",
       "      <td>0</td>\n",
       "      <td>0</td>\n",
       "    </tr>\n",
       "    <tr>\n",
       "      <th>가솔린</th>\n",
       "      <td>1</td>\n",
       "      <td>11</td>\n",
       "      <td>1</td>\n",
       "      <td>2</td>\n",
       "      <td>0</td>\n",
       "      <td>0</td>\n",
       "      <td>0</td>\n",
       "      <td>9</td>\n",
       "      <td>0</td>\n",
       "      <td>18</td>\n",
       "    </tr>\n",
       "    <tr>\n",
       "      <th>디젤</th>\n",
       "      <td>3</td>\n",
       "      <td>8</td>\n",
       "      <td>1</td>\n",
       "      <td>1</td>\n",
       "      <td>0</td>\n",
       "      <td>1</td>\n",
       "      <td>1</td>\n",
       "      <td>0</td>\n",
       "      <td>1</td>\n",
       "      <td>9</td>\n",
       "    </tr>\n",
       "    <tr>\n",
       "      <th>전기</th>\n",
       "      <td>0</td>\n",
       "      <td>0</td>\n",
       "      <td>0</td>\n",
       "      <td>0</td>\n",
       "      <td>1</td>\n",
       "      <td>0</td>\n",
       "      <td>0</td>\n",
       "      <td>0</td>\n",
       "      <td>0</td>\n",
       "      <td>0</td>\n",
       "    </tr>\n",
       "  </tbody>\n",
       "</table>\n",
       "</div>"
      ],
      "text/plain": [
       "maker  GM대우  기아  르노삼성  쉐보레  쎄미시스코  아리아워크스루밴  오딧  제네시스  케이씨  현대\n",
       "fuel                                                          \n",
       "LPG       0   2     0    0      0         0   0     0    0   0\n",
       "가솔린       1  11     1    2      0         0   0     9    0  18\n",
       "디젤        3   8     1    1      0         1   1     0    1   9\n",
       "전기        0   0     0    0      1         0   0     0    0   0"
      ]
     },
     "execution_count": 8,
     "metadata": {},
     "output_type": "execute_result"
    }
   ],
   "source": [
    "# 교차표 생성\n",
    "result = pd.crosstab(car.fuel, car.maker)\n",
    "result"
   ]
  },
  {
   "cell_type": "code",
   "execution_count": 9,
   "metadata": {},
   "outputs": [
    {
     "name": "stdout",
     "output_type": "stream",
     "text": [
      "88.70873015873016\n",
      "1.6965542576410755e-08\n",
      "27\n",
      "[[1.14285714e-01 6.00000000e-01 5.71428571e-02 8.57142857e-02\n",
      "  2.85714286e-02 2.85714286e-02 2.85714286e-02 2.57142857e-01\n",
      "  2.85714286e-02 7.71428571e-01]\n",
      " [2.40000000e+00 1.26000000e+01 1.20000000e+00 1.80000000e+00\n",
      "  6.00000000e-01 6.00000000e-01 6.00000000e-01 5.40000000e+00\n",
      "  6.00000000e-01 1.62000000e+01]\n",
      " [1.42857143e+00 7.50000000e+00 7.14285714e-01 1.07142857e+00\n",
      "  3.57142857e-01 3.57142857e-01 3.57142857e-01 3.21428571e+00\n",
      "  3.57142857e-01 9.64285714e+00]\n",
      " [5.71428571e-02 3.00000000e-01 2.85714286e-02 4.28571429e-02\n",
      "  1.42857143e-02 1.42857143e-02 1.42857143e-02 1.28571429e-01\n",
      "  1.42857143e-02 3.85714286e-01]]\n"
     ]
    }
   ],
   "source": [
    "# H0 : maker와 fuel 변수는 연관성이 있다.\n",
    "\n",
    "from scipy.stats import chi2_contingency\n",
    "result1 = chi2_contingency(result)\n",
    "stat_result(result1)"
   ]
  },
  {
   "cell_type": "code",
   "execution_count": 10,
   "metadata": {},
   "outputs": [
    {
     "name": "stdout",
     "output_type": "stream",
     "text": [
      "     남   여\n",
      "만족  25  45\n",
      "반대  75  55\n"
     ]
    },
    {
     "data": {
      "text/plain": [
       "(0.4074074074074074, 0.0046790480765882166)"
      ]
     },
     "execution_count": 10,
     "metadata": {},
     "output_type": "execute_result"
    }
   ],
   "source": [
    "# 결과에 0이 너무 많으므로, fisher exact 검정 활용\n",
    "import scipy.stats as stats\n",
    "print(obs.iloc[0:2, 0:2])\n",
    "\n",
    "result_fisher = stats.fisher_exact(obs.iloc[0:2, 0:2], alternative='two-sided')\n",
    "result_fisher"
   ]
  },
  {
   "cell_type": "markdown",
   "metadata": {},
   "source": [
    "# 상관분석 : 모수적\n",
    "* 수치형 - 수치형\n",
    "* 회귀분석과의 차이?\n",
    "    * 상관분석 : 독립 / 종속 이라는 개념이 등장하지 않음.\n",
    "    * 회귀분석 : 독립 / 종속 이라는 개념이 등장. (시간적 선후관계 등장)\n",
    "* 보통 상관분석 -> 회귀분석 순서로 진행.\n",
    "* 방향성을 체크하는 것이 목표"
   ]
  },
  {
   "cell_type": "markdown",
   "metadata": {},
   "source": [
    "## 실습 : 초등학생 data"
   ]
  },
  {
   "cell_type": "code",
   "execution_count": 11,
   "metadata": {},
   "outputs": [
    {
     "name": "stdout",
     "output_type": "stream",
     "text": [
      "<class 'pandas.core.frame.DataFrame'>\n",
      "RangeIndex: 98 entries, 0 to 97\n",
      "Data columns (total 2 columns):\n",
      " #   Column  Non-Null Count  Dtype  \n",
      "---  ------  --------------  -----  \n",
      " 0   키       98 non-null     float64\n",
      " 1   몸무게     98 non-null     float64\n",
      "dtypes: float64(2)\n",
      "memory usage: 1.7 KB\n"
     ]
    }
   ],
   "source": [
    "data = pd.read_excel(\"../data/초등학교3학년_남자.xlsx\")\n",
    "data.info()"
   ]
  },
  {
   "cell_type": "code",
   "execution_count": 12,
   "metadata": {},
   "outputs": [
    {
     "name": "stdout",
     "output_type": "stream",
     "text": [
      "           height     weight\n",
      "count   98.000000  98.000000\n",
      "mean   132.130612  31.536735\n",
      "std     12.395954   9.699361\n",
      "min    110.900000  17.200000\n",
      "25%    122.975000  24.150000\n",
      "50%    131.150000  28.950000\n",
      "75%    140.725000  39.575000\n",
      "max    163.000000  56.700000\n"
     ]
    }
   ],
   "source": [
    "data = pd.DataFrame(data)\n",
    "data.columns = ['height', 'weight']\n",
    "print(data.describe(), end=\"\\n\")"
   ]
  },
  {
   "cell_type": "code",
   "execution_count": 13,
   "metadata": {},
   "outputs": [
    {
     "data": {
      "image/png": "[encoded data removed]",
      "text/plain": [
       "<Figure size 576x432 with 1 Axes>"
      ]
     },
     "metadata": {
      "needs_background": "light"
     },
     "output_type": "display_data"
    }
   ],
   "source": [
    "plt.figure(figsize=(8, 6))\n",
    "plt.scatter(data['height'], data['weight'])\n",
    "plt.grid(True)\n",
    "plt.xlabel('height')\n",
    "plt.ylabel('weight')\n",
    "plt.show()"
   ]
  },
  {
   "cell_type": "code",
   "execution_count": 14,
   "metadata": {},
   "outputs": [
    {
     "name": "stdout",
     "output_type": "stream",
     "text": [
      "(0.8583011404409244, 1.4375440398437243e-29)\n",
      "reject H0\n"
     ]
    }
   ],
   "source": [
    "# ho : rho = 0\n",
    "pvalue = 0.05\n",
    "corr = stats.pearsonr(data.height, data.weight)\n",
    "print(corr)\n",
    "\n",
    "if corr[1] < pvalue:\n",
    "    print(\"reject H0\")\n",
    "else:\n",
    "    print(\"failed to reject H0\")"
   ]
  },
  {
   "cell_type": "markdown",
   "metadata": {},
   "source": [
    "## 실습 : iris - 붗꽃 data"
   ]
  },
  {
   "cell_type": "code",
   "execution_count": 15,
   "metadata": {},
   "outputs": [
    {
     "name": "stdout",
     "output_type": "stream",
     "text": [
      "anagrams anscombe attention brain_networks car_crashes diamonds dots dowjones exercise flights fmri geyser glue healthexp iris mpg penguins planets seaice taxis tips titanic anagrams anagrams anscombe anscombe attention attention brain_networks brain_networks car_crashes car_crashes diamonds diamonds dots dots dowjones dowjones exercise exercise flights flights fmri fmri geyser geyser glue glue healthexp healthexp iris iris mpg mpg penguins penguins planets planets seaice seaice taxis taxis tips tips titanic titanic anagrams anscombe attention brain_networks car_crashes diamonds dots dowjones exercise flights fmri geyser glue healthexp iris mpg penguins planets seaice taxis tips titanic "
     ]
    }
   ],
   "source": [
    "import seaborn as sns\n",
    "list = sns.get_dataset_names()\n",
    "for name in list: print(name, end=' ')"
   ]
  },
  {
   "cell_type": "code",
   "execution_count": 16,
   "metadata": {},
   "outputs": [
    {
     "name": "stdout",
     "output_type": "stream",
     "text": [
      "<class 'pandas.core.frame.DataFrame'>\n",
      "RangeIndex: 150 entries, 0 to 149\n",
      "Data columns (total 5 columns):\n",
      " #   Column        Non-Null Count  Dtype  \n",
      "---  ------        --------------  -----  \n",
      " 0   sepal_length  150 non-null    float64\n",
      " 1   sepal_width   150 non-null    float64\n",
      " 2   petal_length  150 non-null    float64\n",
      " 3   petal_width   150 non-null    float64\n",
      " 4   species       150 non-null    object \n",
      "dtypes: float64(4), object(1)\n",
      "memory usage: 6.0+ KB\n"
     ]
    }
   ],
   "source": [
    "iris = sns.load_dataset('iris')\n",
    "iris.info()"
   ]
  },
  {
   "cell_type": "code",
   "execution_count": 17,
   "metadata": {},
   "outputs": [
    {
     "data": {
      "text/plain": [
       "<AxesSubplot:xlabel='sepal_length', ylabel='sepal_width'>"
      ]
     },
     "execution_count": 17,
     "metadata": {},
     "output_type": "execute_result"
    },
    {
     "data": {
      "image/png": "[encoded data removed]",
      "text/plain": [
       "<Figure size 432x288 with 1 Axes>"
      ]
     },
     "metadata": {
      "needs_background": "light"
     },
     "output_type": "display_data"
    }
   ],
   "source": [
    "sns.scatterplot(data = iris, x = 'sepal_length', y = 'sepal_width')"
   ]
  },
  {
   "cell_type": "code",
   "execution_count": 18,
   "metadata": {},
   "outputs": [
    {
     "data": {
      "text/plain": [
       "[(4.0, 9.0), (1.0, 5.0)]"
      ]
     },
     "execution_count": 18,
     "metadata": {},
     "output_type": "execute_result"
    },
    {
     "data": {
      "image/png": "[encoded data removed]",
      "text/plain": [
       "<Figure size 432x288 with 1 Axes>"
      ]
     },
     "metadata": {
      "needs_background": "light"
     },
     "output_type": "display_data"
    }
   ],
   "source": [
    "sns.scatterplot(data = iris, x = 'sepal_length', y = 'sepal_width').set(xlim = (4, 9), ylim = (1, 5))"
   ]
  },
  {
   "cell_type": "code",
   "execution_count": 19,
   "metadata": {},
   "outputs": [
    {
     "data": {
      "text/html": [
       "<div>\n",
       "<style scoped>\n",
       "    .dataframe tbody tr th:only-of-type {\n",
       "        vertical-align: middle;\n",
       "    }\n",
       "\n",
       "    .dataframe tbody tr th {\n",
       "        vertical-align: top;\n",
       "    }\n",
       "\n",
       "    .dataframe thead th {\n",
       "        text-align: right;\n",
       "    }\n",
       "</style>\n",
       "<table border=\"1\" class=\"dataframe\">\n",
       "  <thead>\n",
       "    <tr style=\"text-align: right;\">\n",
       "      <th></th>\n",
       "      <th>sepal_length</th>\n",
       "      <th>sepal_width</th>\n",
       "    </tr>\n",
       "  </thead>\n",
       "  <tbody>\n",
       "    <tr>\n",
       "      <th>sepal_length</th>\n",
       "      <td>1.00000</td>\n",
       "      <td>-0.11757</td>\n",
       "    </tr>\n",
       "    <tr>\n",
       "      <th>sepal_width</th>\n",
       "      <td>-0.11757</td>\n",
       "      <td>1.00000</td>\n",
       "    </tr>\n",
       "  </tbody>\n",
       "</table>\n",
       "</div>"
      ],
      "text/plain": [
       "              sepal_length  sepal_width\n",
       "sepal_length       1.00000     -0.11757\n",
       "sepal_width       -0.11757      1.00000"
      ]
     },
     "execution_count": 19,
     "metadata": {},
     "output_type": "execute_result"
    }
   ],
   "source": [
    "iris[['sepal_length', 'sepal_width']].corr()"
   ]
  },
  {
   "cell_type": "code",
   "execution_count": 20,
   "metadata": {},
   "outputs": [
    {
     "data": {
      "text/html": [
       "<div>\n",
       "<style scoped>\n",
       "    .dataframe tbody tr th:only-of-type {\n",
       "        vertical-align: middle;\n",
       "    }\n",
       "\n",
       "    .dataframe tbody tr th {\n",
       "        vertical-align: top;\n",
       "    }\n",
       "\n",
       "    .dataframe thead th {\n",
       "        text-align: right;\n",
       "    }\n",
       "</style>\n",
       "<table border=\"1\" class=\"dataframe\">\n",
       "  <thead>\n",
       "    <tr style=\"text-align: right;\">\n",
       "      <th></th>\n",
       "      <th>sepal_length</th>\n",
       "      <th>sepal_width</th>\n",
       "    </tr>\n",
       "  </thead>\n",
       "  <tbody>\n",
       "    <tr>\n",
       "      <th>sepal_length</th>\n",
       "      <td>1.00</td>\n",
       "      <td>-0.12</td>\n",
       "    </tr>\n",
       "    <tr>\n",
       "      <th>sepal_width</th>\n",
       "      <td>-0.12</td>\n",
       "      <td>1.00</td>\n",
       "    </tr>\n",
       "  </tbody>\n",
       "</table>\n",
       "</div>"
      ],
      "text/plain": [
       "              sepal_length  sepal_width\n",
       "sepal_length          1.00        -0.12\n",
       "sepal_width          -0.12         1.00"
      ]
     },
     "execution_count": 20,
     "metadata": {},
     "output_type": "execute_result"
    }
   ],
   "source": [
    "round(iris[['sepal_length', 'sepal_width']].corr(), 2)"
   ]
  },
  {
   "cell_type": "code",
   "execution_count": 21,
   "metadata": {},
   "outputs": [
    {
     "name": "stdout",
     "output_type": "stream",
     "text": [
      "              sepal_length  sepal_width  petal_length  petal_width\n",
      "sepal_length          1.00        -0.12          0.87         0.82\n",
      "sepal_width          -0.12         1.00         -0.43        -0.37\n",
      "petal_length          0.87        -0.43          1.00         0.96\n",
      "petal_width           0.82        -0.37          0.96         1.00\n"
     ]
    }
   ],
   "source": [
    "print(round(iris.corr(), 2))"
   ]
  },
  {
   "cell_type": "code",
   "execution_count": 27,
   "metadata": {},
   "outputs": [
    {
     "data": {
      "text/plain": [
       "(0.962865431402796, 4.6750039073285846e-86)"
      ]
     },
     "execution_count": 27,
     "metadata": {},
     "output_type": "execute_result"
    }
   ],
   "source": [
    "stats.pearsonr(iris['petal_length'], iris['petal_width'])"
   ]
  },
  {
   "cell_type": "code",
   "execution_count": 25,
   "metadata": {},
   "outputs": [
    {
     "data": {
      "text/plain": [
       "<AxesSubplot:>"
      ]
     },
     "execution_count": 25,
     "metadata": {},
     "output_type": "execute_result"
    },
    {
     "data": {
      "image/png": "[encoded data removed]",
      "text/plain": [
       "<Figure size 432x288 with 2 Axes>"
      ]
     },
     "metadata": {
      "needs_background": "light"
     },
     "output_type": "display_data"
    }
   ],
   "source": [
    "sns.heatmap(iris.corr(), annot=True, cmap='RdBu')"
   ]
  },
  {
   "cell_type": "code",
   "execution_count": 28,
   "metadata": {},
   "outputs": [
    {
     "data": {
      "text/plain": [
       "<AxesSubplot:>"
      ]
     },
     "execution_count": 28,
     "metadata": {},
     "output_type": "execute_result"
    },
    {
     "data": {
      "image/png": "[encoded data removed]",
      "text/plain": [
       "<Figure size 432x288 with 2 Axes>"
      ]
     },
     "metadata": {
      "needs_background": "light"
     },
     "output_type": "display_data"
    }
   ],
   "source": [
    "sns.heatmap(iris.corr(), annot=False, cmap='RdBu')"
   ]
  }
 ],
 "metadata": {
  "kernelspec": {
   "display_name": "base",
   "language": "python",
   "name": "python3"
  },
  "language_info": {
   "codemirror_mode": {
    "name": "ipython",
    "version": 3
   },
   "file_extension": ".py",
   "mimetype": "text/x-python",
   "name": "python",
   "nbconvert_exporter": "python",
   "pygments_lexer": "ipython3",
   "version": "3.9.7"
  },
  "orig_nbformat": 4
 },
 "nbformat": 4,
 "nbformat_minor": 2
}
